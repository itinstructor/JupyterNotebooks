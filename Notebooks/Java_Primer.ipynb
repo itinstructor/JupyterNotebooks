{
  "nbformat": 4,
  "nbformat_minor": 0,
  "metadata": {
    "colab": {
      "provenance": [],
      "toc_visible": true,
      "include_colab_link": true
    },
    "kernelspec": {
      "name": "python3",
      "display_name": "Python 3"
    },
    "language_info": {
      "name": "python"
    }
  },
  "cells": [
    {
      "cell_type": "markdown",
      "metadata": {
        "id": "view-in-github",
        "colab_type": "text"
      },
      "source": [
        "<a href=\"https://colab.research.google.com/github/itinstructor/JupyterNotebooks/blob/main/Notebooks/Java_Primer.ipynb\" target=\"_parent\"><img src=\"https://colab.research.google.com/assets/colab-badge.svg\" alt=\"Open In Colab\"/></a>"
      ]
    },
    {
      "cell_type": "markdown",
      "source": [
        "# Introduction to Java\n",
        "\n",
        "Java is a multi-platform programming language created in 1995 by James Gosling at Sun Microsystems (now Oracle). Before its current name, the coding language was actually first named \"OAK,\" after an oak tree that stood outside of James Gosling's office.\n",
        "\n",
        "**Fun Fact:** After running into trademark issues with the name \"OAK,\" Gosling's team needed to brainstorm some alternatives. During a coffee break, they later settled on \"Java\" — a unique name inspired by the Java espresso bean! Notice that the Java logo below resembles a cup of coffee.\n",
        "\n",
        "Java is a general-purpose, class-based, object-oriented programming language. It is a computing platform for application development. Java is fast, secure, and reliable. It is widely used for developing Java applications in laptops, data centers, data driven web sites, game consoles, scientific supercomputers, cell phones, mobile devices, etc.\n",
        "\n",
        "**Who uses Java?** Amazon, Microsoft, eBay, Google, Instagram, Meta (Facebook), Netflix, Spotify, etc."
      ],
      "metadata": {
        "id": "NHK6-350R5j0"
      }
    },
    {
      "cell_type": "markdown",
      "source": [
        "## Colab and Linux\n",
        "\n",
        "Google Colab runs in a Linux Cloud VM (Virtual Machine). You can access most of the bash commands with a `!` added in the front of the command.\n",
        "\n",
        "Run the following code to find out the Colab Linux and Java version."
      ],
      "metadata": {
        "id": "cNF2kdamSRWI"
      }
    },
    {
      "cell_type": "code",
      "source": [
        "# Display current version of Linux\n",
        "!cat /etc/*release\n",
        "# Display current version of Java\n",
        "!java --version"
      ],
      "metadata": {
        "colab": {
          "base_uri": "https://localhost:8080/"
        },
        "id": "5QFWWQ01SUMr",
        "outputId": "91c07146-dc85-46c2-99c6-0d4036ca31f9"
      },
      "execution_count": 1,
      "outputs": [
        {
          "output_type": "stream",
          "name": "stdout",
          "text": [
            "DISTRIB_ID=Ubuntu\n",
            "DISTRIB_RELEASE=22.04\n",
            "DISTRIB_CODENAME=jammy\n",
            "DISTRIB_DESCRIPTION=\"Ubuntu 22.04.3 LTS\"\n",
            "PRETTY_NAME=\"Ubuntu 22.04.3 LTS\"\n",
            "NAME=\"Ubuntu\"\n",
            "VERSION_ID=\"22.04\"\n",
            "VERSION=\"22.04.3 LTS (Jammy Jellyfish)\"\n",
            "VERSION_CODENAME=jammy\n",
            "ID=ubuntu\n",
            "ID_LIKE=debian\n",
            "HOME_URL=\"https://www.ubuntu.com/\"\n",
            "SUPPORT_URL=\"https://help.ubuntu.com/\"\n",
            "BUG_REPORT_URL=\"https://bugs.launchpad.net/ubuntu/\"\n",
            "PRIVACY_POLICY_URL=\"https://www.ubuntu.com/legal/terms-and-policies/privacy-policy\"\n",
            "UBUNTU_CODENAME=jammy\n",
            "openjdk 11.0.25 2024-10-15\n",
            "OpenJDK Runtime Environment (build 11.0.25+9-post-Ubuntu-1ubuntu122.04)\n",
            "OpenJDK 64-Bit Server VM (build 11.0.25+9-post-Ubuntu-1ubuntu122.04, mixed mode, sharing)\n"
          ]
        }
      ]
    },
    {
      "cell_type": "markdown",
      "source": [
        "## Compile Java in Colab\n",
        "What is the JDK?\n",
        "\n",
        "The JDK (Java Development Kit) is needed to compile and run Java programs. The  JDK compiles your code, written in a high-level programming language (Java), into bytecode which is then executed by the JVM (Java Virtual Machine).\n",
        "\n",
        "Colab is built on a Linux platform. We can use the JDK to compile and run Java programs with a few magic commands.\n",
        "\n",
        "**Magic** commands are special commands that can help you with running and analyzing data in your notebook. They add special functionality that is not easily available with python code or jupyter notebook interface. Magic commands are easy to spot within the code.\n",
        "\n",
        "Before we can compile a Java file, we have to write the code to a file in the Colab workspace file system. Any files written to the Colab workspace disapear when you leave your Colab session. Run the cell again to re write the file.\n",
        "\n",
        "**%%writefile** is a magic command that will write your program file to temporary file storage.\n",
        "\n",
        "**%%shell** is a magic command that gives us access to the Linux command shell (terminal).\n"
      ],
      "metadata": {
        "id": "wOanQHVdSYe1"
      }
    },
    {
      "cell_type": "markdown",
      "source": [
        "## HelloWorld.java"
      ],
      "metadata": {
        "id": "m4I-AOsNhJXr"
      }
    },
    {
      "cell_type": "code",
      "source": [
        "# Write the java file to the Linux file system\n",
        "%%writefile HelloWorld.java\n",
        "\n",
        "public class HelloWorld {\n",
        "    public static void main(String[] args) {\n",
        "        // Print to the console\n",
        "        System.out.println(\"Hello Google World!\");\n",
        "        System.out.println(\"Hello Google World!\");\n",
        "    }\n",
        "}"
      ],
      "metadata": {
        "colab": {
          "base_uri": "https://localhost:8080/"
        },
        "id": "hpDAzu9YQxQV",
        "outputId": "7b2f7cdf-d674-42b7-a82b-68c9e9993bfe"
      },
      "execution_count": null,
      "outputs": [
        {
          "output_type": "stream",
          "name": "stdout",
          "text": [
            "Overwriting HelloWorld.java\n"
          ]
        }
      ]
    },
    {
      "cell_type": "code",
      "source": [
        "%%shell\n",
        "# Compile java file to class file\n",
        "javac HelloWorld.java\n",
        "# Execute Java program\n",
        "java HelloWorld"
      ],
      "metadata": {
        "colab": {
          "base_uri": "https://localhost:8080/"
        },
        "id": "04WCRqGQRJ7h",
        "outputId": "b4f703a1-03a6-43f9-8228-52531f1d7876"
      },
      "execution_count": null,
      "outputs": [
        {
          "output_type": "stream",
          "name": "stdout",
          "text": [
            "Hello Google World!\n",
            "Hello Google World!"
          ]
        },
        {
          "output_type": "execute_result",
          "data": {
            "text/plain": []
          },
          "metadata": {},
          "execution_count": 6
        }
      ]
    },
    {
      "cell_type": "markdown",
      "source": [
        "# Variables\n",
        "Variables are locations in memory where we store data values. The value of a variable can be changed in the program, hence the name variable. Variables must be declared before they can be used.\n",
        "\n",
        "Common Java data types:\n",
        "```\n",
        "int myNum = 5;               // Integer (whole number)\n",
        "double myFloatNum = 5.99;    // Floating point number\n",
        "char myLetter = 'D';         // Character\n",
        "boolean myBool = true;       // Boolean true or false\n",
        "String myText = \"Hello\";     // String\n",
        "```\n",
        "\n",
        "A primitive data type stores the value directly in the memory address.\n",
        "There are eight primitive data types in Java.\n",
        "\n",
        "Data Type\t| Size\t| Description\n",
        "----------|-------|-------\n",
        "byte | 1 byte\t| Whole numbers from -128 to 127\n",
        "short |\t2 bytes\t| Whole numbers from -32,768 to 32,767\n",
        "int\t| 4 bytes\t| Whole numbers from -2,147,483,648 to 2,147,483,647\n",
        "long\t| 8 bytes\t| Whole numbers from -9,223,372,036,854,775,808 to 9,223,372,036,854,775,807\n",
        "float |\t4 bytes\t| Fractional numbers. 6 to 7 decimal digits\n",
        "double |\t8 bytes |\tFractional numbers. 15 decimal digits\n",
        "boolean\t| 1 bit |\tTrue or false values\n",
        "char\t| 2 bytes\t| Single character/letter or ASCII values\n",
        "\n",
        "\n",
        "The following programs show how to declare, store, calculate with, and retrieve variables."
      ],
      "metadata": {
        "id": "K-gjplivRbXx"
      }
    },
    {
      "cell_type": "markdown",
      "source": [
        "Java supports the usual arithmetic operators:\n",
        "\n",
        "Symbol | Operation\n",
        "-----|------\n",
        "\\+ | addition (also used for String concatenation)  \n",
        "- | subtraction\n",
        "\\* | multiplication\n",
        "/ | division\n",
        "% | modulus or remainder\n",
        "++ | increment\n",
        "-- | decrement"
      ],
      "metadata": {
        "id": "2YaVk5ECW_9T"
      }
    },
    {
      "cell_type": "code",
      "source": [
        "# Write the java file to the Linux file system\n",
        "%%writefile Calculations.java\n",
        "public class Calculations {\n",
        "    public static void main(String[] args) {\n",
        "        // Declare double variable types\n",
        "        double a = 10;\n",
        "        double b = 19;\n",
        "        double result;\n",
        "        // Multiply two variables\n",
        "        result = a * b;\n",
        "        // Print result to the console\n",
        "        System.out.println(a + \" * \" + b + \" = \" + result);\n",
        "    }\n",
        "}"
      ],
      "metadata": {
        "colab": {
          "base_uri": "https://localhost:8080/"
        },
        "id": "MJirqdp2TNNh",
        "outputId": "ab9f9b84-b5df-4241-8561-7792077ca4e4"
      },
      "execution_count": null,
      "outputs": [
        {
          "output_type": "stream",
          "name": "stdout",
          "text": [
            "Writing Calculations.java\n"
          ]
        }
      ]
    },
    {
      "cell_type": "code",
      "source": [
        "%%shell\n",
        "# Compile java file to class file\n",
        "javac Calculations.java\n",
        "# Execute Java program\n",
        "java Calculations"
      ],
      "metadata": {
        "colab": {
          "base_uri": "https://localhost:8080/"
        },
        "id": "sZsEhpuGTQUz",
        "outputId": "24ce2a21-798d-4104-f82e-666fcc149caf"
      },
      "execution_count": null,
      "outputs": [
        {
          "output_type": "stream",
          "name": "stdout",
          "text": [
            "10.0 * 19.0 = 190.0\n"
          ]
        },
        {
          "output_type": "execute_result",
          "data": {
            "text/plain": []
          },
          "metadata": {},
          "execution_count": 8
        }
      ]
    },
    {
      "cell_type": "code",
      "source": [
        "# Write the java file to the Linux file system\n",
        "%%writefile Main.java\n",
        "public class Main {\n",
        "  public static void main(String[] args) {\n",
        "\n",
        "    // Declare variables\n",
        "    int a = 12, b = 5;\n",
        "\n",
        "    // Addition\n",
        "    System.out.println(\"a + b = \" + (a + b));\n",
        "\n",
        "    // Subtraction\n",
        "    System.out.println(\"a - b = \" + (a - b));\n",
        "\n",
        "    // Multiplication\n",
        "    System.out.println(\"a * b = \" + (a * b));\n",
        "\n",
        "    // Division\n",
        "    System.out.println(\"a / b = \" + (a / b));\n",
        "\n",
        "    // Modulo\n",
        "    System.out.println(\"a % b = \" + (a % b));\n",
        "  }\n",
        "}"
      ],
      "metadata": {
        "colab": {
          "base_uri": "https://localhost:8080/"
        },
        "id": "jE4LeWOOVHOy",
        "outputId": "a62ba3d1-90a4-47e9-9556-beee88eee46c"
      },
      "execution_count": null,
      "outputs": [
        {
          "output_type": "stream",
          "name": "stdout",
          "text": [
            "Writing Main.java\n"
          ]
        }
      ]
    },
    {
      "cell_type": "code",
      "source": [
        "%%shell\n",
        "# Compile java file to class file\n",
        "javac Main.java\n",
        "# Execute Java program\n",
        "java Main"
      ],
      "metadata": {
        "colab": {
          "base_uri": "https://localhost:8080/"
        },
        "id": "BgTcsN70VPcv",
        "outputId": "2b96aaf4-390f-4bb3-ee8f-d3afc40d4a03"
      },
      "execution_count": null,
      "outputs": [
        {
          "output_type": "stream",
          "name": "stdout",
          "text": [
            "a + b = 17\n",
            "a - b = 7\n",
            "a * b = 60\n",
            "a / b = 2\n",
            "a % b = 2\n"
          ]
        },
        {
          "output_type": "execute_result",
          "data": {
            "text/plain": [
              ""
            ]
          },
          "metadata": {},
          "execution_count": 15
        }
      ]
    },
    {
      "cell_type": "code",
      "source": [
        "# Write the java file to the Linux file system\n",
        "%%writefile SquareCalculator.java\n",
        "public class SquareCalculator {\n",
        "    public static void main(String[] args) {\n",
        "        // Declare integer variable types\n",
        "        int length = 10;\n",
        "        int width = 19;\n",
        "        int area;\n",
        "        // Calculate the area of a square\n",
        "        area = length * width;\n",
        "        // Print result to the console\n",
        "        System.out.println(\"The area of the square is: \" + area);\n",
        "    }\n",
        "}"
      ],
      "metadata": {
        "colab": {
          "base_uri": "https://localhost:8080/"
        },
        "id": "uTIv_gKrSI6Z",
        "outputId": "2b26ee59-6bd0-4639-9593-63c19525351b"
      },
      "execution_count": null,
      "outputs": [
        {
          "output_type": "stream",
          "name": "stdout",
          "text": [
            "Writing SquareCalculator.java\n"
          ]
        }
      ]
    },
    {
      "cell_type": "code",
      "source": [
        "%%shell\n",
        "# Compile java file to class file\n",
        "javac SquareCalculator.java\n",
        "# Execute Java program\n",
        "java SquareCalculator"
      ],
      "metadata": {
        "colab": {
          "base_uri": "https://localhost:8080/"
        },
        "id": "4jMsVymkShe8",
        "outputId": "f896e004-3204-466f-ecc8-fd31d000ee5e"
      },
      "execution_count": null,
      "outputs": [
        {
          "output_type": "stream",
          "name": "stdout",
          "text": [
            "The area of the square is: 190\n"
          ]
        },
        {
          "output_type": "execute_result",
          "data": {
            "text/plain": []
          },
          "metadata": {},
          "execution_count": 2
        }
      ]
    },
    {
      "cell_type": "markdown",
      "source": [
        "# Decisions\n",
        "The following is a human language version of decision statements in Java. Decision statements use the if keyword.\n",
        "\n",
        "```\n",
        "if it's raining:\n",
        "  Bring an umbrella\n",
        "or if it's sunny:\n",
        "  Buy an ice cream cone\n",
        "otherwise\n",
        "  Learn Java\n",
        "```"
      ],
      "metadata": {
        "id": "U-XGuYVlkyHU"
      }
    },
    {
      "cell_type": "markdown",
      "source": [
        "## Boolean\n",
        "Decision statements use Boolean values to determine true or false.\n",
        "\n",
        "Java has six relational operators that test the relationship between two\n",
        "values (e.g., whether they are equal, or whether one is greater than the other).\n",
        "The following expressions show how they are used:\n",
        "\n",
        "Expression | Explanation\n",
        "-----|------\n",
        "x == y  | x is equal to y\n",
        "x != y  | x is not equal to y\n",
        "x > y   | x is greater than y\n",
        "x < y   | x is less than y\n",
        "x >= y  | x is greater than or equal to y\n",
        "x <= y  | x is less than or equal to y\n",
        "\n",
        "The result of a relational operator is one of two special values: true or false.\n",
        "These values belong to the data type boolean, named after the mathematician\n",
        "George Boole. He developed an algebraic way of representing logic."
      ],
      "metadata": {
        "id": "-hVSN6e5EAmX"
      }
    },
    {
      "cell_type": "markdown",
      "source": [
        "## If\n",
        "The syntax of an if statement is:\n",
        "```\n",
        "if(Boolean_expression){\n",
        "  // Executes when the Boolean expression is true\n",
        "}\n",
        "```\n"
      ],
      "metadata": {
        "id": "BY2PpjEvCJZ9"
      }
    },
    {
      "cell_type": "code",
      "source": [
        "%%writefile IfStatement.java\n",
        "public class IfStatement {\n",
        "  public static void main(String args[]){\n",
        "    int x = 30;\n",
        "    if( x > 20 ){\n",
        "      System.out.println(\"This is the if statement\");\n",
        "    }\n",
        "  }\n",
        "}"
      ],
      "metadata": {
        "colab": {
          "base_uri": "https://localhost:8080/"
        },
        "id": "keEqofpaCPdV",
        "outputId": "ab392ff2-1d5f-482f-a942-4c966503bf26"
      },
      "execution_count": null,
      "outputs": [
        {
          "output_type": "stream",
          "name": "stdout",
          "text": [
            "Writing IfStatement.java\n"
          ]
        }
      ]
    },
    {
      "cell_type": "code",
      "source": [
        "x = 30;\n",
        "if x > 20:\n",
        "  print(\"This is the if statement\")"
      ],
      "metadata": {
        "colab": {
          "base_uri": "https://localhost:8080/"
        },
        "id": "3lOVETh5ZiNJ",
        "outputId": "0b209e04-45d9-4ae8-a33f-1b1d1ddd2158"
      },
      "execution_count": null,
      "outputs": [
        {
          "output_type": "stream",
          "name": "stdout",
          "text": [
            "This is the if statement\n"
          ]
        }
      ]
    },
    {
      "cell_type": "code",
      "source": [
        "%%shell\n",
        "# Compile java file to class file\n",
        "javac IfStatement.java\n",
        "# Execute Java program\n",
        "java IfStatement"
      ],
      "metadata": {
        "colab": {
          "base_uri": "https://localhost:8080/"
        },
        "id": "3dS9xruWDHW8",
        "outputId": "13418271-27cd-488d-d8a4-bcd73d81291b"
      },
      "execution_count": null,
      "outputs": [
        {
          "output_type": "stream",
          "name": "stdout",
          "text": [
            "This is the if statement\n"
          ]
        },
        {
          "output_type": "execute_result",
          "data": {
            "text/plain": []
          },
          "metadata": {},
          "execution_count": 11
        }
      ]
    },
    {
      "cell_type": "markdown",
      "source": [
        "## If Else\n",
        "The syntax of an if...else statement is:\n",
        "\n",
        "```\n",
        "if(Boolean_expression){\n",
        "  // Executes when the Boolean expression is true\n",
        "}else{\n",
        "  // Executes when the Boolean expression is false\n",
        "}\n",
        "```\n",
        "\n"
      ],
      "metadata": {
        "id": "nP18iy_omTdX"
      }
    },
    {
      "cell_type": "code",
      "source": [
        "%%writefile IfElse.java\n",
        "public class IfElse {\n",
        "  public static void main(String args[]){\n",
        "    int x = 30;\n",
        "    if( x < 20 ){\n",
        "      System.out.println(\"This is the if statement\");\n",
        "    }else{\n",
        "      System.out.println(\"This is the else statement\");\n",
        "    }\n",
        "  }\n",
        "}"
      ],
      "metadata": {
        "id": "8Uz0Yai4mw9U",
        "colab": {
          "base_uri": "https://localhost:8080/"
        },
        "outputId": "cfa681a1-25a1-4a72-d67d-361f84d8fc64"
      },
      "execution_count": null,
      "outputs": [
        {
          "output_type": "stream",
          "name": "stdout",
          "text": [
            "Writing IfElse.java\n"
          ]
        }
      ]
    },
    {
      "cell_type": "code",
      "source": [
        "%%shell\n",
        "# Compile java file to class file\n",
        "javac IfElse.java\n",
        "# Execute Java program\n",
        "java IfElse"
      ],
      "metadata": {
        "colab": {
          "base_uri": "https://localhost:8080/"
        },
        "id": "rLoi2r30Cddq",
        "outputId": "251ce706-8dfc-4bb2-eb9c-5a5a42e2eefe"
      },
      "execution_count": null,
      "outputs": [
        {
          "output_type": "stream",
          "name": "stdout",
          "text": [
            "This is the else statement\n"
          ]
        },
        {
          "output_type": "execute_result",
          "data": {
            "text/plain": [
              ""
            ]
          },
          "metadata": {},
          "execution_count": 12
        }
      ]
    },
    {
      "cell_type": "markdown",
      "source": [
        "## Else If\n",
        "An else if statement allows more than one test per if decision structure. You can have as many else if tests as you like. The syntax of an if...else if...else statement is:\n",
        "\n",
        "```\n",
        "if(Boolean_expression){\n",
        "  // Executes when the Boolean expression is true\n",
        "}else if{\n",
        "  // Executes when the Boolean expression is true\n",
        "}else{\n",
        "  // Executes when the Boolean expression is false\n",
        "}\n",
        "```"
      ],
      "metadata": {
        "id": "ZEVGQUQcEvh-"
      }
    },
    {
      "cell_type": "code",
      "source": [
        "%%writefile IfElseIf.java\n",
        "public class IfElseIf {\n",
        "  public static void main(String args[]){\n",
        "    int x = 30;\n",
        "    if(x < 20){\n",
        "      System.out.println(\"This is the if statement\");\n",
        "    }else if(x > 25){\n",
        "      System.out.println(\"This is the else if statement\");\n",
        "    }else{\n",
        "      System.out.println(\"This is the else statement\");\n",
        "    }\n",
        "  }\n",
        "}"
      ],
      "metadata": {
        "colab": {
          "base_uri": "https://localhost:8080/"
        },
        "id": "aWzErrVJFEKG",
        "outputId": "4faa0c5a-6b8b-43d4-df67-e01ee5593470"
      },
      "execution_count": null,
      "outputs": [
        {
          "output_type": "stream",
          "name": "stdout",
          "text": [
            "Writing IfElseIf.java\n"
          ]
        }
      ]
    },
    {
      "cell_type": "code",
      "source": [
        "%%shell\n",
        "# Compile java file to class file\n",
        "javac IfElseIf.java\n",
        "# Execute Java program\n",
        "java IfElseIf"
      ],
      "metadata": {
        "colab": {
          "base_uri": "https://localhost:8080/"
        },
        "id": "0ig6y8ntFF4Q",
        "outputId": "19e5c66f-5a31-4b06-a9b4-c38db8b18b69"
      },
      "execution_count": null,
      "outputs": [
        {
          "output_type": "stream",
          "name": "stdout",
          "text": [
            "This is the else if statement\n"
          ]
        },
        {
          "output_type": "execute_result",
          "data": {
            "text/plain": [
              ""
            ]
          },
          "metadata": {},
          "execution_count": 3
        }
      ]
    },
    {
      "cell_type": "markdown",
      "source": [
        "# Loops\n",
        "Computers are very good at repetitive tasks. Loops allow repetition of code under certain conditions. There are three different types of loops in Java\n",
        "1. For loops\n",
        "2. While loops\n",
        "3. Do-while loops"
      ],
      "metadata": {
        "id": "JvCWIAif_IEV"
      }
    },
    {
      "cell_type": "markdown",
      "source": [
        "## For Loops\n",
        "\n",
        "For loops should be used when we know how many times a task is to be repeated. These are also called as counting loops, as they count the number of times the loop runs.\n",
        "\n",
        "```\n",
        "for (initialExpression; condition; updateExpression)\n",
        "{\n",
        "  // body of the loop\n",
        "}\n",
        "```\n",
        "1. **initialExpression** initializes and/or declares variables and executes only once.\n",
        "2. **condition** is evaluated. If the condition is true, the body of the for loop is executed.\n",
        "3. **updateExpression** updates the value of initialExpression.\n",
        "4. **condition** is evaluated again. The process continues until the condition is **false**.\n"
      ],
      "metadata": {
        "id": "nAtY1RgcSACt"
      }
    },
    {
      "cell_type": "code",
      "source": [
        "%%writefile ForLoop.java\n",
        "public class ForLoop {\n",
        "  public static void main(String args[]){\n",
        "    for (int i = 2; i <= 8; i += 2) {\n",
        "      System.out.print(i + \", \");\n",
        "    }\n",
        "    System.out.println(\"Who do we appreciate?\");\n",
        "  }\n",
        "}"
      ],
      "metadata": {
        "colab": {
          "base_uri": "https://localhost:8080/"
        },
        "id": "13paYQ6-TCeL",
        "outputId": "8d83c193-2334-4280-932e-7ad09d6218f3"
      },
      "execution_count": null,
      "outputs": [
        {
          "output_type": "stream",
          "name": "stdout",
          "text": [
            "Overwriting ForLoop.java\n"
          ]
        }
      ]
    },
    {
      "cell_type": "code",
      "source": [
        "%%shell\n",
        "# Compile java file to class file\n",
        "javac ForLoop.java\n",
        "# Execute Java program\n",
        "java ForLoop"
      ],
      "metadata": {
        "colab": {
          "base_uri": "https://localhost:8080/"
        },
        "id": "Cg7VQwKMTZ1p",
        "outputId": "13fd0bec-fd2d-404c-e1c9-e91b8fe2b4a9"
      },
      "execution_count": null,
      "outputs": [
        {
          "output_type": "stream",
          "name": "stdout",
          "text": [
            "2, 4, 6, 8, Who do we appreciate?\n"
          ]
        },
        {
          "output_type": "execute_result",
          "data": {
            "text/plain": [
              ""
            ]
          },
          "metadata": {},
          "execution_count": 15
        }
      ]
    },
    {
      "cell_type": "markdown",
      "source": [
        "## While Loops\n",
        "While loops are used to repeat actions when we do not know how many times a task is to be repeated. This is a pre test loop."
      ],
      "metadata": {
        "id": "WyE3bKlDSwnw"
      }
    },
    {
      "cell_type": "code",
      "source": [
        "%%writefile WhileLoop.java\n",
        "public class WhileLoop {\n",
        "  public static void main(String args[]){\n",
        "    // Initialize counter variable\n",
        "    int n = 0;\n",
        "    while (n < 5) {\n",
        "      System.out.println(n);\n",
        "    n++; // increment counter\n",
        "    }\n",
        "  }\n",
        "}"
      ],
      "metadata": {
        "colab": {
          "base_uri": "https://localhost:8080/"
        },
        "id": "G0W5zO7zWxib",
        "outputId": "93116424-8a87-459f-db01-ede9e7d8fd58"
      },
      "execution_count": null,
      "outputs": [
        {
          "output_type": "stream",
          "name": "stdout",
          "text": [
            "Overwriting WhileLoop.java\n"
          ]
        }
      ]
    },
    {
      "cell_type": "code",
      "source": [
        "%%shell\n",
        "# Compile java file to class file\n",
        "javac WhileLoop.java\n",
        "# Execute Java program\n",
        "java WhileLoop"
      ],
      "metadata": {
        "colab": {
          "base_uri": "https://localhost:8080/"
        },
        "id": "6cPDUEvLXFI5",
        "outputId": "13c1a1f8-1b94-4484-c899-d91418dfb537"
      },
      "execution_count": null,
      "outputs": [
        {
          "output_type": "stream",
          "name": "stdout",
          "text": [
            "0\n",
            "1\n",
            "2\n",
            "3\n",
            "4\n"
          ]
        },
        {
          "output_type": "execute_result",
          "data": {
            "text/plain": [
              ""
            ]
          },
          "metadata": {},
          "execution_count": 23
        }
      ]
    },
    {
      "cell_type": "markdown",
      "source": [
        "##Do While Loops\n",
        "Do-while loops are similar to while loops, with one difference. The condition of a do-while loop is checked on exit. This ensures that a do-while loop will run at least once. This is a post test loop."
      ],
      "metadata": {
        "id": "KIgltcPxWhVN"
      }
    },
    {
      "cell_type": "code",
      "source": [
        "%%writefile DoWhileLoop.java\n",
        "public class DoWhileLoop {\n",
        "  public static void main(String args[]){\n",
        "    // Initialize counter variable\n",
        "    int n = 0;\n",
        "    do {\n",
        "      // Print on the same line\n",
        "      System.out.print(n + \" \");\n",
        "    n++; // increment counter\n",
        "    }while(n<5);\n",
        "  }\n",
        "}"
      ],
      "metadata": {
        "colab": {
          "base_uri": "https://localhost:8080/"
        },
        "id": "A8R5iHPAgkZl",
        "outputId": "cc9abfe6-3c54-4247-e6ce-c5fbc89d9b2c"
      },
      "execution_count": null,
      "outputs": [
        {
          "output_type": "stream",
          "name": "stdout",
          "text": [
            "Overwriting DoWhileLoop.java\n"
          ]
        }
      ]
    },
    {
      "cell_type": "code",
      "source": [
        "%%shell\n",
        "# Compile java file to class file\n",
        "javac DoWhileLoop.java\n",
        "# Execute Java program\n",
        "java DoWhileLoop"
      ],
      "metadata": {
        "colab": {
          "base_uri": "https://localhost:8080/"
        },
        "id": "1Wj_z2vpgwID",
        "outputId": "74c1c2bc-0fbc-48cc-9c3d-7407f4e6d3b1"
      },
      "execution_count": null,
      "outputs": [
        {
          "output_type": "stream",
          "name": "stdout",
          "text": [
            "0 1 2 3 4 "
          ]
        },
        {
          "output_type": "execute_result",
          "data": {
            "text/plain": []
          },
          "metadata": {},
          "execution_count": 4
        }
      ]
    },
    {
      "cell_type": "markdown",
      "source": [
        "# Methods"
      ],
      "metadata": {
        "id": "r7OFVJ7pk-vd"
      }
    },
    {
      "cell_type": "markdown",
      "source": [
        "# Arrays"
      ],
      "metadata": {
        "id": "WGSvfPjklAkI"
      }
    },
    {
      "cell_type": "markdown",
      "source": [
        "# ArrayLists"
      ],
      "metadata": {
        "id": "chJoeUCZlDuX"
      }
    },
    {
      "cell_type": "markdown",
      "source": [
        "# OOP\n",
        "- Encapsulation\n",
        "- Inheritance\n",
        "- Polymorphism\n",
        "\n",
        "A class represents a real world object, such as a car. An object has both data and behaviors.\n",
        "\n",
        "\n"
      ],
      "metadata": {
        "id": "9UDnd7DflNRx"
      }
    },
    {
      "cell_type": "markdown",
      "source": [
        "# HashMaps"
      ],
      "metadata": {
        "id": "6nlSB2GmlG3m"
      }
    },
    {
      "cell_type": "markdown",
      "source": [
        "# Strings"
      ],
      "metadata": {
        "id": "DQL_BpZmlRPD"
      }
    },
    {
      "cell_type": "markdown",
      "source": [
        "# Optional: Install OpenJDK 21\n",
        "\n",
        "This is optional as Google Colab already has Java 11 installed.\n",
        "\n",
        "OpenKDK 21 is the latest LTS (Long Term Service) version. The LTS version is typically used in production environments.\n",
        "\n",
        "1. Install the OpenJDK 21\n",
        "2. Set the JAVA_HOME environment variable."
      ],
      "metadata": {
        "id": "Mdm0O1gqU-SF"
      }
    },
    {
      "cell_type": "code",
      "source": [
        "# Install OpenJDK 21\n",
        "!apt-get update\n",
        "!apt-get install openjdk-21-jdk-headless -qq > /dev/null\n",
        "# Set the JAVA_HOME environment variable\n",
        "import os\n",
        "os.environ[\"JAVA_HOME\"] = \"/usr/lib/jvm/java-21-openjdk-amd64\"\n",
        "# Display the Java version\n",
        "!java -version"
      ],
      "metadata": {
        "id": "GPsQqoJ5UxfS"
      },
      "execution_count": null,
      "outputs": []
    },
    {
      "cell_type": "markdown",
      "source": [
        "## License\n",
        "<a rel=\"license\" href=\"http://creativecommons.org/licenses/by-nc-sa/4.0/\"><img alt=\"Creative Commons License\" style=\"border-width:0\" src=\"https://i.creativecommons.org/l/by-nc-sa/4.0/88x31.png\" /></a><br />This work is licensed under a <a rel=\"license\" href=\"http://creativecommons.org/licenses/by-nc-sa/4.0/\">Creative Commons Attribution-NonCommercial-ShareAlike 4.0 International License</a>.\n",
        "\n",
        "Copyright (c) 2022 William A Loring"
      ],
      "metadata": {
        "id": "3j4J2RRm9Z7l"
      }
    }
  ]
}