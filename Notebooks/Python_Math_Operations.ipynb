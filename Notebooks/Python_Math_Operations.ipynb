{
  "cells": [
    {
      "cell_type": "markdown",
      "metadata": {
        "id": "view-in-github",
        "colab_type": "text"
      },
      "source": [
        "<a href=\"https://colab.research.google.com/github/itinstructor/JupyterNotebooks/blob/main/Notebooks/Jupyter_Notebook.ipynb\" target=\"_parent\"><img src=\"https://colab.research.google.com/assets/colab-badge.svg\" alt=\"Open In Colab\"/></a>"
      ]
    },
    {
      "cell_type": "markdown",
      "metadata": {
        "id": "M-5GGlJiIO_P"
      },
      "source": [
        "# Python Math Operations"
      ]
    },
    {
      "cell_type": "code",
      "execution_count": null,
      "metadata": {
        "id": "gsUqiEMoIO_R",
        "outputId": "fd9e1df5-6a3d-4de6-9019-0caa00b6d8f6"
      },
      "outputs": [
        {
          "name": "stdout",
          "output_type": "stream",
          "text": [
            "---   Python Math Operations   ---\n",
            "       Sum: 15\n",
            "Difference: -5\n",
            "   Product: 50\n",
            "  Quotient: 0.5\n",
            "    Modulo: 5\n",
            "  Exponent: 9765625\n"
          ]
        }
      ],
      "source": [
        "print(\"---   Python Math Operations   ---\")\n",
        "a = 5\n",
        "b = 10\n",
        "\n",
        "sum = a + b\n",
        "difference = a - b\n",
        "product = a * b\n",
        "quotient = a / b\n",
        "modulo = a % b\n",
        "exponent = a**b\n",
        "\n",
        "print(f\"       Sum: {sum}\")\n",
        "print(f\"Difference: {difference}\")\n",
        "print(f\"   Product: {product}\")\n",
        "print(f\"  Quotient: {quotient}\")\n",
        "print(f\"    Modulo: {modulo}\")\n",
        "print(f\"  Exponent: {exponent}\")\n"
      ]
    },
    {
      "cell_type": "markdown",
      "metadata": {
        "id": "N6OdWU1WIO_R"
      },
      "source": []
    }
  ],
  "metadata": {
    "kernelspec": {
      "display_name": "Python 3",
      "language": "python",
      "name": "python3"
    },
    "language_info": {
      "codemirror_mode": {
        "name": "ipython",
        "version": 3
      },
      "file_extension": ".py",
      "mimetype": "text/x-python",
      "name": "python",
      "nbconvert_exporter": "python",
      "pygments_lexer": "ipython3",
      "version": "3.12.1"
    },
    "colab": {
      "provenance": [],
      "include_colab_link": true
    }
  },
  "nbformat": 4,
  "nbformat_minor": 0
}