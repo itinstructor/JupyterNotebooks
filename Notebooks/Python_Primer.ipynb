{
  "cells": [
    {
      "cell_type": "markdown",
      "metadata": {
        "colab_type": "text",
        "id": "view-in-github"
      },
      "source": [
        "<a href=\"https://colab.research.google.com/github/itinstructor/JupyterNotebooks/blob/main/JupyterNotebooks/Python_Primer.ipynb\" target=\"_parent\"><img src=\"https://colab.research.google.com/assets/colab-badge.svg\" alt=\"Open In Colab\"/></a>"
      ]
    },
    {
      "cell_type": "markdown",
      "metadata": {
        "id": "JbVT11Y8CbAu"
      },
      "source": [
        "<a name=\"top\"></a>\n",
        "# Python Primer (Life, the Universe, and Everything)\n",
        "\n"
      ]
    },
    {
      "cell_type": "markdown",
      "metadata": {
        "id": "YV4sYCn8EPwb"
      },
      "source": [
        "# Jupyter Notebooks"
      ]
    },
    {
      "cell_type": "markdown",
      "metadata": {
        "id": "2HuuwOcQEYQI"
      },
      "source": [
        "**Jupyter notebooks** are commonly used to practice data science and machine learning. Notebooks are a great way to mix executable code with rich contents (HTML, images, equations written in LaTeX).\n",
        "\n",
        "**Google Colab** allows us to run notebooks on the cloud for free without a local installation.\n",
        "\n",
        "Whether you're a **student**, a **data scientist** or an **AI researcher**, Colab can make your work easier. Watch [Introduction to Colab](https://www.youtube.com/watch?v=inN8seMm7UI) to learn more."
      ]
    },
    {
      "cell_type": "markdown",
      "metadata": {
        "id": "t0XmMkPuGGOs"
      },
      "source": [
        "You are working in an interactive environment called a notebook. A notebook allows you to and display text and write and execute code. Notebooks consist of text cells or code cells.\n",
        "\n",
        "- **text cell:** We are in a text cell. This is where you make notes and explain what is going on.\n",
        "- **code cell:** Below is a code cell that stores the result of a computation (the number of seconds in a day) in a variable and prints its value:"
      ]
    },
    {
      "cell_type": "code",
      "execution_count": null,
      "metadata": {
        "colab": {
          "base_uri": "https://localhost:8080/"
        },
        "id": "qeGAvLq1ALJ4",
        "outputId": "ea46509c-bb77-42b8-8c57-f7a36797ef04"
      },
      "outputs": [
        {
          "name": "stdout",
          "output_type": "stream",
          "text": [
            "Seconds in a day: 86400\n"
          ]
        }
      ],
      "source": [
        "# This is a code cell\n",
        "# Calculate how many seconds are in a day\n",
        "seconds_in_a_day = 24 * 60 * 60\n",
        "print(f\"Seconds in a day: {seconds_in_a_day}\")"
      ]
    },
    {
      "cell_type": "markdown",
      "metadata": {
        "id": "njoPs3q1G75-"
      },
      "source": [
        "Click on the \"play\" button to execute the cell. You should be able to see the result. \n",
        "\n",
        "You can also execute the cell:\n",
        "* Windows/Linux: **Ctrl + Enter**\n",
        "* Mac: **Command + Enter**"
      ]
    },
    {
      "cell_type": "markdown",
      "metadata": {
        "id": "NvdYaBgHHdbw"
      },
      "source": [
        "Variables defined in one cell can be used later in other cells:"
      ]
    },
    {
      "cell_type": "code",
      "execution_count": null,
      "metadata": {
        "colab": {
          "base_uri": "https://localhost:8080/"
        },
        "id": "s1kp5Zv0JBSx",
        "outputId": "0541a2e7-1d88-4851-c60d-3b62df448cc3"
      },
      "outputs": [
        {
          "name": "stdout",
          "output_type": "stream",
          "text": [
            "Seconds in a week: 604800\n"
          ]
        }
      ],
      "source": [
        "# seconds_in_a_day was used in the previous code cell\n",
        "seconds_in_a_week = 7 * seconds_in_a_day\n",
        "print(f\"Seconds in a week: {seconds_in_a_week}\")"
      ]
    },
    {
      "cell_type": "markdown",
      "metadata": {
        "id": "uALfY4q1JFQ0"
      },
      "source": [
        "The order of execution is important. If we do not run the cell storing `seconds_in_a_day` beforehand, the above cell will raise an error, as it depends on this variable. To ensure that you run all the cells in the correct order, you can click on \"Runtime\" in the top-level menu, then \"Run all\"."
      ]
    },
    {
      "cell_type": "markdown",
      "metadata": {
        "id": "SEf8X8vnGVek"
      },
      "source": [
        "# Python"
      ]
    },
    {
      "cell_type": "markdown",
      "metadata": {
        "id": "PZZb0TBiIzKz"
      },
      "source": [
        "Almost all Python code will run in Colab. Let's take a look at some common Python concepts in a notebook environment."
      ]
    },
    {
      "cell_type": "code",
      "execution_count": 10,
      "metadata": {
        "colab": {
          "base_uri": "https://localhost:8080/"
        },
        "id": "VOUbZW69XJ5P",
        "outputId": "06c213d3-2039-4179-bb31-338f31ee5eb1"
      },
      "outputs": [
        {
          "name": "stdout",
          "output_type": "stream",
          "text": [
            "Python: 3.8.16 (default, Dec  7 2022, 01:12:13) \n",
            "[GCC 7.5.0]\n"
          ]
        }
      ],
      "source": [
        "# Find the Python version in a notebook\n",
        "import sys\n",
        "print(f\"Python: {sys.version}\")"
      ]
    },
    {
      "cell_type": "markdown",
      "metadata": {
        "id": "qTkQ2F_jy8wz"
      },
      "source": [
        "Contrary to other languages, Python blocks of code are delimited using indentation. In Python, it is common practice to use 4-space indentation."
      ]
    },
    {
      "cell_type": "markdown",
      "metadata": {
        "id": "oDRWBhHZTz_H"
      },
      "source": [
        "## Variables\n",
        "Variables are values stored at a unique memory address."
      ]
    },
    {
      "cell_type": "code",
      "execution_count": 9,
      "metadata": {
        "colab": {
          "base_uri": "https://localhost:8080/"
        },
        "id": "-8EERa_jTrbl",
        "outputId": "66522c43-3071-4dea-9136-2c13708f70a6"
      },
      "outputs": [
        {
          "name": "stdout",
          "output_type": "stream",
          "text": [
            "  Variable \n",
            " +---------+\n",
            " | Address |\n",
            " +---------+\n",
            " |  Value  |\n",
            " +---------+\n",
            " Address: 0xaff7c0\n",
            "   Value: 42\n"
          ]
        }
      ],
      "source": [
        "print(\"  Variable \")\n",
        "print(\" +---------+\")\n",
        "print(\" | Address |\")\n",
        "print(\" +---------+\")\n",
        "print(\" |  Value  |\")\n",
        "print(\" +---------+\")\n",
        "# Create variable, assign 42 to variable\n",
        "num = 42\n",
        "# Memory addresses are in hexadecimal\n",
        "print(f\" Address: {hex(id(num))}\")\n",
        "print(f\"   Value: {num}\")"
      ]
    },
    {
      "cell_type": "markdown",
      "metadata": {
        "id": "3EKvP6jiMZ9H"
      },
      "source": [
        "## Arithmetic Operations"
      ]
    },
    {
      "cell_type": "markdown",
      "metadata": {
        "id": "DDjs0-7YQ80h"
      },
      "source": [
        "Python supports the usual arithmetic operators:\n",
        "\n",
        "Symbol | Operation\n",
        "-----|------\n",
        "\\+ | addition  \n",
        "- | subtraction\n",
        "\\* | multiplication\n",
        "/ | division\n",
        "\\** | power or exponent\n",
        "// | integer division\n",
        "% | modulus or remainder"
      ]
    },
    {
      "cell_type": "code",
      "execution_count": null,
      "metadata": {
        "colab": {
          "base_uri": "https://localhost:8080/"
        },
        "id": "ohRgBu2R_nEx",
        "outputId": "6934cbbc-44ea-412b-e344-245f50642530"
      },
      "outputs": [
        {
          "name": "stdout",
          "output_type": "stream",
          "text": [
            "5 + 89 = 94\n",
            "5 - 89 = -84\n"
          ]
        }
      ],
      "source": [
        "a = 5\n",
        "b = 89\n",
        "c = a + b\n",
        "s = a - b\n",
        "# Print results\n",
        "print(f\"{a} + {b} = {c}\")\n",
        "print(f\"{a} - {b} = {s}\")"
      ]
    },
    {
      "cell_type": "markdown",
      "metadata": {
        "id": "WjrwJdMGt9p-"
      },
      "source": [
        "### Integer Division and Modulus"
      ]
    },
    {
      "cell_type": "code",
      "execution_count": null,
      "metadata": {
        "colab": {
          "base_uri": "https://localhost:8080/"
        },
        "id": "1YZAjpqcs8Ml",
        "outputId": "1fa271ed-85c4-4356-ee3a-65c37ba0bbd0"
      },
      "outputs": [
        {
          "name": "stdout",
          "output_type": "stream",
          "text": [
            "10 goes into 3, 3 times with a remainder of 1\n"
          ]
        }
      ],
      "source": [
        "import builtins\n",
        "a = 10\n",
        "b = 3\n",
        "# Integer division\n",
        "division = int(a / b)\n",
        "remainder = a%b\n",
        "print(f\"{a} goes into {b}, {division} times with a remainder of {remainder}\")"
      ]
    },
    {
      "cell_type": "markdown",
      "metadata": {
        "id": "awIcNobVu7NC"
      },
      "source": [
        "### Even or Odd"
      ]
    },
    {
      "cell_type": "code",
      "execution_count": null,
      "metadata": {
        "colab": {
          "base_uri": "https://localhost:8080/"
        },
        "id": "s2-6h0ctvDmR",
        "outputId": "89556697-8a58-4172-cad2-8b5e3b54f3f1"
      },
      "outputs": [
        {
          "name": "stdout",
          "output_type": "stream",
          "text": [
            "-5 is odd\n",
            "-4 is even\n",
            "-3 is odd\n",
            "-2 is even\n",
            "-1 is odd\n",
            " 0 is even\n",
            " 1 is odd\n",
            " 2 is even\n",
            " 3 is odd\n",
            " 4 is even\n",
            " 5 is odd\n"
          ]
        }
      ],
      "source": [
        "for x in range(-5, 6):\n",
        "    # Align the numbers to the left\n",
        "    first_char = \" \"\n",
        "    if x < 0:\n",
        "        first_char = \"\"\n",
        "    # If the remainder is 0, the number is even\n",
        "    if (x % 2) == 0:\n",
        "        print(f\"{first_char}{x} is even\")\n",
        "    else:\n",
        "        print(f\"{first_char}{x} is odd\")"
      ]
    },
    {
      "cell_type": "markdown",
      "metadata": {
        "id": "7Lox2GZCMdIB"
      },
      "source": [
        "# Conditionals\n",
        "The following is a human language version of decision statements. Decision statements use the if keyword.\n",
        "\n",
        "```\n",
        "if it's raining:\n",
        "  Bring an umbrella\n",
        "or if it's sunny:\n",
        "  Buy an ice cream cone\n",
        "otherwise\n",
        "  Learn Python\n",
        "```"
      ]
    },
    {
      "cell_type": "markdown",
      "metadata": {
        "id": "DQzzWZ4lcwkt"
      },
      "source": [
        "# Boolean\n",
        "Decision statements use Boolean values to determine true or false. \n",
        "\n",
        "Python has six relational operators that test the relationship between two\n",
        "values (e.g., whether they are equal, or whether one is greater than the other).\n",
        "The following expressions show how they are used:\n",
        "\n",
        "Expression | Explanation\n",
        "-----|------\n",
        "x == y  | x is equal to y\n",
        "x != y  | x is not equal to y\n",
        "x > y   | x is greater than y\n",
        "x < y   | x is less than y\n",
        "x >= y  | x is greater than or equal to y\n",
        "x <= y  | x is less than or equal to y\n",
        "\n",
        "The result of a relational operator is one of two special values: true or false.\n",
        "These values belong to the data type boolean, named after the mathematician\n",
        "George Boole. He developed an algebraic way of representing logic."
      ]
    },
    {
      "cell_type": "code",
      "execution_count": null,
      "metadata": {
        "colab": {
          "base_uri": "https://localhost:8080/"
        },
        "id": "Grb2290ESH8K",
        "outputId": "cbca036b-ad5a-412a-f86b-2c869f6b8167"
      },
      "outputs": [
        {
          "name": "stdout",
          "output_type": "stream",
          "text": [
            "True\n",
            "38\n"
          ]
        }
      ],
      "source": [
        "x = 19\n",
        "y = 19\n",
        "\n",
        "result = x >= y\n",
        "print(result)\n",
        "result = x + y\n",
        "print(result)"
      ]
    },
    {
      "cell_type": "markdown",
      "metadata": {
        "id": "-gXEAWFZfDTT"
      },
      "source": [
        "Conditionals are a way to execute code depending on whether a condition is `True` or `False`. Python supports `if` and `else` but `else if` is contracted into `elif`, as the example below demonstrates. "
      ]
    },
    {
      "cell_type": "markdown",
      "metadata": {
        "id": "Ag0SUokSf9jl"
      },
      "source": [
        "Here `<` and `>` are the strict `less` and `greater than` operators, while `==` is the equality operator (not to be confused with `=`, the variable assignment operator). The operators `<=` and `>=` can be used for less (resp. greater) than or equal comparisons."
      ]
    },
    {
      "cell_type": "code",
      "execution_count": null,
      "metadata": {
        "colab": {
          "base_uri": "https://localhost:8080/"
        },
        "id": "xC_DMZjofoYZ",
        "outputId": "5f2751ee-1a68-45dd-944b-4b5a8ecb989d"
      },
      "outputs": [
        {
          "name": "stdout",
          "output_type": "stream",
          "text": [
            "positive\n"
          ]
        }
      ],
      "source": [
        "my_variable = 5\n",
        "if my_variable < 0:\n",
        "    print(\"negative\")\n",
        "elif my_variable == 0:\n",
        "    print(\"null\")\n",
        "else:  # my_variable > 0\n",
        "    print(\"positive\")"
      ]
    },
    {
      "cell_type": "code",
      "execution_count": null,
      "metadata": {
        "colab": {
          "base_uri": "https://localhost:8080/"
        },
        "id": "kmLYB6NTbzq9",
        "outputId": "95264607-6a56-4abf-e64a-3b7670975315"
      },
      "outputs": [
        {
          "name": "stdout",
          "output_type": "stream",
          "text": [
            "How much money do you have? 14\n",
            "Eat something cheap\n"
          ]
        }
      ],
      "source": [
        "money_available = float(input(\"How much money do you have? \"))\n",
        "if money_available >= 80:\n",
        "    print(\"Eat something fancy!\")\n",
        "elif money_available > 45:\n",
        "    print(\"Eat something nice.\")\n",
        "elif money_available > 15:\n",
        "    print(\"Eat something ok\")\n",
        "else:\n",
        "    print(\"Eat something cheap\")"
      ]
    },
    {
      "cell_type": "markdown",
      "metadata": {
        "id": "clWaFCzBMfkv"
      },
      "source": [
        "\n",
        "# For Loops"
      ]
    },
    {
      "cell_type": "markdown",
      "metadata": {
        "id": "_A5doqhTivWe"
      },
      "source": [
        "Loops are a way to execute a block of code multiple times. There are two main types of loops: while loops and for loops."
      ]
    },
    {
      "cell_type": "markdown",
      "metadata": {
        "id": "8mEI_ocfkSvZ"
      },
      "source": [
        "For loop using the `range()` function. The `range()` function returns a sequence of numbers, starting from 0 by default, and increments by 1 (by default), and stops before a specified number. \n",
        "\n",
        "`range(start, stop, step)`\n",
        "\n",
        "`range(stop)` "
      ]
    },
    {
      "cell_type": "code",
      "execution_count": null,
      "metadata": {
        "colab": {
          "base_uri": "https://localhost:8080/"
        },
        "id": "2QObx5mckMcI",
        "outputId": "ee9008e4-9898-4541-f372-6ea8bbc2865e"
      },
      "outputs": [
        {
          "name": "stdout",
          "output_type": "stream",
          "text": [
            "9\n",
            "5. 9\n",
            "3. 5\n",
            "1. 1\n"
          ]
        }
      ],
      "source": [
        "my_list = [1, 3, 5, 7, 9]\n",
        "# Print specific element of list\n",
        "print(my_list[-1])\n",
        "# The range is 0 - 4\n",
        "for i in range(4, -1, -2):\n",
        "    print(f\"{i+1}. {my_list[i]}\")"
      ]
    },
    {
      "cell_type": "code",
      "execution_count": null,
      "metadata": {
        "colab": {
          "base_uri": "https://localhost:8080/"
        },
        "id": "2GmzugRGelLA",
        "outputId": "fc6f7e93-45f3-48ac-ebfc-fa5c94df0362"
      },
      "outputs": [
        {
          "name": "stdout",
          "output_type": "stream",
          "text": [
            "1  5  9  \n",
            "9 7 5 3 1 "
          ]
        }
      ],
      "source": [
        "my_list = [1, 3, 5, 7, 9]\n",
        "# The range is 0 - 4, step by 2\n",
        "for i in range(0, 5, 2):\n",
        "    print(f\"{my_list[i]} \", end=\" \")\n",
        "print()\n",
        "for i in range(4, -1, -1):\n",
        "    print(f\"{my_list[i]}\", end=\" \")"
      ]
    },
    {
      "cell_type": "markdown",
      "metadata": {
        "id": "XO6qqppikZvm"
      },
      "source": [
        "Iterate over a list with a `for each` loop. For each element (item) in the list, do something."
      ]
    },
    {
      "cell_type": "code",
      "execution_count": null,
      "metadata": {
        "colab": {
          "base_uri": "https://localhost:8080/"
        },
        "id": "PjFKzN6zkeJ7",
        "outputId": "b3071532-4887-440f-9eba-adde1efb5da3"
      },
      "outputs": [
        {
          "name": "stdout",
          "output_type": "stream",
          "text": [
            "1\n",
            "3\n",
            "5\n",
            "7\n",
            "9\n"
          ]
        }
      ],
      "source": [
        "my_list = [1, 3, 5, 7, 9]\n",
        "for element in my_list:\n",
        "    print(element)"
      ]
    },
    {
      "cell_type": "markdown",
      "metadata": {
        "id": "YN8lwTxQkGEa"
      },
      "source": [
        "While loops are typically used when we don't know how long the loop will last."
      ]
    },
    {
      "cell_type": "code",
      "execution_count": null,
      "metadata": {
        "colab": {
          "base_uri": "https://localhost:8080/"
        },
        "id": "7-QXGqgOjsr_",
        "outputId": "835294d9-b84f-4166-b75e-e7fbc09fb451"
      },
      "outputs": [
        {
          "name": "stdout",
          "output_type": "stream",
          "text": [
            "1. 1\n",
            "2. 3\n",
            "3. 5\n",
            "4. 7\n",
            "5. 9\n"
          ]
        }
      ],
      "source": [
        "# Loop counter initialized outside the list\n",
        "my_list = [1, 3, 5, 7, 9]\n",
        "i = 0\n",
        "while i < len(my_list):\n",
        "    print(f\"{i+1}. {my_list[i]}\")\n",
        "    # Increment the loop counter\n",
        "    # The following expression is equivalent to i = i + 1\n",
        "    i += 1"
      ]
    },
    {
      "cell_type": "markdown",
      "metadata": {
        "id": "9LFKlfEIjFMt"
      },
      "source": [
        "# Nested Loops\n",
        "\n",
        "Just like it sounds, one loop inside another.\n",
        "\n",
        "```\n",
        "# outer for loop\n",
        "for element in sequence:\n",
        "   # inner for loop\n",
        "   for element in sequence:\n",
        "       body of inner for loop\n",
        "   body of outer for loop\n",
        "```"
      ]
    },
    {
      "cell_type": "code",
      "execution_count": null,
      "metadata": {
        "colab": {
          "base_uri": "https://localhost:8080/"
        },
        "id": "sYkjly2vjIiT",
        "outputId": "0716e0e2-ca29-4bdf-f8d6-ff9d1421455e"
      },
      "outputs": [
        {
          "name": "stdout",
          "output_type": "stream",
          "text": [
            "1 times 1 is 1\n",
            "2 times 1 is 2\n",
            "3 times 1 is 3\n",
            "4 times 1 is 4\n",
            "5 times 1 is 5\n",
            "6 times 1 is 6\n",
            "7 times 1 is 7\n",
            "8 times 1 is 8\n",
            "9 times 1 is 9\n",
            "10 times 1 is 10\n",
            "11 times 1 is 11\n",
            "12 times 1 is 12\n",
            "------------------\n",
            "1 times 2 is 2\n",
            "2 times 2 is 4\n",
            "3 times 2 is 6\n",
            "4 times 2 is 8\n",
            "5 times 2 is 10\n",
            "6 times 2 is 12\n",
            "7 times 2 is 14\n",
            "8 times 2 is 16\n",
            "9 times 2 is 18\n",
            "10 times 2 is 20\n",
            "11 times 2 is 22\n",
            "12 times 2 is 24\n",
            "------------------\n",
            "1 times 3 is 3\n",
            "2 times 3 is 6\n",
            "3 times 3 is 9\n",
            "4 times 3 is 12\n",
            "5 times 3 is 15\n",
            "6 times 3 is 18\n",
            "7 times 3 is 21\n",
            "8 times 3 is 24\n",
            "9 times 3 is 27\n",
            "10 times 3 is 30\n",
            "11 times 3 is 33\n",
            "12 times 3 is 36\n",
            "------------------\n",
            "1 times 4 is 4\n",
            "2 times 4 is 8\n",
            "3 times 4 is 12\n",
            "4 times 4 is 16\n",
            "5 times 4 is 20\n",
            "6 times 4 is 24\n",
            "7 times 4 is 28\n",
            "8 times 4 is 32\n",
            "9 times 4 is 36\n",
            "10 times 4 is 40\n",
            "11 times 4 is 44\n",
            "12 times 4 is 48\n",
            "------------------\n",
            "1 times 5 is 5\n",
            "2 times 5 is 10\n",
            "3 times 5 is 15\n",
            "4 times 5 is 20\n",
            "5 times 5 is 25\n",
            "6 times 5 is 30\n",
            "7 times 5 is 35\n",
            "8 times 5 is 40\n",
            "9 times 5 is 45\n",
            "10 times 5 is 50\n",
            "11 times 5 is 55\n",
            "12 times 5 is 60\n",
            "------------------\n",
            "1 times 6 is 6\n",
            "2 times 6 is 12\n",
            "3 times 6 is 18\n",
            "4 times 6 is 24\n",
            "5 times 6 is 30\n",
            "6 times 6 is 36\n",
            "7 times 6 is 42\n",
            "8 times 6 is 48\n",
            "9 times 6 is 54\n",
            "10 times 6 is 60\n",
            "11 times 6 is 66\n",
            "12 times 6 is 72\n",
            "------------------\n",
            "1 times 7 is 7\n",
            "2 times 7 is 14\n",
            "3 times 7 is 21\n",
            "4 times 7 is 28\n",
            "5 times 7 is 35\n",
            "6 times 7 is 42\n",
            "7 times 7 is 49\n",
            "8 times 7 is 56\n",
            "9 times 7 is 63\n",
            "10 times 7 is 70\n",
            "11 times 7 is 77\n",
            "12 times 7 is 84\n",
            "------------------\n",
            "1 times 8 is 8\n",
            "2 times 8 is 16\n",
            "3 times 8 is 24\n",
            "4 times 8 is 32\n",
            "5 times 8 is 40\n",
            "6 times 8 is 48\n",
            "7 times 8 is 56\n",
            "8 times 8 is 64\n",
            "9 times 8 is 72\n",
            "10 times 8 is 80\n",
            "11 times 8 is 88\n",
            "12 times 8 is 96\n",
            "------------------\n",
            "1 times 9 is 9\n",
            "2 times 9 is 18\n",
            "3 times 9 is 27\n",
            "4 times 9 is 36\n",
            "5 times 9 is 45\n",
            "6 times 9 is 54\n",
            "7 times 9 is 63\n",
            "8 times 9 is 72\n",
            "9 times 9 is 81\n",
            "10 times 9 is 90\n",
            "11 times 9 is 99\n",
            "12 times 9 is 108\n",
            "------------------\n",
            "1 times 10 is 10\n",
            "2 times 10 is 20\n",
            "3 times 10 is 30\n",
            "4 times 10 is 40\n",
            "5 times 10 is 50\n",
            "6 times 10 is 60\n",
            "7 times 10 is 70\n",
            "8 times 10 is 80\n",
            "9 times 10 is 90\n",
            "10 times 10 is 100\n",
            "11 times 10 is 110\n",
            "12 times 10 is 120\n",
            "------------------\n",
            "1 times 11 is 11\n",
            "2 times 11 is 22\n",
            "3 times 11 is 33\n",
            "4 times 11 is 44\n",
            "5 times 11 is 55\n",
            "6 times 11 is 66\n",
            "7 times 11 is 77\n",
            "8 times 11 is 88\n",
            "9 times 11 is 99\n",
            "10 times 11 is 110\n",
            "11 times 11 is 121\n",
            "12 times 11 is 132\n",
            "------------------\n",
            "1 times 12 is 12\n",
            "2 times 12 is 24\n",
            "3 times 12 is 36\n",
            "4 times 12 is 48\n",
            "5 times 12 is 60\n",
            "6 times 12 is 72\n",
            "7 times 12 is 84\n",
            "8 times 12 is 96\n",
            "9 times 12 is 108\n",
            "10 times 12 is 120\n",
            "11 times 12 is 132\n",
            "12 times 12 is 144\n",
            "------------------\n"
          ]
        }
      ],
      "source": [
        "# Purpose: Demonstrate nested loops\n",
        "for i in range(1, 13):\n",
        "    # Inner Loop\n",
        "    for j in range(1, 13):\n",
        "        print(f\"{j} times {i} is {i * j}\")\n",
        "    # End of outer loop body\n",
        "    print(\"------------------\")"
      ]
    },
    {
      "cell_type": "markdown",
      "metadata": {
        "id": "UsBJFifeEyV1"
      },
      "source": [
        "#While Loops\n"
      ]
    },
    {
      "cell_type": "markdown",
      "metadata": {
        "id": "15vpVsEVFzTo"
      },
      "source": [
        "The while loop in Python is used to iterate over a block of code as long as the test expression (condition) is true.\n",
        "\n",
        "We generally use this loop when we don't know the number of times to iterate beforehand.\n",
        "\n",
        "In the while loop, test expression is checked first. The body of the loop is entered only if the test_expression evaluates to True. After one iteration, the test expression is checked again. This process continues until the test_expression evaluates to False.\n",
        "\n",
        "The body of the while loop is determined through indentation. The body starts with indentation and the first unindented line marks the end.\n",
        "\n",
        "Python interprets any non-zero value as True. None and 0 are interpreted as False. 1 is typically evaluated as True."
      ]
    },
    {
      "cell_type": "code",
      "execution_count": null,
      "metadata": {
        "colab": {
          "base_uri": "https://localhost:8080/"
        },
        "id": "f6VmrR5mFD9Y",
        "outputId": "7a875b23-abce-47cd-c999-20361532a957"
      },
      "outputs": [
        {
          "name": "stdout",
          "output_type": "stream",
          "text": [
            "Enter (y)Y\n",
            "Outside loop\n"
          ]
        }
      ],
      "source": [
        "while True:\n",
        "  menu = input(\"Enter (y)\").lower()\n",
        "  if menu == 'y':\n",
        "    break\n",
        "print(\"Outside loop\")"
      ]
    },
    {
      "cell_type": "code",
      "execution_count": null,
      "metadata": {
        "colab": {
          "base_uri": "https://localhost:8080/"
        },
        "id": "maqJc8KjFlNX",
        "outputId": "e8022db0-a4f0-4991-9e4c-bff62307529f"
      },
      "outputs": [
        {
          "name": "stdout",
          "output_type": "stream",
          "text": [
            "Enter n: 10\n",
            "The sum is 55\n"
          ]
        }
      ],
      "source": [
        "# Program to add natural\n",
        "# numbers up to \n",
        "# sum = 1+2+3+...+n\n",
        "\n",
        "# To take input from the user,\n",
        "n = int(input(\"Enter n: \"))\n",
        "\n",
        "n = 10\n",
        "\n",
        "# initialize sum and counter\n",
        "sum = 0\n",
        "i = 1\n",
        "\n",
        "while i <= n:\n",
        "    sum = sum + i\n",
        "    i = i+1    # update counter\n",
        "\n",
        "# print the sum\n",
        "print(f\"The sum is {sum}\")"
      ]
    },
    {
      "cell_type": "markdown",
      "metadata": {
        "id": "Cck4zwYrex02"
      },
      "source": [
        "## Functions"
      ]
    },
    {
      "cell_type": "markdown",
      "metadata": {
        "id": "n1PbIf_ohxFO"
      },
      "source": [
        "To improve code readability, it is common to separate the code into different blocks, responsible for performing precise actions: functions. A function takes some inputs and process them to return some outputs."
      ]
    },
    {
      "cell_type": "code",
      "execution_count": null,
      "metadata": {
        "colab": {
          "base_uri": "https://localhost:8080/"
        },
        "id": "cImA09gOhRmx",
        "outputId": "8755acae-67db-456e-9ee4-5f1f107e058e"
      },
      "outputs": [
        {
          "name": "stdout",
          "output_type": "stream",
          "text": [
            "5\n",
            "16\n",
            "36\n"
          ]
        }
      ],
      "source": [
        "# Define square function with 1 parameter and a return\n",
        "def square(x):\n",
        "    return x ** 2\n",
        "\n",
        "# Define multiply function with 2 parameters and a return\n",
        "def multiply(a, b):\n",
        "    return a * b\n",
        "\n",
        "# Value returned from a function can be directly printed\n",
        "print(multiply(1, 5))\n",
        "# Value returned from a function can be assigned to a variable\n",
        "sqr = square(4)\n",
        "print(sqr)\n",
        "# The return value of a function can be the argument of another function\n",
        "result = square(multiply(3, 2))\n",
        "print(result)"
      ]
    },
    {
      "cell_type": "markdown",
      "metadata": {
        "id": "UhcbBQUiStHG"
      },
      "source": [
        "## Lists"
      ]
    },
    {
      "cell_type": "markdown",
      "metadata": {
        "id": "RkPn1IjNTCxA"
      },
      "source": [
        "Lists are a container type for ordered sequences of elements. Lists can be initialized as an empty list."
      ]
    },
    {
      "cell_type": "code",
      "execution_count": null,
      "metadata": {
        "colab": {
          "base_uri": "https://localhost:8080/"
        },
        "id": "OrnV1ySAPtHp",
        "outputId": "7fb81661-809c-40dd-c78f-4e62e1ef557c"
      },
      "outputs": [
        {
          "name": "stdout",
          "output_type": "stream",
          "text": [
            "1\n"
          ]
        }
      ],
      "source": [
        "my_list = [1,2,3]\n",
        "print(my_list[0])"
      ]
    },
    {
      "cell_type": "markdown",
      "metadata": {
        "id": "OwRqyYI9XnPK"
      },
      "source": [
        "A list can be initialized with some initial elements."
      ]
    },
    {
      "cell_type": "code",
      "execution_count": null,
      "metadata": {
        "colab": {
          "base_uri": "https://localhost:8080/"
        },
        "id": "Uq5YTJ1JXpOX",
        "outputId": "5e2eb637-57df-401b-e9e4-2541f1e17645"
      },
      "outputs": [
        {
          "name": "stdout",
          "output_type": "stream",
          "text": [
            "[1, 2, 3]\n"
          ]
        }
      ],
      "source": [
        "my_list = [1, 2, 3]\n",
        "print(my_list)"
      ]
    },
    {
      "cell_type": "markdown",
      "metadata": {
        "id": "Hk2WmojJXyyz"
      },
      "source": [
        "Lists are mutable. They have a dynamic size and elements can be added (appended) to them."
      ]
    },
    {
      "cell_type": "code",
      "execution_count": null,
      "metadata": {
        "colab": {
          "base_uri": "https://localhost:8080/"
        },
        "id": "QFTNqiYiXxAh",
        "outputId": "4ac12469-86d9-443e-f0e6-088fbe850bb1"
      },
      "outputs": [
        {
          "name": "stdout",
          "output_type": "stream",
          "text": [
            "[1, 2, 3, 5, 5]\n"
          ]
        }
      ],
      "source": [
        "my_list.append(5)\n",
        "print(my_list)"
      ]
    },
    {
      "cell_type": "markdown",
      "metadata": {
        "id": "IUnJuqQ2Yhzw"
      },
      "source": [
        "You can access individual elements of a list (indexing starts from 0)."
      ]
    },
    {
      "cell_type": "code",
      "execution_count": null,
      "metadata": {
        "colab": {
          "base_uri": "https://localhost:8080/"
        },
        "id": "pyFxyZPVYpG_",
        "outputId": "418ea2e4-22ce-46cc-eee4-783a14a07179"
      },
      "outputs": [
        {
          "name": "stdout",
          "output_type": "stream",
          "text": [
            "3\n"
          ]
        }
      ],
      "source": [
        "print(my_list[2])"
      ]
    },
    {
      "cell_type": "markdown",
      "metadata": {
        "id": "hPMrIDYsdgMP"
      },
      "source": [
        "We can access \"slices\" of a list using `my_list[i:j]` where `i` is the start of the slice (again, indexing starts from 0) and `j` the end of the slice.\n",
        "\n",
        "For instance:"
      ]
    },
    {
      "cell_type": "code",
      "execution_count": null,
      "metadata": {
        "colab": {
          "base_uri": "https://localhost:8080/"
        },
        "id": "Ichf9p0gd7tJ",
        "outputId": "0f9a9bc7-4ed8-4766-ef03-b9a166104bf9"
      },
      "outputs": [
        {
          "name": "stdout",
          "output_type": "stream",
          "text": [
            "Original list: [1, 2, 3, 5, 5]\n",
            "List sliced from 0 - 3: [1, 2, 3]\n"
          ]
        }
      ],
      "source": [
        "print(f\"Original list: {my_list}\")\n",
        "# The first number [1] is inclusive, the second number is exclusive\n",
        "# We get the elements 1 and 2. 3 is not included\n",
        "print(f\"List sliced from 0 - 3: {my_list[0:3]}\")"
      ]
    },
    {
      "cell_type": "markdown",
      "metadata": {
        "id": "KMbzH4tzQ9rI"
      },
      "source": [
        "Omitting the second index slices until the end of the list."
      ]
    },
    {
      "cell_type": "code",
      "execution_count": null,
      "metadata": {
        "colab": {
          "base_uri": "https://localhost:8080/"
        },
        "id": "O7wCthKnREKV",
        "outputId": "dbb8a3d3-eae1-4ea2-9681-44b637b54ebe"
      },
      "outputs": [
        {
          "name": "stdout",
          "output_type": "stream",
          "text": [
            "[3, 5, 7, 9]\n",
            "String\n",
            "ing\n"
          ]
        },
        {
          "data": {
            "text/plain": [
              "6"
            ]
          },
          "execution_count": 10,
          "metadata": {},
          "output_type": "execute_result"
        }
      ],
      "source": [
        "print(my_list[1:])\n",
        "my_string = \"String\"\n",
        "print(my_string)\n",
        "print(my_string[3:])\n",
        "len(my_string)"
      ]
    },
    {
      "cell_type": "markdown",
      "metadata": {
        "id": "C5Aeu7PUebrK"
      },
      "source": [
        "A list is an iterable. We can check if an element is in the list using the `in` operator."
      ]
    },
    {
      "cell_type": "code",
      "execution_count": null,
      "metadata": {
        "colab": {
          "base_uri": "https://localhost:8080/"
        },
        "id": "a_P5NCi-efvb",
        "outputId": "23713d46-1723-483b-8e3a-1fae2128e09b"
      },
      "outputs": [
        {
          "name": "stdout",
          "output_type": "stream",
          "text": [
            "5 is in the list\n"
          ]
        }
      ],
      "source": [
        "my_list = [1, 3, 5, 7, 9]\n",
        "item_to_find = 5\n",
        "if item_to_find in my_list:\n",
        "    print(f\"{item_to_find} is in the list\")\n",
        "else:\n",
        "    print(f\"{item_to_find} is not in mylist\")"
      ]
    },
    {
      "cell_type": "markdown",
      "metadata": {
        "id": "LypIsP5gkl10"
      },
      "source": [
        "The length of a list can be obtained using the `len` function"
      ]
    },
    {
      "cell_type": "code",
      "execution_count": null,
      "metadata": {
        "colab": {
          "base_uri": "https://localhost:8080/"
        },
        "id": "ac0FMsaKkrWc",
        "outputId": "06c9d939-4cac-49a9-cf01-dfb5adeee5c0"
      },
      "outputs": [
        {
          "name": "stdout",
          "output_type": "stream",
          "text": [
            "5\n"
          ]
        }
      ],
      "source": [
        "print(len(my_list))"
      ]
    },
    {
      "cell_type": "markdown",
      "metadata": {
        "id": "5ZSa5uQwqQcp"
      },
      "source": [
        "The `shuffle()` method takes a sequence, like a list, and reorganizes the order of the items."
      ]
    },
    {
      "cell_type": "code",
      "execution_count": null,
      "metadata": {
        "colab": {
          "base_uri": "https://localhost:8080/"
        },
        "id": "FO5TRH_8qXUp",
        "outputId": "f8fae121-0e9c-487e-85b4-29d399340ec5"
      },
      "outputs": [
        {
          "name": "stdout",
          "output_type": "stream",
          "text": [
            "['banana', 'cherry', 'apple']\n"
          ]
        }
      ],
      "source": [
        "import random\n",
        "\n",
        "mylist = [\"apple\", \"banana\", \"cherry\"]\n",
        "random.shuffle(mylist)\n",
        "\n",
        "print(mylist) "
      ]
    },
    {
      "cell_type": "markdown",
      "metadata": {
        "id": "EgQlTzmNmX0x"
      },
      "source": [
        "The `choice()` method randomly chooses an item from a list."
      ]
    },
    {
      "cell_type": "code",
      "execution_count": null,
      "metadata": {
        "colab": {
          "base_uri": "https://localhost:8080/"
        },
        "id": "6M1fFDuh7_DE",
        "outputId": "eb91177d-f2b2-4ebb-d705-8f0d67403799"
      },
      "outputs": [
        {
          "name": "stdout",
          "output_type": "stream",
          "text": [
            "cherry\n"
          ]
        }
      ],
      "source": [
        "import random\n",
        "mylist = [\"apple\", \"banana\", \"cherry\"]\n",
        "typed_word = random.choice(mylist)\n",
        "print(typed_word)"
      ]
    },
    {
      "cell_type": "markdown",
      "metadata": {
        "id": "ojR5plGRu1pP"
      },
      "source": [
        "## Tuples\n",
        "Tuples are almost the same as Lists. Unlike Lists, Tuples are immutable, they cannot be changed."
      ]
    },
    {
      "cell_type": "code",
      "execution_count": null,
      "metadata": {
        "colab": {
          "base_uri": "https://localhost:8080/"
        },
        "id": "Jxl21GTQx1yt",
        "outputId": "6bd58a13-d08c-44f9-8de1-109193c1ba41"
      },
      "outputs": [
        {
          "name": "stdout",
          "output_type": "stream",
          "text": [
            "(1, 2, 30)\n"
          ]
        }
      ],
      "source": [
        "my_tuple = (1, 2, 30)\n",
        "print(my_tuple)"
      ]
    },
    {
      "cell_type": "markdown",
      "metadata": {
        "id": "-w9cTvoju5g1"
      },
      "source": [
        "## Dictionaries\n",
        "A Python dictionary is an unordered data collection that contains key:value pairs separated by commas inside curly brackets. Dictionaries are optimized to retrieve values when the key is known. \n",
        "\n",
        " Dictionary Example:\n",
        "\n",
        "`state_capitals = {\"Idaho\":\"Boise\", \"Nebraska\":\"Lincoln\", \"Minnesota\":\"St Paul\"}`"
      ]
    },
    {
      "cell_type": "code",
      "execution_count": null,
      "metadata": {
        "colab": {
          "base_uri": "https://localhost:8080/"
        },
        "id": "mg0olo-jwi-S",
        "outputId": "2c333a70-bb03-4183-ca8f-ea8a884e2a60"
      },
      "outputs": [
        {
          "name": "stdout",
          "output_type": "stream",
          "text": [
            "{'Zeus': '201.258.2365', 'Ares': '142.258.1278', 'Apophis': '258.364.2586'}\n",
            "201.258.2365\n",
            "Ares: 142.258.1278\n",
            "258.364.2586\n"
          ]
        }
      ],
      "source": [
        "phone_numbers = {\"Zeus\":\"201.258.2365\", \"Ares\":\"142.258.1278\", \"Apophis\":\"258.364.2586\"}\n",
        "print(phone_numbers)\n",
        "print(phone_numbers.get(\"Zeus\"))\n",
        "print(f\"Ares: {phone_numbers['Ares']}\")\n",
        "apophis = phone_numbers.get(\"Apophis\")\n",
        "print(apophis)"
      ]
    },
    {
      "cell_type": "markdown",
      "metadata": {
        "id": "kPTK7rPllQhd"
      },
      "source": [
        "## Strings\n",
        "\n",
        "Python has a set of built-in methods that you can use on strings.\n",
        "\n",
        "All string methods returns new values. They do not change the original string.\n",
        "\n",
        "\n"
      ]
    },
    {
      "cell_type": "markdown",
      "metadata": {
        "id": "Jm6hZhgz7KhI"
      },
      "source": [
        "The string data type stores text. In Python, they can be delimited using either single quotes or double quotes."
      ]
    },
    {
      "cell_type": "code",
      "execution_count": null,
      "metadata": {
        "colab": {
          "base_uri": "https://localhost:8080/"
        },
        "id": "b1jAH88flklB",
        "outputId": "99f37c51-ea73-43aa-f466-cad50de8ace3"
      },
      "outputs": [
        {
          "name": "stdout",
          "output_type": "stream",
          "text": [
            "Original:     Herbert Hoover\n",
            "capitalize(): Herbert hoover\n",
            "title():      Herbert Hoover\n",
            "casefold():   herbert hoover\n",
            "upper():      HERBERT HOOVER\n",
            "swapcase():   hERBERT hOOVER\n"
          ]
        }
      ],
      "source": [
        "name = \"Herbert Hoover\"\n",
        "print(f\"Original:     {name}\")\n",
        "print(f\"capitalize(): {name.capitalize()}\")\n",
        "print(f\"title():      {name.title()}\")\n",
        "lower_case = name.casefold()\n",
        "print(f\"casefold():   {lower_case}\")\n",
        "upper_case = name.upper()\n",
        "print(f\"upper():      {upper_case}\")\n",
        "print(f\"swapcase():   {name.swapcase()}\")"
      ]
    },
    {
      "cell_type": "markdown",
      "metadata": {
        "id": "hOQ_CIiu76YG"
      },
      "source": [
        "String concatenation is performed using the `+` operator."
      ]
    },
    {
      "cell_type": "code",
      "execution_count": null,
      "metadata": {
        "id": "cCma6Oj_7T8n"
      },
      "outputs": [],
      "source": [
        "string1 = \"some text\"\n",
        "string2 = 'some other text'"
      ]
    },
    {
      "cell_type": "code",
      "execution_count": null,
      "metadata": {
        "colab": {
          "base_uri": "https://localhost:8080/",
          "height": 35
        },
        "id": "mxqNMKCY79_W",
        "outputId": "98bbd891-315f-4002-d86b-bc63145ee0a8"
      },
      "outputs": [
        {
          "data": {
            "application/vnd.google.colaboratory.intrinsic+json": {
              "type": "string"
            },
            "text/plain": [
              "'some text some other text'"
            ]
          },
          "execution_count": 4,
          "metadata": {},
          "output_type": "execute_result"
        }
      ],
      "source": [
        "string1 + \" \" + string2"
      ]
    },
    {
      "cell_type": "markdown",
      "metadata": {
        "id": "oA_UD0JV7oPw"
      },
      "source": [
        "We can slice strings just like lists."
      ]
    },
    {
      "cell_type": "markdown",
      "metadata": {
        "id": "Irr4xuWu7Znu"
      },
      "source": [
        "Strings behave similarly to lists. We can access individual elements in exactly the same way."
      ]
    },
    {
      "cell_type": "code",
      "execution_count": null,
      "metadata": {
        "colab": {
          "base_uri": "https://localhost:8080/",
          "height": 35
        },
        "id": "dcZFcLqQ7qCe",
        "outputId": "462ebdf1-9c8c-4515-87dc-dff1c08cec4e"
      },
      "outputs": [
        {
          "data": {
            "application/vnd.google.colaboratory.intrinsic+json": {
              "type": "string"
            },
            "text/plain": [
              "'text'"
            ]
          },
          "execution_count": 5,
          "metadata": {},
          "output_type": "execute_result"
        }
      ],
      "source": [
        "string1[5:]"
      ]
    },
    {
      "cell_type": "code",
      "execution_count": null,
      "metadata": {
        "colab": {
          "base_uri": "https://localhost:8080/",
          "height": 35
        },
        "id": "26_POhLO7iM3",
        "outputId": "c2d373c7-537a-45b9-c5b7-22c56a4f3bf4"
      },
      "outputs": [
        {
          "data": {
            "application/vnd.google.colaboratory.intrinsic+json": {
              "type": "string"
            },
            "text/plain": [
              "'e'"
            ]
          },
          "execution_count": 6,
          "metadata": {},
          "output_type": "execute_result"
        }
      ],
      "source": [
        "string1[3]"
      ]
    },
    {
      "cell_type": "markdown",
      "metadata": {
        "id": "jDxjvtEEM1vg"
      },
      "source": [
        "## Going Further"
      ]
    },
    {
      "cell_type": "markdown",
      "metadata": {
        "id": "wRkmvzf-PdEp"
      },
      "source": [
        "It is impossible to cover all the language features in this short introduction. To go further, we recommend the following resources:"
      ]
    },
    {
      "cell_type": "markdown",
      "metadata": {
        "id": "n8nbPoWclRlH"
      },
      "source": [
        "* [Python Tutorial with Google Collab](https://colab.research.google.com/github/cs231n/cs231n.github.io/blob/master/python-colab.ipynb)\n",
        "*   List of Python [tutorials](https://wiki.python.org/moin/BeginnersGuide/Programmers)\n",
        "* Four-hour [course](https://www.youtube.com/watch?v=rfscVS0vtbw) on Youtube\n",
        "\n",
        "[Back to Top](#top)"
      ]
    },
    {
      "cell_type": "markdown",
      "metadata": {
        "id": "eQKo5-xfoSLl"
      },
      "source": [
        "## License\n",
        "<a rel=\"license\" href=\"http://creativecommons.org/licenses/by-nc-sa/4.0/\"><img alt=\"Creative Commons License\" style=\"border-width:0\" src=\"https://i.creativecommons.org/l/by-nc-sa/4.0/88x31.png\" /></a><br />This work is licensed under a <a rel=\"license\" href=\"http://creativecommons.org/licenses/by-nc-sa/4.0/\">Creative Commons Attribution-NonCommercial-ShareAlike 4.0 International License</a>.\n",
        "\n",
        "Copyright (c) 2022 William A Loring"
      ]
    }
  ],
  "metadata": {
    "colab": {
      "collapsed_sections": [
        "JbVT11Y8CbAu",
        "YV4sYCn8EPwb",
        "3EKvP6jiMZ9H",
        "WjrwJdMGt9p-",
        "awIcNobVu7NC",
        "-w9cTvoju5g1",
        "kPTK7rPllQhd",
        "jDxjvtEEM1vg",
        "eQKo5-xfoSLl"
      ],
      "include_colab_link": true,
      "provenance": [],
      "toc_visible": true
    },
    "kernelspec": {
      "display_name": "Python 3",
      "name": "python3"
    }
  },
  "nbformat": 4,
  "nbformat_minor": 0
}
