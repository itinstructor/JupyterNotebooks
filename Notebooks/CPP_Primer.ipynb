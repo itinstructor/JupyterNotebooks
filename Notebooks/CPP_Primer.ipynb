{
  "nbformat": 4,
  "nbformat_minor": 0,
  "metadata": {
    "colab": {
      "provenance": [],
      "toc_visible": true,
      "include_colab_link": true
    },
    "kernelspec": {
      "name": "python3",
      "display_name": "Python 3"
    }
  },
  "cells": [
    {
      "cell_type": "markdown",
      "metadata": {
        "id": "view-in-github",
        "colab_type": "text"
      },
      "source": [
        "<a href=\"https://colab.research.google.com/github/itinstructor/JupyterNotebooks/blob/main/Notebooks/CPP_Primer.ipynb\" target=\"_parent\"><img src=\"https://colab.research.google.com/assets/colab-badge.svg\" alt=\"Open In Colab\"/></a>"
      ]
    },
    {
      "cell_type": "markdown",
      "metadata": {
        "id": "3_8odoHmArJr"
      },
      "source": [
        "# Introduction to C++\n",
        "\n",
        "C++ (pronounced see plus plus) is a general purpose programming language that is free-form and compiled. It is regarded as an intermediate-level language, as it comprises both high-level and low-level language features. It provides imperative, object-oriented, and generic programming features.\n",
        "\n",
        "**Machine Independent Platform Dependent:** A C++ executable is not platform-independent (compiled programs on Linux won’t run on Windows). C++ code is machine independent. A C++ program can be compiled and executed on any operating system that has a C++ compiler.\n",
        "\n",
        "**What is C++?**\n",
        "\n",
        "C++ is a cross-platform language that can be used to create high-performance applications.\n",
        "\n",
        "C++ is one of the most popular programming languages and is implemented on a wide variety of hardware and operating system platforms. As an efficient performance driven programming language, it is used in systems software, application software, device drivers, embedded software, high-performance server and client applications, and entertainment software such as video games. Various entities provide both open source and proprietary C++ compiler software, including the FSF, LLVM, MingGW, Microsoft and Intel\n",
        "\n",
        "**Who developed C++?**\n",
        "\n",
        "Bjarne Stroustrup developed C++ (originally named \"C with Classes\") in 1983 at Bell Labs as an enhancement to the C programming language.\n",
        "\n"
      ]
    },
    {
      "cell_type": "markdown",
      "source": [
        "## Colab and Linux\n",
        "\n",
        "Google Colab runs in a Linux Cloud VM (Virtual Machine). You can access most of the bash commands with a `!` added in the front of the command.\n",
        "\n",
        "Run the following code to find out the Colab Linux version."
      ],
      "metadata": {
        "id": "yA7PXRQ5ws83"
      }
    },
    {
      "cell_type": "code",
      "source": [
        "!cat /etc/*release"
      ],
      "metadata": {
        "id": "rvYbJT7ywuYr",
        "outputId": "2dda71c7-ecd1-4fe5-a1b3-5c8eebdd650a",
        "colab": {
          "base_uri": "https://localhost:8080/"
        }
      },
      "execution_count": 1,
      "outputs": [
        {
          "output_type": "stream",
          "name": "stdout",
          "text": [
            "DISTRIB_ID=Ubuntu\n",
            "DISTRIB_RELEASE=22.04\n",
            "DISTRIB_CODENAME=jammy\n",
            "DISTRIB_DESCRIPTION=\"Ubuntu 22.04.3 LTS\"\n",
            "PRETTY_NAME=\"Ubuntu 22.04.3 LTS\"\n",
            "NAME=\"Ubuntu\"\n",
            "VERSION_ID=\"22.04\"\n",
            "VERSION=\"22.04.3 LTS (Jammy Jellyfish)\"\n",
            "VERSION_CODENAME=jammy\n",
            "ID=ubuntu\n",
            "ID_LIKE=debian\n",
            "HOME_URL=\"https://www.ubuntu.com/\"\n",
            "SUPPORT_URL=\"https://help.ubuntu.com/\"\n",
            "BUG_REPORT_URL=\"https://bugs.launchpad.net/ubuntu/\"\n",
            "PRIVACY_POLICY_URL=\"https://www.ubuntu.com/legal/terms-and-policies/privacy-policy\"\n",
            "UBUNTU_CODENAME=jammy\n"
          ]
        }
      ]
    },
    {
      "cell_type": "markdown",
      "source": [
        "## Compile C++ with Colab"
      ],
      "metadata": {
        "id": "nE0BXuT7w-Qy"
      }
    },
    {
      "cell_type": "markdown",
      "source": [
        "**What Is g++?**\n",
        "\n",
        "G++ is best described as a C++ compiler that runs from your command line. It was released by the Free Software Foundation and is part of the GCC (GNU Compiler Collection). It turns your code, written in a high-level programming language (in this case, C++), into an executable file by transforming it into a lower-level language understood by the computer.\n",
        "\n",
        "Most Linux installations come with g++ installed straight out of the box.\n",
        "\n",
        "Colab is built on a Linux platform. We can use g++ to compile and run C++ programs with a few magic commands.\n",
        "\n",
        "**Magic** commands are special commands that can help you with running and analyzing data in your notebook. They add special functionality that is not easily available with python code or jupyter notebook interface. Magic commands are easy to spot within the code.\n",
        "\n",
        "Before we can compile a C++ file, we have to write the code to a file in the Colab workspace file system. Any files written to the Colab workspace disapear when you leave your Colab session. Run the cell again to re write the file.\n",
        "\n",
        "**%%writefile** is a magic command that will write your program file to temporary file storage.\n",
        "\n",
        "**%%shell** is a magic command that gives us access to the Linux command shell (terminal)."
      ],
      "metadata": {
        "id": "waAKEq_Yw7KG"
      }
    },
    {
      "cell_type": "code",
      "source": [
        "%%writefile hello_world.cpp\n",
        "#include <iostream>\n",
        "int\tmain()\n",
        "{\n",
        "\tstd::cout << \"Hello C++ in Colab World! ;')\\n\";\n",
        "\treturn 0;\n",
        "}"
      ],
      "metadata": {
        "colab": {
          "base_uri": "https://localhost:8080/"
        },
        "id": "xgLNjglPxOSy",
        "outputId": "212dbc6c-5116-4a1b-edf2-d2ca23bf17de"
      },
      "execution_count": 2,
      "outputs": [
        {
          "output_type": "stream",
          "name": "stdout",
          "text": [
            "Writing hello_world.cpp\n"
          ]
        }
      ]
    },
    {
      "cell_type": "markdown",
      "source": [
        "The Linux `ls -l` command lists the files in the current working directory.  You should see `hello_world.cpp` listed."
      ],
      "metadata": {
        "id": "6mPd7rVfxTzs"
      }
    },
    {
      "cell_type": "code",
      "source": [
        "!ls -l"
      ],
      "metadata": {
        "colab": {
          "base_uri": "https://localhost:8080/"
        },
        "id": "Dybuzi37xXoQ",
        "outputId": "a81fdef8-48af-44b4-8507-ce733f737569"
      },
      "execution_count": 3,
      "outputs": [
        {
          "output_type": "stream",
          "name": "stdout",
          "text": [
            "total 8\n",
            "-rw-r--r-- 1 root root   95 Jan 12 11:01 hello_world.cpp\n",
            "drwxr-xr-x 1 root root 4096 Jan  9 14:24 sample_data\n"
          ]
        }
      ]
    },
    {
      "cell_type": "markdown",
      "source": [
        "`%%shell` gives us access to the Linux shell for the duration of the code cell run.\n",
        "\n",
        "- Use the g++ compiler to compile the program.\n",
        "- Run the program."
      ],
      "metadata": {
        "id": "nlT7Ei6kxdQh"
      }
    },
    {
      "cell_type": "code",
      "source": [
        "%%shell\n",
        "# Display g++ version\n",
        "g++ --version\n",
        "# Compile with g++\n",
        "g++ hello_world.cpp -o hello_world -Wall\n",
        "# Run the program\n",
        "./hello_world"
      ],
      "metadata": {
        "colab": {
          "base_uri": "https://localhost:8080/"
        },
        "id": "Nzi66XNqxgsS",
        "outputId": "c1f3aa3e-e94f-4179-bde0-7f8d081a40cc"
      },
      "execution_count": 4,
      "outputs": [
        {
          "output_type": "stream",
          "name": "stdout",
          "text": [
            "g++ (Ubuntu 11.4.0-1ubuntu1~22.04) 11.4.0\n",
            "Copyright (C) 2021 Free Software Foundation, Inc.\n",
            "This is free software; see the source for copying conditions.  There is NO\n",
            "warranty; not even for MERCHANTABILITY or FITNESS FOR A PARTICULAR PURPOSE.\n",
            "\n",
            "Hello C++ in Colab World! ;')\n"
          ]
        },
        {
          "output_type": "execute_result",
          "data": {
            "text/plain": []
          },
          "metadata": {},
          "execution_count": 4
        }
      ]
    },
    {
      "cell_type": "markdown",
      "source": [
        "That is how we can use C++ in Colab. We use the underlying Linux OS to compile and run C++ programs."
      ],
      "metadata": {
        "id": "gz8l0utBxnIU"
      }
    },
    {
      "cell_type": "markdown",
      "metadata": {
        "id": "g6LT91r5_mdJ"
      },
      "source": [
        "## Your First C++ Program Hello World\n",
        "Traditionally the first program people write in a new language is called “Hello,\n",
        "World.” because all it does is print the words “Hello, World.” In C++, this\n",
        "program looks like this:"
      ]
    },
    {
      "cell_type": "code",
      "metadata": {
        "id": "am4ZQ3cN_Bc_",
        "colab": {
          "base_uri": "https://localhost:8080/"
        },
        "outputId": "2bcead27-c765-4d4b-9554-165366be305e"
      },
      "source": [
        "%%writefile hello_world.cpp\n",
        "// Include iostream for the cout function\n",
        "#include <iostream>\n",
        "// Entry point for all C++ programs\n",
        "int main() {\n",
        "    // Use cout to print text to the console\n",
        "    // endl adds a new line\n",
        "    // std:: is the standard library\n",
        "    std::cout << \"Hello, World!\" << std::endl;\n",
        "    std::cout << \"We are on the C++ road to programming excellence!\" << std::endl;\n",
        "    return 0;\n",
        "}"
      ],
      "execution_count": 5,
      "outputs": [
        {
          "output_type": "stream",
          "name": "stdout",
          "text": [
            "Overwriting hello_world.cpp\n"
          ]
        }
      ]
    },
    {
      "cell_type": "code",
      "source": [
        "%%shell\n",
        "# Compile with g++\n",
        "g++ hello_world.cpp -o hello_world -Wall\n",
        "# Run the program\n",
        "./hello_world"
      ],
      "metadata": {
        "colab": {
          "base_uri": "https://localhost:8080/"
        },
        "id": "Z8WXItp9yUBA",
        "outputId": "800402e1-72ba-47a3-fe60-b488dc5fd8c4"
      },
      "execution_count": 6,
      "outputs": [
        {
          "output_type": "stream",
          "name": "stdout",
          "text": [
            "Hello, World!\n",
            "We are on the C++ road to programming excellence!\n"
          ]
        },
        {
          "output_type": "execute_result",
          "data": {
            "text/plain": []
          },
          "metadata": {},
          "execution_count": 6
        }
      ]
    },
    {
      "cell_type": "markdown",
      "source": [
        "## How It Works\n",
        "\n",
        "1. `// Your first C++ program`\n",
        "\n",
        "    In C++, any line starting with // is a comment. Comments are intended for the person reading the code to better understand the functionality of the program It is completely ignored by the C++ compiler.\n",
        "\n",
        "2. `#include <iostream>`\n",
        "\n",
        "    The `#include` statement is a preprocessor directive used to include files in our program. The above code includes the contents of the iostream library file.  A library file is prewritten code that we can use without having to write it ourselves.\n",
        "\n",
        "    This allows us to use `cout` in our program to print output on the screen.\n",
        "\n",
        "3. `int main() {...}`\n",
        "\n",
        "    A valid C++ program must have the main() function. The curly braces indicate the start and the end of the function.\n",
        "\n",
        "    The execution of code starts in this function.\n",
        "    `std::cout << \"Hello World!\";`\n",
        "\n",
        "    `std::cout` prints the content inside the quotation marks. It must be followed by << followed by the format string. In our example, \"Hello World!\" is the format string.\n",
        "\n",
        "    Note: ; is used to indicate the end of a statement.\n",
        "4. `return 0;`\n",
        "\n",
        "    The return 0; statement is the \"Exit status\" of the program. In simple terms, the program ends with this statement.\n"
      ],
      "metadata": {
        "id": "Cos3ZXQ9QymD"
      }
    },
    {
      "cell_type": "markdown",
      "metadata": {
        "id": "03I1mZizzX5x"
      },
      "source": [
        "## Comments\n",
        "Comments are used to explain C++ code, and to make it more readable. It can also be used to prevent execution when testing alternative code. Comments can be singled-lined or multi-lined.\n",
        "\n",
        "Single-line comments start with two forward slashes (//).\n",
        "\n",
        "Any text between // and the end of the line is ignored by the compiler (will not be executed)."
      ]
    },
    {
      "cell_type": "markdown",
      "metadata": {
        "id": "BYz7t5-DFgLd"
      },
      "source": [
        "# Variables and Data Types\n",
        "\n",
        "**Data types**\n",
        "\n",
        "C++ provides a rich set of built-in as well as user defined data types. The following table lists the basic C++ data types:\n",
        "\n",
        "- Boolean - boolean - either true or false (Size 4 bytes).\n",
        "- Integers - Whole numbers which can be both positive and negative. Defined using char, int.(Size 4 bytes)\n",
        "- Float - real numbers (numbers with fractions). (size 4 bytes)\n",
        "- Double - Stores Fractional numbers containing one or more decimals (size 8 bytes )\n",
        "- Char - Stores a single character\n",
        "\n",
        "To define the variables foo and bar, we need to use the following syntax:\n",
        "\n",
        "```int foo;```\n",
        "\n",
        "```int bar = 1;```\n",
        "\n",
        "The variable foo can be used, but since we did not initialize it, we don't know what's in it. The variable bar contains the number 1.\n",
        "\n",
        "Now, we can do some math. Assuming a, b, c, d, and e are variables, we can simply use plus, minus and multiplication operators in the following notation, and assign a new value to a:\n",
        "\n",
        "```int a = 0, b = 1, c = 2, d = 3, e = 4;```\n",
        "\n",
        "```a = b - c + d * e;```\n",
        "\n",
        "```cout << a << endl; // will print 1-2+3*4 = 11```"
      ]
    },
    {
      "cell_type": "markdown",
      "metadata": {
        "id": "niOqrXYirLI0"
      },
      "source": [
        "## Strings\n",
        "\n",
        "Strings are used for storing text.\n",
        "\n",
        "A string variable contains a collection of characters surrounded by double quotes.\n"
      ]
    },
    {
      "cell_type": "markdown",
      "metadata": {
        "id": "9nJmmu7VDI-8"
      },
      "source": [
        "# User Input\n",
        "\n",
        "`cout` is used to output (print) values. `cin` gets user input.\n",
        "\n",
        "`cin` is a predefined variable that reads data from the keyboard with the extraction operator `>>`."
      ]
    },
    {
      "cell_type": "code",
      "metadata": {
        "id": "cI_PlqEbB7EG",
        "colab": {
          "base_uri": "https://localhost:8080/"
        },
        "outputId": "5c47cfc3-73eb-415e-ce7c-e1430148bcea"
      },
      "source": [
        "%%writefile hello_input.cpp\n",
        "#include <iostream>\n",
        "\n",
        "int main() {\n",
        "  // Declare int variable\n",
        "  int x = 0;\n",
        "  // Type a number and press enter\n",
        "  std::cout << \"Type a number: \";\n",
        "  // Get user input from the keyboard\n",
        "  std::cin >> x;\n",
        "  // Display the input value\n",
        "  std::cout << \"Your number is: \" << x;\n",
        "}"
      ],
      "execution_count": null,
      "outputs": [
        {
          "output_type": "stream",
          "name": "stdout",
          "text": [
            "Writing hello_input.cpp\n"
          ]
        }
      ]
    },
    {
      "cell_type": "code",
      "source": [
        "%%shell\n",
        "# Compile with g++\n",
        "g++ hello_input.cpp -o hello_input -Wall\n",
        "# Run the program\n",
        "./hello_input"
      ],
      "metadata": {
        "colab": {
          "base_uri": "https://localhost:8080/"
        },
        "id": "369tTlPg0Tbl",
        "outputId": "e20946fd-8d79-4f5d-aef9-6ab396cd09b3"
      },
      "execution_count": null,
      "outputs": [
        {
          "output_type": "stream",
          "name": "stdout",
          "text": [
            "Type a number: 5\n",
            "Your number is: 5"
          ]
        },
        {
          "output_type": "execute_result",
          "data": {
            "text/plain": [
              ""
            ]
          },
          "metadata": {},
          "execution_count": 28
        }
      ]
    },
    {
      "cell_type": "code",
      "metadata": {
        "id": "wlbWsYAQqGjm",
        "colab": {
          "base_uri": "https://localhost:8080/"
        },
        "outputId": "76faec85-c5e4-4ae7-8d41-e18bbb465898"
      },
      "source": [
        "%%writefile addition.cpp\n",
        "#include <iostream>\n",
        "\n",
        "int main() {\n",
        "  int a = 3;\n",
        "  float b = 4.5;\n",
        "  double c = 5.25;\n",
        "  double sum;\n",
        "\n",
        "  /* Your code goes here */\n",
        "  sum = a + b + c;\n",
        "\n",
        "  std::cout << \"The sum of a, b, and c is: \" << sum << std::endl;\n",
        "  return 0;\n",
        "}"
      ],
      "execution_count": null,
      "outputs": [
        {
          "output_type": "stream",
          "name": "stdout",
          "text": [
            "Overwriting addition.cpp\n"
          ]
        }
      ]
    },
    {
      "cell_type": "code",
      "source": [
        "%%shell\n",
        "# Compile with g++\n",
        "g++ addition.cpp -o addition -Wall\n",
        "# Run the program\n",
        "./addition"
      ],
      "metadata": {
        "colab": {
          "base_uri": "https://localhost:8080/"
        },
        "id": "rfG6Cno7rYSa",
        "outputId": "1fe073bf-326f-47e2-9a76-ffb5ee830ec8"
      },
      "execution_count": null,
      "outputs": [
        {
          "output_type": "stream",
          "name": "stdout",
          "text": [
            "The sum of a, b, and c is: 12.75\n"
          ]
        },
        {
          "output_type": "execute_result",
          "data": {
            "text/plain": [
              ""
            ]
          },
          "metadata": {},
          "execution_count": 25
        }
      ]
    },
    {
      "cell_type": "code",
      "metadata": {
        "id": "3e4il_SbHlGa",
        "colab": {
          "base_uri": "https://localhost:8080/"
        },
        "outputId": "ca5daf14-6288-4457-c93c-41dbf715376e"
      },
      "source": [
        "%%writefile temperature_converter.cpp\n",
        "#include <iostream>\n",
        "int main()\n",
        "{\n",
        "    double degrees;\n",
        "    double celsius;\n",
        "    std::cout << \"Enter temperature in degrees F: \";\n",
        "    // Program pauses until use enters a value and presses enter\n",
        "    std::cin >> degrees;\n",
        "    celsius = (degrees - 32) * 5.0 / 9.0;\n",
        "    std::cout << degrees << \"° Fahrenheit = \" << celsius << \"° Celsius\" << std::endl;\n",
        "    return 0;\n",
        "}"
      ],
      "execution_count": null,
      "outputs": [
        {
          "output_type": "stream",
          "name": "stdout",
          "text": [
            "Overwriting temperature_converter.cpp\n"
          ]
        }
      ]
    },
    {
      "cell_type": "code",
      "source": [
        "%%shell\n",
        "# Compile with g++\n",
        "g++ temperature_converter.cpp -o temperature_converter -Wall\n",
        "# Run the program\n",
        "./temperature_converter"
      ],
      "metadata": {
        "colab": {
          "base_uri": "https://localhost:8080/"
        },
        "id": "Q7CFzyP9qGNJ",
        "outputId": "64cede53-1b27-4c7e-9707-c008e5d26262"
      },
      "execution_count": null,
      "outputs": [
        {
          "output_type": "stream",
          "name": "stdout",
          "text": [
            "Enter temperature in degrees F: -40\n",
            "-40° Fahrenheit = -40° Celsius\n"
          ]
        },
        {
          "output_type": "execute_result",
          "data": {
            "text/plain": [
              ""
            ]
          },
          "metadata": {},
          "execution_count": 10
        }
      ]
    },
    {
      "cell_type": "markdown",
      "metadata": {
        "id": "OV7wWFvR7tSO"
      },
      "source": [
        "# Operators\n",
        "Operators are used to perform operations on variables and values.\n",
        "\n",
        "In the example below, we use the + operator to add together two values:"
      ]
    },
    {
      "cell_type": "markdown",
      "metadata": {
        "id": "ib_1YEkT9RSD"
      },
      "source": [
        "## Arithmetic Operators\n",
        "Arithmetic operators are used to perform common mathematical operations.\n",
        "\n",
        "|    | Operation | Descripition | Example |\n",
        "|---- |---- |---- |---- |\n",
        "| + | (Addition)| (Adds together two values) | (x + y)\n",
        "| - | (Subraction) | (Subtracts one value from another) | (x - y)\n",
        "| \\* | (Multiplication) | (Multiplies two values) | (x * y)\n",
        "| / | (Division) | (Divides one value by another)| (x / y)\n",
        "| % | (Modulus) |(Returns the division remainder) | (x % y)\n",
        "| ++ | (Increment) | (Increases the value of a variable by 1) | (++x)\n",
        "| -- | (Decrement) | (Decreases the value of a variable by 1) | (--x)"
      ]
    },
    {
      "cell_type": "code",
      "metadata": {
        "id": "QF_Q5Y-j9FNt",
        "colab": {
          "base_uri": "https://localhost:8080/"
        },
        "outputId": "3a45c3f8-1df9-4601-b46e-9172a54318a6"
      },
      "source": [
        "%%writefile operators.cpp\n",
        "#include <iostream>\n",
        "\n",
        "int main(){\n",
        "    int a{7};\n",
        "    int b{6};\n",
        "    int resultPlus;\n",
        "    resultPlus = a + b;\n",
        "    int resultMinus;\n",
        "    resultMinus = a - b;\n",
        "    int resultMultiplication;\n",
        "    resultMultiplication = a * b;\n",
        "    int resultDivision;\n",
        "    resultDivision = a / b;\n",
        "    std::cout <<\"Addition: a + b = \" << resultPlus << std::endl;\n",
        "    std::cout <<\"Subtract: a - b = \" << resultMinus << std::endl;\n",
        "    std::cout <<\"Multiplication: a * b = \" << resultMultiplication << std::endl;\n",
        "    std::cout <<\"Division: a / b = \" << resultDivision << std::endl;\n",
        "    return 0;\n",
        "}\n"
      ],
      "execution_count": null,
      "outputs": [
        {
          "output_type": "stream",
          "name": "stdout",
          "text": [
            "Overwriting operators.cpp\n"
          ]
        }
      ]
    },
    {
      "cell_type": "code",
      "source": [
        "%%shell\n",
        "# Compile with g++\n",
        "g++ operators.cpp -o operators -Wall\n",
        "# Run the program\n",
        "./operators"
      ],
      "metadata": {
        "colab": {
          "base_uri": "https://localhost:8080/"
        },
        "id": "P_HllfYJqn-5",
        "outputId": "f591a8ba-7773-4d39-ae09-132f613615e5"
      },
      "execution_count": null,
      "outputs": [
        {
          "output_type": "stream",
          "name": "stdout",
          "text": [
            "Addition: a + b = 13\n",
            "Subtract: a - b = 1\n",
            "Multiplication: a * b = 42\n",
            "Division: a / b = 1\n"
          ]
        },
        {
          "output_type": "execute_result",
          "data": {
            "text/plain": [
              ""
            ]
          },
          "metadata": {},
          "execution_count": 18
        }
      ]
    },
    {
      "cell_type": "markdown",
      "metadata": {
        "id": "36_WDdfkG1si"
      },
      "source": [
        "# Assignment Operators\n",
        "\n",
        "Assignment operators are used to assign values to variables.\n",
        "\n",
        "In the example below, we use the assignment operator (=) to assign the value 10 to a variable called x:"
      ]
    },
    {
      "cell_type": "code",
      "metadata": {
        "id": "YGtKt_nMHE9b",
        "colab": {
          "base_uri": "https://localhost:8080/"
        },
        "outputId": "e22377b6-7729-4d32-829e-e9a111403858"
      },
      "source": [
        "%%writefile assignment.cpp\n",
        "#include <iostream>\n",
        "using namespace std;\n",
        "\n",
        "int main(){\n",
        "    // Declare variable\n",
        "    int x;\n",
        "    // Assign value to variable\n",
        "    x = 10;\n",
        "    cout << x << endl;\n",
        "    x = 4 * 87;\n",
        "    cout << x << endl;\n",
        "    return 0;\n",
        "}"
      ],
      "execution_count": null,
      "outputs": [
        {
          "output_type": "stream",
          "name": "stdout",
          "text": [
            "Overwriting assignment.cpp\n"
          ]
        }
      ]
    },
    {
      "cell_type": "code",
      "source": [
        "%%shell\n",
        "# Compile with g++\n",
        "g++ assignment.cpp -o assignment\n",
        "# Run the program\n",
        "./assignment"
      ],
      "metadata": {
        "colab": {
          "base_uri": "https://localhost:8080/"
        },
        "id": "PuUsT8XdyTIl",
        "outputId": "faeeaed8-e1ad-4912-b2ed-d314a9b40ed2"
      },
      "execution_count": null,
      "outputs": [
        {
          "output_type": "stream",
          "name": "stdout",
          "text": [
            "10\n",
            "348\n"
          ]
        },
        {
          "output_type": "execute_result",
          "data": {
            "text/plain": [
              ""
            ]
          },
          "metadata": {},
          "execution_count": 10
        }
      ]
    },
    {
      "cell_type": "markdown",
      "metadata": {
        "id": "4mT7mGDzPAj4"
      },
      "source": [
        "## Comparison Operators\n",
        "\n",
        "Comparison operators are used to compare two values.\n",
        "\n",
        "Note: The return value of a comparison is either true (1) or false (0).\n",
        "\n",
        "In the following example, we use the greater than operator (>) to find out if 5 is greater than 3:"
      ]
    },
    {
      "cell_type": "code",
      "metadata": {
        "id": "2TozvDFGXyTG",
        "colab": {
          "base_uri": "https://localhost:8080/"
        },
        "outputId": "194f5cc6-e373-4cdb-c71d-f76bceee8c27"
      },
      "source": [
        "%%writefile comparison_example.cpp\n",
        "#include <iostream>\n",
        "using namespace std;\n",
        "\n",
        "int main(){\n",
        "    int a =5;\n",
        "    int b =4;\n",
        "    cout << (a > b) << endl;\n",
        "    return 0;\n",
        "}\n"
      ],
      "execution_count": null,
      "outputs": [
        {
          "output_type": "stream",
          "name": "stdout",
          "text": [
            "Writing comparison_example.cpp\n"
          ]
        }
      ]
    },
    {
      "cell_type": "code",
      "source": [
        "%%shell\n",
        "# Compile with g++\n",
        "g++ comparison_example.cpp -o comparison_example\n",
        "# Run the program\n",
        "./comparison_example"
      ],
      "metadata": {
        "colab": {
          "base_uri": "https://localhost:8080/"
        },
        "outputId": "236a91b7-7936-4ea5-8e81-fc46e6200a37",
        "id": "uz2klCF8ztR7"
      },
      "execution_count": null,
      "outputs": [
        {
          "output_type": "stream",
          "name": "stdout",
          "text": [
            "1\n"
          ]
        },
        {
          "output_type": "execute_result",
          "data": {
            "text/plain": [
              ""
            ]
          },
          "metadata": {},
          "execution_count": 15
        }
      ]
    },
    {
      "cell_type": "markdown",
      "metadata": {
        "id": "3puBIFAu5rxI"
      },
      "source": [
        "## Logical Operators\n",
        "Logical operators are used to determine the logic between variables or values:\n",
        "\n"
      ]
    },
    {
      "cell_type": "code",
      "metadata": {
        "id": "xRu7fBW06M60",
        "colab": {
          "base_uri": "https://localhost:8080/"
        },
        "outputId": "5ea7f811-2933-41d1-d966-f089c7198584"
      },
      "source": [
        "%%writefile logical_operators_example.cpp\n",
        "#include <iostream>\n",
        "using namespace std;\n",
        "\n",
        "int main(){\n",
        "    int a{3};\n",
        "    int b{5};\n",
        "    // returns true (1) because 3 is greater than 2 AND 2 is less than 3\n",
        "    cout <<(a > 3 && a < 7) << endl;\n",
        "     // returns true (1) because one of the conditions are true (5 is greater than 3, but 5 is not less than 4)\n",
        "    cout <<( b > 3 || b < 4) << endl;\n",
        "    return 0;\n",
        "}\n"
      ],
      "execution_count": null,
      "outputs": [
        {
          "output_type": "stream",
          "name": "stdout",
          "text": [
            "Overwriting logical_operators_example.cpp\n"
          ]
        }
      ]
    },
    {
      "cell_type": "code",
      "source": [
        "%%shell\n",
        "# Compile with g++\n",
        "g++ logical_operators_example.cpp -o logical_operators_example\n",
        "# Run the program\n",
        "./logical_operators_example"
      ],
      "metadata": {
        "colab": {
          "base_uri": "https://localhost:8080/"
        },
        "outputId": "5af5edef-3c39-489e-ff1b-f638978bcf6d",
        "id": "Q0kDTf2R0LkB"
      },
      "execution_count": null,
      "outputs": [
        {
          "output_type": "stream",
          "name": "stdout",
          "text": [
            "0\n",
            "1\n"
          ]
        },
        {
          "output_type": "execute_result",
          "data": {
            "text/plain": [
              ""
            ]
          },
          "metadata": {},
          "execution_count": 19
        }
      ]
    },
    {
      "cell_type": "markdown",
      "metadata": {
        "id": "oNfn7srVI-Dm"
      },
      "source": [
        "# Math\n",
        "C++ has many functions in the standard library that allows you to perform mathematical tasks on numbers.\n"
      ]
    },
    {
      "cell_type": "markdown",
      "metadata": {
        "id": "s_3xpRurJT0U"
      },
      "source": [
        "## Max and Min\n",
        "- ```max(x, y)``` finds the highest value of x and y.\n",
        "- ```min(x, y)``` finds the lowest value of x and y."
      ]
    },
    {
      "cell_type": "code",
      "metadata": {
        "id": "cltZ1_XZJrn1",
        "colab": {
          "base_uri": "https://localhost:8080/"
        },
        "outputId": "d045ea70-8843-4038-caa0-96fc33405ed5"
      },
      "source": [
        "%%writefile max_min.cpp\n",
        "#include <iostream>\n",
        "\n",
        "int main(){\n",
        "    int a{2};\n",
        "    int b{5};\n",
        "    // this function is used to find max value between two\n",
        "    std::cout << std::max(a, b) << std::endl;\n",
        "    // this function is used to find min values beteen\n",
        "    std::cout << std::min(a, b) << std::endl;\n",
        "    return 0;\n",
        "}\n"
      ],
      "execution_count": null,
      "outputs": [
        {
          "output_type": "stream",
          "name": "stdout",
          "text": [
            "Overwriting max_min.cpp\n"
          ]
        }
      ]
    },
    {
      "cell_type": "code",
      "source": [
        "%%shell\n",
        "# Compile with g++\n",
        "g++ max_min.cpp -o max_min -Wall\n",
        "# Run the program\n",
        "./max_min"
      ],
      "metadata": {
        "colab": {
          "base_uri": "https://localhost:8080/"
        },
        "id": "-GIYRhAH9e83",
        "outputId": "62ae5ef9-10a9-46d5-d831-4dcabcc06562"
      },
      "execution_count": null,
      "outputs": [
        {
          "output_type": "stream",
          "name": "stdout",
          "text": [
            "5\n",
            "2\n"
          ]
        },
        {
          "output_type": "execute_result",
          "data": {
            "text/plain": [
              ""
            ]
          },
          "metadata": {},
          "execution_count": 20
        }
      ]
    },
    {
      "cell_type": "markdown",
      "metadata": {
        "id": "St_cU5xGL37Y"
      },
      "source": [
        "## cmath Header\n",
        "Other functions, such as sqrt (square root), round (rounds a number) and log (natural logarithm), can be found in the ```<cmath>``` header file.\n",
        "\n",
        "https://www.cplusplus.com/reference/cmath/\n"
      ]
    },
    {
      "cell_type": "code",
      "metadata": {
        "id": "jy6B6PNlMQMo",
        "colab": {
          "base_uri": "https://localhost:8080/"
        },
        "outputId": "362f5542-b3a3-4540-b80f-3f05cf1ee0a2"
      },
      "source": [
        "%%writefile math_header.cpp\n",
        "#include <iostream>\n",
        "#include <cmath>\n",
        "using namespace std;\n",
        "\n",
        "int main(){\n",
        "    int a{4};\n",
        "    int b{-2};\n",
        "    cout <<\"The square value of \" << a << \" is \" << sqrt(a) << endl;\n",
        "    cout <<\"The absolute value of \" << b << \" is \" << abs(b) << endl;\n",
        "    cout << pow(a, 4);\n",
        "}"
      ],
      "execution_count": null,
      "outputs": [
        {
          "output_type": "stream",
          "name": "stdout",
          "text": [
            "Overwriting math_header.cpp\n"
          ]
        }
      ]
    },
    {
      "cell_type": "code",
      "source": [
        "%%shell\n",
        "# Compile with g++\n",
        "g++ math_header.cpp -o math_header -Wall\n",
        "# Run the program\n",
        "./math_header"
      ],
      "metadata": {
        "colab": {
          "base_uri": "https://localhost:8080/"
        },
        "id": "HjvDRce-71Z6",
        "outputId": "98440734-6a38-4450-b2d9-ce6432f9532f"
      },
      "execution_count": null,
      "outputs": [
        {
          "output_type": "stream",
          "name": "stdout",
          "text": [
            "The square value of 4 is 2\n",
            "The absolute value of -2 is 2\n",
            "256"
          ]
        },
        {
          "output_type": "execute_result",
          "data": {
            "text/plain": [
              ""
            ]
          },
          "metadata": {},
          "execution_count": 76
        }
      ]
    },
    {
      "cell_type": "markdown",
      "metadata": {
        "id": "XO3Vd6AoP_Fd"
      },
      "source": [
        "Booleans\n",
        "Very often you need a data type that can only have one of two values, like:\n",
        "\n",
        "- YES / NO\n",
        "- ON / OFF\n",
        "- TRUE / FALSE\n",
        "\n",
        "C++ has a bool data type, which can take the values true (1) or false (0).\n"
      ]
    },
    {
      "cell_type": "code",
      "metadata": {
        "id": "xU-JYtJvQ6A-",
        "colab": {
          "base_uri": "https://localhost:8080/"
        },
        "outputId": "cebcc5e7-8f48-4b66-f8de-fabefce0e5a6"
      },
      "source": [
        "%%writefile boolean_example.cpp\n",
        "#include <iostream>\n",
        "\n",
        "int main(){\n",
        "    bool a = true;\n",
        "    bool b = false;\n",
        "    std::cout << a << std::endl;\n",
        "    std::cout << b << std::endl;\n",
        "    return 0;\n",
        "}\n"
      ],
      "execution_count": null,
      "outputs": [
        {
          "output_type": "stream",
          "name": "stdout",
          "text": [
            "Writing boolean_example.cpp\n"
          ]
        }
      ]
    },
    {
      "cell_type": "code",
      "source": [
        "%%shell\n",
        "# Compile with g++\n",
        "g++ boolean_example.cpp -o boolean_example -Wall\n",
        "# Run the program\n",
        "./boolean_example"
      ],
      "metadata": {
        "colab": {
          "base_uri": "https://localhost:8080/"
        },
        "id": "TXKnThDE3mn3",
        "outputId": "14de907f-16ff-400c-e09c-b6a69677d53a"
      },
      "execution_count": null,
      "outputs": [
        {
          "output_type": "stream",
          "name": "stdout",
          "text": [
            "1\n",
            "0\n"
          ]
        },
        {
          "output_type": "execute_result",
          "data": {
            "text/plain": [
              ""
            ]
          },
          "metadata": {},
          "execution_count": 22
        }
      ]
    },
    {
      "cell_type": "markdown",
      "metadata": {
        "id": "2Eg5xpduAiJT"
      },
      "source": [
        "# Decisions\n",
        "C++ supports the usual logical conditions from mathematics:\n",
        "\n",
        "- Less than: a < b\n",
        "- Less than or equal to: a <= b\n",
        "- Greater than: a > b\n",
        "- Greater than or equal to: a >= b\n",
        "- Equal to a == b\n",
        "- Not Equal to: a != b\n",
        "- You can use these conditions to perform different actions for different decisions.\n",
        "\n",
        "C++ has the following conditional statements:\n",
        "\n",
        "- Use if to specify a block of code to be executed, if a specified condition is true\n",
        "- Use else to specify a block of code to be executed, if the same condition is false\n",
        "- Use else if to specify a new condition to test, if the first condition is false\n",
        "- Use switch to specify many alternative blocks of code to be executed\n"
      ]
    },
    {
      "cell_type": "markdown",
      "metadata": {
        "id": "HKZNKovpDNIN"
      },
      "source": [
        "## if Statement\n",
        "Use the if statement to specify a block of C++ code to be executed if a condition is true."
      ]
    },
    {
      "cell_type": "code",
      "metadata": {
        "id": "NgeDTZNBDv5V",
        "colab": {
          "base_uri": "https://localhost:8080/"
        },
        "outputId": "80fafde4-74ed-44f1-bb17-fe5be5c03440"
      },
      "source": [
        "%%writefile if_statement.cpp\n",
        "#include <iostream>\n",
        "\n",
        "int main(){\n",
        "    int time{20};\n",
        "    if(time > 18) {\n",
        "        std::cout << \"Good day.\" << std::endl;\n",
        "    }\n",
        "    return 0;\n",
        "}"
      ],
      "execution_count": null,
      "outputs": [
        {
          "output_type": "stream",
          "name": "stdout",
          "text": [
            "Overwriting if_statement.cpp\n"
          ]
        }
      ]
    },
    {
      "cell_type": "code",
      "source": [
        "%%shell\n",
        "# Compile with g++\n",
        "g++ if_statement.cpp -o if_statement -Wall\n",
        "# Run the program\n",
        "./if_statement"
      ],
      "metadata": {
        "colab": {
          "base_uri": "https://localhost:8080/"
        },
        "id": "xxGisneS28QB",
        "outputId": "e0ffb72e-caf3-4edb-8252-8a8e77d129ed"
      },
      "execution_count": null,
      "outputs": [
        {
          "output_type": "stream",
          "name": "stdout",
          "text": [
            "Good day.\n"
          ]
        },
        {
          "output_type": "execute_result",
          "data": {
            "text/plain": [
              ""
            ]
          },
          "metadata": {},
          "execution_count": 28
        }
      ]
    },
    {
      "cell_type": "markdown",
      "metadata": {
        "id": "_dL_5TeTfCJO"
      },
      "source": [
        "## else Statement\n",
        "Use the `else` statement to specify a block of code to be executed if the condition is false."
      ]
    },
    {
      "cell_type": "code",
      "metadata": {
        "id": "Uky0BQRTfdip",
        "colab": {
          "base_uri": "https://localhost:8080/"
        },
        "outputId": "27df302a-d48d-42f3-e0b0-8bb68496bdd5"
      },
      "source": [
        "%%writefile if_else_example.cpp\n",
        "#include <iostream>\n",
        "int main() {\n",
        "    int time{20};\n",
        "    if(time < 18) {\n",
        "        std::cout << \"Good day.\" << std::endl;\n",
        "    } else {\n",
        "        std::cout << \"Good evening.\" << std::endl;\n",
        "    }\n",
        "    return 0;\n",
        "}"
      ],
      "execution_count": null,
      "outputs": [
        {
          "output_type": "stream",
          "name": "stdout",
          "text": [
            "Overwriting if_else_example.cpp\n"
          ]
        }
      ]
    },
    {
      "cell_type": "code",
      "source": [
        "%%shell\n",
        "# Compile with g++\n",
        "g++ if_else_example.cpp -o if_else_example -Wall\n",
        "# Run the program\n",
        "./if_else_example"
      ],
      "metadata": {
        "colab": {
          "base_uri": "https://localhost:8080/"
        },
        "id": "zdIS9QzG3hSZ",
        "outputId": "1be17f56-21ad-4404-9e83-3171ff9587cc"
      },
      "execution_count": null,
      "outputs": [
        {
          "output_type": "stream",
          "name": "stdout",
          "text": [
            "Good evening.\n"
          ]
        },
        {
          "output_type": "execute_result",
          "data": {
            "text/plain": [
              ""
            ]
          },
          "metadata": {},
          "execution_count": 36
        }
      ]
    },
    {
      "cell_type": "markdown",
      "metadata": {
        "id": "trLHD6JAfhmM"
      },
      "source": [
        "## else if Statement\n",
        "Use the `else if` statement to specify a new condition if the first condition is false."
      ]
    },
    {
      "cell_type": "code",
      "metadata": {
        "id": "lXIGAjKrfxN2",
        "colab": {
          "base_uri": "https://localhost:8080/"
        },
        "outputId": "90a5946c-4952-4e54-edc4-3f2804cc223c"
      },
      "source": [
        "%%writefile if_example.cpp\n",
        "#include <iostream>\n",
        "\n",
        "int main() {\n",
        "    int time{22};\n",
        "    if (time < 10) {\n",
        "        std::cout << \"Good morning.\" << std::endl;\n",
        "    } else if (time < 20) {\n",
        "        std::cout << \"Good day.\" << std::endl;\n",
        "    } else {\n",
        "        std::cout << \"Good evening.\" << std::endl;\n",
        "    }\n",
        "    return 0;\n",
        "}"
      ],
      "execution_count": null,
      "outputs": [
        {
          "output_type": "stream",
          "name": "stdout",
          "text": [
            "Writing if_example.cpp\n"
          ]
        }
      ]
    },
    {
      "cell_type": "code",
      "source": [
        "%%shell\n",
        "# Compile with g++\n",
        "g++ if_example.cpp -o if_example -Wall\n",
        "# Run the program\n",
        "./if_example"
      ],
      "metadata": {
        "colab": {
          "base_uri": "https://localhost:8080/"
        },
        "id": "nWoNkzy-4prh",
        "outputId": "d0da519f-5e1f-436a-e4ef-1e1d7559bebb"
      },
      "execution_count": null,
      "outputs": [
        {
          "output_type": "stream",
          "name": "stdout",
          "text": [
            "Good evening.\n"
          ]
        },
        {
          "output_type": "execute_result",
          "data": {
            "text/plain": [
              ""
            ]
          },
          "metadata": {},
          "execution_count": 38
        }
      ]
    },
    {
      "cell_type": "markdown",
      "metadata": {
        "id": "rd-BT8dqkJA-"
      },
      "source": [
        "## switch Statement\n",
        "Use the switch statement to select one of many code blocks to be executed.\n",
        "This is how it works:\n",
        "- The switch expression is evaluated once\n",
        "- The value of the expression is compared with the values of each case\n",
        "- If there is a match, the associated block of code is executed\n",
        "- The break and default keywords are optional"
      ]
    },
    {
      "cell_type": "code",
      "metadata": {
        "id": "N8cezjiflVKM",
        "colab": {
          "base_uri": "https://localhost:8080/"
        },
        "outputId": "9b9cfee0-c410-4730-f0a9-a0d3361961ee"
      },
      "source": [
        "%%writefile switch_example.cpp\n",
        "#include <iostream>\n",
        "\n",
        "int main(){\n",
        "    int day{2};\n",
        "    switch(day){\n",
        "        case 1:\n",
        "            std::cout <<\"Monday\";\n",
        "            break;\n",
        "        case 2:\n",
        "            std::cout <<\"Tuesday\";\n",
        "            break;\n",
        "        default:\n",
        "            std::cout <<\"No case matches\";\n",
        "    }\n",
        "    return 0;\n",
        "}"
      ],
      "execution_count": null,
      "outputs": [
        {
          "output_type": "stream",
          "name": "stdout",
          "text": [
            "Overwriting switch_example.cpp\n"
          ]
        }
      ]
    },
    {
      "cell_type": "code",
      "source": [
        "%%shell\n",
        "# Compile with g++\n",
        "g++ switch_example.cpp -o switch_example -Wall\n",
        "# Run the program\n",
        "./switch_example"
      ],
      "metadata": {
        "colab": {
          "base_uri": "https://localhost:8080/"
        },
        "id": "Y9Nmi3LseLAB",
        "outputId": "15172b51-aaeb-46a3-c92a-191b62ac8db5"
      },
      "execution_count": null,
      "outputs": [
        {
          "output_type": "stream",
          "name": "stdout",
          "text": [
            "tuesday"
          ]
        },
        {
          "output_type": "execute_result",
          "data": {
            "text/plain": [
              ""
            ]
          },
          "metadata": {},
          "execution_count": 22
        }
      ]
    },
    {
      "cell_type": "markdown",
      "metadata": {
        "id": "XjWGTtdroFAd"
      },
      "source": [
        "**The break Keyword**\n",
        "\n",
        "When C++ reaches a break keyword, it breaks out of the switch block.\n",
        "\n",
        "This will stop the execution of more code and case testing inside the block.\n",
        "\n",
        "When a match is found, and the job is done, it's time for a break. There is no need for more testing.\n",
        "\n",
        "A break can save a lot of execution time because it \"ignores\" the execution of all the rest of the code in the switch block."
      ]
    },
    {
      "cell_type": "markdown",
      "metadata": {
        "id": "IttS4YpGrBVI"
      },
      "source": [
        "# Loops\n",
        "Loops can execute a block of code as long as a specified condition is reached.\n",
        "\n",
        "Loops are handy because they save time, reduce errors, and they make code more readable."
      ]
    },
    {
      "cell_type": "markdown",
      "source": [
        "## While Loop\n",
        "\n",
        "The while loop loops through a block of code as long as a specified condition is true:"
      ],
      "metadata": {
        "id": "Kd0Azgs7doP7"
      }
    },
    {
      "cell_type": "code",
      "metadata": {
        "id": "NFC8Fw2VtL0R",
        "colab": {
          "base_uri": "https://localhost:8080/"
        },
        "outputId": "1d71cdbf-67ae-44db-e230-014b4ea6c8cd"
      },
      "source": [
        "%%writefile while_loop.cpp\n",
        "#include <iostream>\n",
        "\n",
        "int main(){\n",
        "    int i{0};\n",
        "    while (i < 5){\n",
        "        i++;\n",
        "        std::cout << i <<\". Shazam\" << \"\\n\";\n",
        "    }\n",
        "    return 0;\n",
        "}"
      ],
      "execution_count": null,
      "outputs": [
        {
          "output_type": "stream",
          "name": "stdout",
          "text": [
            "Overwriting while_loop.cpp\n"
          ]
        }
      ]
    },
    {
      "cell_type": "code",
      "source": [
        "%%shell\n",
        "# Compile with g++\n",
        "g++ while_loop.cpp -o while_loop -Wall\n",
        "# Run the program\n",
        "./while_loop"
      ],
      "metadata": {
        "colab": {
          "base_uri": "https://localhost:8080/"
        },
        "id": "ZqurVJzhehsw",
        "outputId": "ceeb57cb-8050-4678-f37f-90b28be7dd93"
      },
      "execution_count": null,
      "outputs": [
        {
          "output_type": "stream",
          "name": "stdout",
          "text": [
            "1. Shazam\n",
            "2. Shazam\n",
            "3. Shazam\n",
            "4. Shazam\n",
            "5. Shazam\n"
          ]
        },
        {
          "output_type": "execute_result",
          "data": {
            "text/plain": [
              ""
            ]
          },
          "metadata": {},
          "execution_count": 28
        }
      ]
    },
    {
      "cell_type": "markdown",
      "metadata": {
        "id": "E4oJNt3SIO4c"
      },
      "source": [
        "## Do/While Loop\n",
        " - The do/while loop is a variant of the while loop.\n",
        " -This loop will execute the code block once, before checking if the condition is true, then it will repeat the loop as long as the condition is true."
      ]
    },
    {
      "cell_type": "code",
      "metadata": {
        "id": "mxXHBJCbI0Oc",
        "colab": {
          "base_uri": "https://localhost:8080/"
        },
        "outputId": "b4463e7a-3c5d-46a1-afab-697cbe735a58"
      },
      "source": [
        "%%writefile do_while_example.cpp\n",
        "#include <iostream>\n",
        "int main(){\n",
        "    int i = 0;\n",
        "    do{\n",
        "        i++;\n",
        "        std::cout << i << \". Bazinga!\" << \"\\n\";\n",
        "    }while(i < 5);\n",
        "    return 0;\n",
        "}"
      ],
      "execution_count": null,
      "outputs": [
        {
          "output_type": "stream",
          "name": "stdout",
          "text": [
            "Overwriting do_while_example.cpp\n"
          ]
        }
      ]
    },
    {
      "cell_type": "code",
      "source": [
        "%%shell\n",
        "# Compile with g++\n",
        "g++ do_while_example.cpp -o do_while_example -Wall\n",
        "# Run the program\n",
        "./do_while_example"
      ],
      "metadata": {
        "colab": {
          "base_uri": "https://localhost:8080/"
        },
        "id": "2EoG2UsrARPL",
        "outputId": "25283273-b05e-481e-b396-cb8dab5e00f5"
      },
      "execution_count": null,
      "outputs": [
        {
          "output_type": "stream",
          "name": "stdout",
          "text": [
            "1. Bazinga!\n",
            "2. Bazinga!\n",
            "3. Bazinga!\n",
            "4. Bazinga!\n",
            "5. Bazinga!\n"
          ]
        },
        {
          "output_type": "execute_result",
          "data": {
            "text/plain": [
              ""
            ]
          },
          "metadata": {},
          "execution_count": 10
        }
      ]
    },
    {
      "cell_type": "markdown",
      "metadata": {
        "id": "zaDvDhvw34f0"
      },
      "source": [
        "## break\n",
        "The break statement can also be used to jump out of a loop.\n",
        "\n",
        "This example jumps out of the loop when i is equal to 4:"
      ]
    },
    {
      "cell_type": "code",
      "metadata": {
        "id": "mjFnE38z8wI1",
        "colab": {
          "base_uri": "https://localhost:8080/"
        },
        "outputId": "176a1aba-679f-48dc-ecd3-0e4d8129e93f"
      },
      "source": [
        "%%writefile break_example.cpp\n",
        "#include <iostream>\n",
        "int main(){\n",
        "     for (int i = 0; i < 14; i++) {\n",
        "         if (i == 4){\n",
        "          break;\n",
        "         }\n",
        "    std::cout << i << \"\\n\";\n",
        "  }\n",
        "  return 0;\n",
        "}"
      ],
      "execution_count": null,
      "outputs": [
        {
          "output_type": "stream",
          "name": "stdout",
          "text": [
            "Writing break_example.cpp\n"
          ]
        }
      ]
    },
    {
      "cell_type": "code",
      "source": [
        "%%shell\n",
        "# Compile with g++\n",
        "g++ break_example.cpp -o break_example -Wall\n",
        "# Run the program\n",
        "./break_example"
      ],
      "metadata": {
        "colab": {
          "base_uri": "https://localhost:8080/"
        },
        "id": "-wErseTZBCf3",
        "outputId": "f8b3a39e-27f4-4964-900b-a1768bae3d47"
      },
      "execution_count": null,
      "outputs": [
        {
          "output_type": "stream",
          "name": "stdout",
          "text": [
            "0\n",
            "1\n",
            "2\n",
            "3\n"
          ]
        },
        {
          "output_type": "execute_result",
          "data": {
            "text/plain": [
              ""
            ]
          },
          "metadata": {},
          "execution_count": 12
        }
      ]
    },
    {
      "cell_type": "markdown",
      "metadata": {
        "id": "wFFSI7LWLKkv"
      },
      "source": [
        "## continue\n",
        "\n",
        "The continue statement breaks one iteration (in the loop), if a specified condition occurs, and continues with the next iteration in the loop.\n",
        "\n",
        "The following example skips the number 7."
      ]
    },
    {
      "cell_type": "code",
      "metadata": {
        "id": "mdZScBZ1NN2A",
        "colab": {
          "base_uri": "https://localhost:8080/"
        },
        "outputId": "fbb3c0fe-f07c-4ba6-d202-85b7ce639313"
      },
      "source": [
        "%%writefile continue_example.cpp\n",
        "#include <iostream>\n",
        "int main(){\n",
        "    for (int i = 0; i < 12; i++) {\n",
        "        if (i == 7){\n",
        "            // Skips and go to top of loop\n",
        "            continue;\n",
        "        }\n",
        "        std::cout << i << \" \";\n",
        "    }\n",
        "    return 0;\n",
        "}"
      ],
      "execution_count": null,
      "outputs": [
        {
          "output_type": "stream",
          "name": "stdout",
          "text": [
            "Overwriting continue_example.cpp\n"
          ]
        }
      ]
    },
    {
      "cell_type": "code",
      "source": [
        "%%shell\n",
        "# Compile with g++\n",
        "g++ continue_example.cpp -o continue_example -Wall\n",
        "# Run the program\n",
        "./continue_example"
      ],
      "metadata": {
        "colab": {
          "base_uri": "https://localhost:8080/"
        },
        "id": "LIKyK970BZ5_",
        "outputId": "7f38a338-5d33-4e91-b973-724746d2871c"
      },
      "execution_count": null,
      "outputs": [
        {
          "output_type": "stream",
          "name": "stdout",
          "text": [
            "0 1 2 3 4 5 6 8 9 10 11 "
          ]
        },
        {
          "output_type": "execute_result",
          "data": {
            "text/plain": [
              ""
            ]
          },
          "metadata": {},
          "execution_count": 18
        }
      ]
    },
    {
      "cell_type": "markdown",
      "metadata": {
        "id": "sUO8mXnI1CQ4"
      },
      "source": [
        "# Arrays\n",
        "Arrays are used to store multiple values in a single variable, instead of declaring separate variables for each value.\n",
        "\n",
        "To declare an array, define the variable type, specify the name of the array followed by square brackets and specify the number of elements it should store:\n",
        "\n",
        "`string cars[4];`\n",
        "\n",
        "To create an array of three integers, you could write:\n",
        "\n",
        "`int myNum[3] = {10, 20, 30};`\n",
        "\n",
        "**Access the Elements of an Array**\n",
        "\n",
        "You access an array element by referring to the index number.\n",
        "\n",
        "This statement accesses the value of the first element in cars:\n",
        "```\n",
        "string cars[4] = {\"Volvo\", \"BMW\", \"Ford\", \"Mazda\"};\n",
        "cout << cars[0];\n",
        "// Outputs Volvo\n",
        "```"
      ]
    },
    {
      "cell_type": "code",
      "metadata": {
        "id": "iVAce0oW2QfL",
        "colab": {
          "base_uri": "https://localhost:8080/"
        },
        "outputId": "48150a52-fb8b-41f2-ac15-448be90ce2a5"
      },
      "source": [
        "%%writefile array_access.cpp\n",
        "#include <iostream>\n",
        "int main() {\n",
        "    std::string words[4] = {\"Jazz\", \"Blue\", \"Friend\", \"Happy\"};\n",
        "    // Access first element\n",
        "    std::cout << words[0] << std::endl;\n",
        "    // Access fourth element\n",
        "    std::cout << words[3] << std::endl;\n",
        "    return 0;\n",
        "}"
      ],
      "execution_count": null,
      "outputs": [
        {
          "output_type": "stream",
          "name": "stdout",
          "text": [
            "Overwriting array_access.cpp\n"
          ]
        }
      ]
    },
    {
      "cell_type": "code",
      "source": [
        "%%shell\n",
        "# Compile with g++\n",
        "g++ array_access.cpp -o array_access -Wall\n",
        "# Run the program\n",
        "./array_access"
      ],
      "metadata": {
        "colab": {
          "base_uri": "https://localhost:8080/"
        },
        "id": "o2u66uq5CGsq",
        "outputId": "afbd5fc6-db3d-43b3-f32e-40541f0fa87d"
      },
      "execution_count": null,
      "outputs": [
        {
          "output_type": "stream",
          "name": "stdout",
          "text": [
            "Jazz\n",
            "Happy\n"
          ]
        },
        {
          "output_type": "execute_result",
          "data": {
            "text/plain": [
              ""
            ]
          },
          "metadata": {},
          "execution_count": 43
        }
      ]
    },
    {
      "cell_type": "markdown",
      "metadata": {
        "id": "QNKJaeYNBSTl"
      },
      "source": [
        "**Change an Array Element**\n",
        "\n",
        "To change the value of a specific element, refer to the index number:"
      ]
    },
    {
      "cell_type": "code",
      "metadata": {
        "id": "40LhMn96BoJt",
        "colab": {
          "base_uri": "https://localhost:8080/"
        },
        "outputId": "67ae443f-1367-40b8-eb8b-a0ca96d8fcc9"
      },
      "source": [
        "%%writefile array_change_element.cpp\n",
        "#include <iostream>\n",
        "int main() {\n",
        "    std::string names[4] = {\"Fred\", \"Kanya\", \"Tom\", \"Brian\"};\n",
        "    std::cout << names[0] << \" is now: \";\n",
        "    names[0]=\"Dorothy\";\n",
        "    std::cout << names[0];\n",
        "    return 0;\n",
        "}"
      ],
      "execution_count": null,
      "outputs": [
        {
          "output_type": "stream",
          "name": "stdout",
          "text": [
            "Overwriting array_change_element.cpp\n"
          ]
        }
      ]
    },
    {
      "cell_type": "code",
      "source": [
        "%%shell\n",
        "# Compile with g++\n",
        "g++ array_change_element.cpp -o array_change_element -Wall\n",
        "# Run the program\n",
        "./array_change_element"
      ],
      "metadata": {
        "colab": {
          "base_uri": "https://localhost:8080/"
        },
        "id": "QPfMz7cmD0Fm",
        "outputId": "0846630a-627f-4392-9122-45049bbd74a1"
      },
      "execution_count": null,
      "outputs": [
        {
          "output_type": "stream",
          "name": "stdout",
          "text": [
            "Fred is now: Dorothy"
          ]
        },
        {
          "output_type": "execute_result",
          "data": {
            "text/plain": [
              ""
            ]
          },
          "metadata": {},
          "execution_count": 49
        }
      ]
    },
    {
      "cell_type": "markdown",
      "metadata": {
        "id": "vtTDrlMQDBZh"
      },
      "source": [
        "## Arrays and Loops\n",
        "\n",
        "You can loop through the array elements with the for loop.\n",
        "\n",
        "The following example outputs all elements in the cars array:"
      ]
    },
    {
      "cell_type": "code",
      "metadata": {
        "id": "3RtCAVgWhI6w",
        "colab": {
          "base_uri": "https://localhost:8080/"
        },
        "outputId": "3a298b52-5c2f-42e5-bf2a-04d96243a8e3"
      },
      "source": [
        "%%writefile array_for_loop.cpp\n",
        "#include <iostream>\n",
        "int main() {\n",
        "    int i;\n",
        "    std::string names[4] = {\"Fred\", \"Kanya\", \"Tom\", \"Brian\"};\n",
        "    for( i = 0; i < 4; i++) {\n",
        "        std::cout << i << \": \" << names[i] << \"\\n\";\n",
        "    }\n",
        "    return 0;\n",
        "}"
      ],
      "execution_count": null,
      "outputs": [
        {
          "output_type": "stream",
          "name": "stdout",
          "text": [
            "Overwriting array_for_loop.cpp\n"
          ]
        }
      ]
    },
    {
      "cell_type": "code",
      "source": [
        "%%shell\n",
        "# Compile with g++\n",
        "g++ array_for_loop.cpp -o array_for_loop -Wall\n",
        "# Run the program\n",
        "./array_for_loop"
      ],
      "metadata": {
        "colab": {
          "base_uri": "https://localhost:8080/"
        },
        "id": "duWAN8UwEyaB",
        "outputId": "7d80099c-cfcc-4169-d064-3cbbd43601d8"
      },
      "execution_count": null,
      "outputs": [
        {
          "output_type": "stream",
          "name": "stdout",
          "text": [
            "0: Fred\n",
            "1: Kanya\n",
            "2: Tom\n",
            "3: Brian\n"
          ]
        },
        {
          "output_type": "execute_result",
          "data": {
            "text/plain": [
              ""
            ]
          },
          "metadata": {},
          "execution_count": 53
        }
      ]
    },
    {
      "cell_type": "markdown",
      "source": [
        "# Million Dice Roll"
      ],
      "metadata": {
        "id": "6Wq1kywTeVV2"
      }
    },
    {
      "cell_type": "code",
      "source": [
        "%%writefile million_dice_roll.cpp\n",
        "/**\n",
        " * Name: million_dice_roll.cpp\n",
        " * Written by:\n",
        " * Written on:\n",
        " * Purpose: Roll dice 1,000,000 times\n",
        " */\n",
        "#include <iostream>\n",
        "#include <unordered_map>\n",
        "#include <cmath>\n",
        "#include <chrono>\n",
        "#include <locale.h>\n",
        "int main()\n",
        "{\n",
        "    const int MIN{1};\n",
        "    const int MAX{6};\n",
        "    int numberOfDice{0};\n",
        "    // Seed random number with random time\n",
        "    srand(time(0));\n",
        "    // Create a unordered_map HashTable key value pair dictionary\n",
        "    std::unordered_map<int, int> myDict;\n",
        "    std::cout << \" +-------------------------------------------+\" << std::endl;\n",
        "    std::cout << \" |--  Million Dice Roll Statics Simulator  --|\" << std::endl;\n",
        "    std::cout << \" +-------------------------------------------+\" << std::endl;\n",
        "    std::cout << \" How many dice do you want to roll: \";\n",
        "\n",
        "    std::cin >> numberOfDice;\n",
        "\n",
        "    // Fill unordered_map (dictionary) keys with possible combinations of dice\n",
        "    // Initialize the values to 0\n",
        "    for (int i = numberOfDice; i < (numberOfDice * 6) + 1; i++)\n",
        "    {\n",
        "        myDict[i] = 0;\n",
        "    }\n",
        "\n",
        "    std::cout << \"\\nSimulating 1,000,000 rolls of 2 dice...\" << std::endl;\n",
        "    // Begin calculation time\n",
        "    std::chrono::steady_clock::time_point start = std::chrono::steady_clock::now();\n",
        "\n",
        "    for (int i = 0; i < 1000000; i++)\n",
        "    {\n",
        "        int total = 0;\n",
        "        for (int j = 0; j < 2; j++)\n",
        "        {\n",
        "            // Generate random number between MIN and MAX inclusive,\n",
        "            // Accumulate to total for each dice\n",
        "            total = total + rand() % MAX + MIN;\n",
        "        }\n",
        "        // Add one to the total key to increment the number of times\n",
        "        // the dice added up to that number\n",
        "        myDict[total] = myDict[total] + 1;\n",
        "    }\n",
        "    // Finish calculation time\n",
        "    std::chrono::steady_clock::time_point finish = std::chrono::steady_clock::now();\n",
        "    // On a 64 bit sytem, long is 64 bits in size while int is 32 bits\n",
        "    long elapsedTime = std::chrono::duration_cast<std::chrono::milliseconds>(finish - start).count();\n",
        "    // Calculate and display elapsed time in ms\n",
        "    std::cout << \"Elapsed time: \" << elapsedTime << \"ms\" << std::endl;\n",
        "\n",
        "    // Print result heading\n",
        "    std::cout << \"Total - Rolls - Percent\" << std::endl;\n",
        "    for (int i = 2; i < 13; i++)\n",
        "    {\n",
        "        int rolls = myDict[i];\n",
        "        // Round to one decimal places\n",
        "        double percentage = round((rolls * 100) / 10000.0) / 100.0;\n",
        "        // std::cout << \"  \" << i << \" - \" << rolls << \" - \" << percentage << \"%\" << std::endl;\n",
        "        // Used to set commas in int rolls with '\n",
        "        setlocale(LC_NUMERIC, \"\");\n",
        "        printf(\"  %-4d %'7d %7.1f%s\\n\", i, rolls, percentage, \"%\");\n",
        "    }\n",
        "    return 0;\n",
        "}"
      ],
      "metadata": {
        "colab": {
          "base_uri": "https://localhost:8080/"
        },
        "id": "Vuk4I7RdeXd5",
        "outputId": "63170750-5dfa-4e67-a78a-d0948cccfe92"
      },
      "execution_count": null,
      "outputs": [
        {
          "output_type": "stream",
          "name": "stdout",
          "text": [
            "Writing million_dice_roll.cpp\n"
          ]
        }
      ]
    },
    {
      "cell_type": "code",
      "source": [
        "%%shell\n",
        "# Compile with g++\n",
        "g++ million_dice_roll.cpp -o million_dice_roll -Wall\n",
        "# Run the program\n",
        "./million_dice_roll"
      ],
      "metadata": {
        "colab": {
          "base_uri": "https://localhost:8080/"
        },
        "id": "3WPHFUaaez4G",
        "outputId": "51690190-16b2-4a51-b997-efbb0dad0f62"
      },
      "execution_count": null,
      "outputs": [
        {
          "output_type": "stream",
          "name": "stdout",
          "text": [
            " +-------------------------------------------+\n",
            " |--  Million Dice Roll Statics Simulator  --|\n",
            " +-------------------------------------------+\n",
            " How many dice do you want to roll: 2\n",
            "\n",
            "Simulating 1,000,000 rolls of 2 dice...\n",
            "Elapsed time: 241ms\n",
            "Total - Rolls - Percent\n",
            "  2     27,982     2.8%\n",
            "  3     55,594     5.6%\n",
            "  4     82,924     8.3%\n",
            "  5    111,257    11.1%\n",
            "  6    138,631    13.9%\n",
            "  7    166,687    16.7%\n",
            "  8    138,903    13.9%\n",
            "  9    110,958    11.1%\n",
            "  10    83,519     8.3%\n",
            "  11    55,463     5.5%\n",
            "  12    28,082     2.8%\n"
          ]
        },
        {
          "output_type": "execute_result",
          "data": {
            "text/plain": [
              ""
            ]
          },
          "metadata": {},
          "execution_count": 8
        }
      ]
    },
    {
      "cell_type": "markdown",
      "metadata": {
        "id": "fPxquldAstcO"
      },
      "source": [
        "# References\n",
        "\n",
        "A reference variable is a \"reference\" to an existing variable, and it is created with the & operator:"
      ]
    },
    {
      "cell_type": "code",
      "metadata": {
        "id": "lhANVR0-tZJJ",
        "colab": {
          "base_uri": "https://localhost:8080/"
        },
        "outputId": "60689108-6eb7-47f4-e9fa-382f8effd9bd"
      },
      "source": [
        "%%writefile reference.cpp\n",
        "#include <iostream>\n",
        "\n",
        "int main() {\n",
        "    std::string food = \"pizza\";\n",
        "    std::string &meal = food;\n",
        "\n",
        "    std::cout << food << \" \";\n",
        "    std::cout << meal;\n",
        "    return 0;\n",
        "}"
      ],
      "execution_count": null,
      "outputs": [
        {
          "output_type": "stream",
          "name": "stdout",
          "text": [
            "Overwriting reference.cpp\n"
          ]
        }
      ]
    },
    {
      "cell_type": "code",
      "source": [
        "%%shell\n",
        "# Compile with g++\n",
        "g++ reference.cpp -o reference -Wall\n",
        "# Run the program\n",
        "./reference"
      ],
      "metadata": {
        "colab": {
          "base_uri": "https://localhost:8080/"
        },
        "id": "vnYO7b67Q029",
        "outputId": "05d97744-2668-4fe1-a275-d9f389ca133d"
      },
      "execution_count": null,
      "outputs": [
        {
          "output_type": "stream",
          "name": "stdout",
          "text": [
            "pizza pizza"
          ]
        },
        {
          "output_type": "execute_result",
          "data": {
            "text/plain": [
              ""
            ]
          },
          "metadata": {},
          "execution_count": 6
        }
      ]
    },
    {
      "cell_type": "markdown",
      "metadata": {
        "id": "bYVQO3MQ6Mko"
      },
      "source": [
        "# Memory Address\n",
        "\n",
        "In the example from the previous page, the & operator was used to create a reference variable. But it can also be used to get the memory address of a variable; which is the location of where the variable is stored on the computer.\n",
        "\n",
        "When a variable is created in C++, a memory address is assigned to the variable. When we assign a value to the variable, it is stored in this memory address. Memory addresses are in hexadecimal.\n",
        "\n",
        "To access it, use the & operator, and the result will represent where the variable is stored:"
      ]
    },
    {
      "cell_type": "code",
      "metadata": {
        "id": "UNIfawb86g7J",
        "colab": {
          "base_uri": "https://localhost:8080/"
        },
        "outputId": "29e28800-5bb9-4708-defa-593bf029b4a9"
      },
      "source": [
        "%%writefile memory_address.cpp\n",
        "#include <iostream>\n",
        "int main() {\n",
        "    std::string food = \"pizza\";\n",
        "\n",
        "    std::cout << &food;\n",
        "    return 0;\n",
        "}"
      ],
      "execution_count": null,
      "outputs": [
        {
          "output_type": "stream",
          "name": "stdout",
          "text": [
            "Writing memory_address.cpp\n"
          ]
        }
      ]
    },
    {
      "cell_type": "code",
      "source": [
        "%%shell\n",
        "# Compile with g++\n",
        "g++ memory_address.cpp -o memory_address -Wall\n",
        "# Run the program\n",
        "./memory_address"
      ],
      "metadata": {
        "colab": {
          "base_uri": "https://localhost:8080/"
        },
        "id": "NiW9w9xOKxaB",
        "outputId": "4d3454ce-c2cd-402f-9adc-abd949a6c3a5"
      },
      "execution_count": null,
      "outputs": [
        {
          "output_type": "stream",
          "name": "stdout",
          "text": [
            "0x7ffc8bb7fdc0"
          ]
        },
        {
          "output_type": "execute_result",
          "data": {
            "text/plain": [
              ""
            ]
          },
          "metadata": {},
          "execution_count": 55
        }
      ]
    },
    {
      "cell_type": "markdown",
      "metadata": {
        "id": "nUSGbwzilwYY"
      },
      "source": [
        "# Pointers\n",
        "\n",
        "We can get the memory address of a variable by using the & operator:\n",
        "\n",
        "A pointer however, is a variable that stores the memory address as its value.\n",
        "\n",
        "A pointer variable points to a data type (like int or string) of the same type, and is created with the * operator. The address of the variable you're working with is assigned to the pointer:\n",
        "\n",
        "**Example explained**\n",
        "\n",
        "Create a pointer variable with the name `ptr`, that points to a string variable, by using the asterisk sign * `string* ptr`. Note that the type of the pointer has to match the type of the variable you're working with.\n",
        "\n",
        "Use the & operator to store the memory address of the variable called food, and assign it to the pointer.\n",
        "\n",
        "Now, `ptr` holds the value of food's memory address."
      ]
    },
    {
      "cell_type": "code",
      "metadata": {
        "id": "OphkYtZz1bv7",
        "colab": {
          "base_uri": "https://localhost:8080/"
        },
        "outputId": "767f1c2e-5223-4b64-8aa7-097f4f6e34ac"
      },
      "source": [
        "%%writefile pointers.cpp\n",
        "#include <iostream>\n",
        "int main(){\n",
        "    std::string food = \"pizza\";\n",
        "    // Dereference the memory address of food\n",
        "    // Assign that memory addres to ptr\n",
        "    std::string* ptr = &food;\n",
        "\n",
        "    std::cout << food << std::endl;\n",
        "    // Both variables point to the same memory address\n",
        "    std::cout << &food << std::endl;\n",
        "    std::cout << ptr << std::endl;\n",
        "    return 0;\n",
        "}"
      ],
      "execution_count": null,
      "outputs": [
        {
          "output_type": "stream",
          "name": "stdout",
          "text": [
            "Overwriting pointers.cpp\n"
          ]
        }
      ]
    },
    {
      "cell_type": "code",
      "source": [
        "%%shell\n",
        "# Compile with g++\n",
        "g++ pointers.cpp -o pointers -Wall\n",
        "# Run the program\n",
        "./pointers"
      ],
      "metadata": {
        "colab": {
          "base_uri": "https://localhost:8080/"
        },
        "id": "iljoMlrRLVvJ",
        "outputId": "3dc4b2ab-aaaf-41ed-cfdf-63c555c6cae4"
      },
      "execution_count": null,
      "outputs": [
        {
          "output_type": "stream",
          "name": "stdout",
          "text": [
            "pizza\n",
            "0x7ffe416358a0\n",
            "0x7ffe416358a0\n"
          ]
        },
        {
          "output_type": "execute_result",
          "data": {
            "text/plain": [
              ""
            ]
          },
          "metadata": {},
          "execution_count": 58
        }
      ]
    },
    {
      "cell_type": "markdown",
      "metadata": {
        "id": "APmm_FM2pPO0"
      },
      "source": [
        "# Functions\n",
        "\n",
        "A function is a block of code which only runs when it is called.\n",
        "\n",
        "You can pass data, known as parameters, into a function.\n",
        "\n",
        "Functions are used to perform certain actions, and they are important for reusing code: Define the code once, and use it many times.\n",
        "\n",
        "**Create a Function**\n",
        "\n",
        "C++ provides some pre-defined functions, such as main(), which is used to execute code. But you can also create your own functions to perform certain actions.\n",
        "\n",
        "To create (often referred to as declare) a function, specify the name of the function, followed by parentheses ():\n",
        "\n",
        "**Syntax**\n",
        "\n",
        "```\n",
        "void helloCPP(){\n",
        "    cout << \"Hello C++\" << endl;\n",
        "}\n",
        "```\n",
        "\n",
        "**Example Explained**\n",
        "\n",
        "- `helloCPP()` is the name of the function\n",
        "- `void` means that the function does not have a return value.\n",
        "- inside the function (the body), the code prints Hello C++ and and a newline.\n",
        "\n",
        "**Call a Function**\n",
        "\n",
        "Declared functions are not executed immediately. They are \"saved for later use\", and will be executed later, when they are called.\n",
        "\n",
        "To call a function, write the function's name followed by two parentheses () and a semicolon `;`\n",
        "\n",
        "In the following example, `myFunction()` is used to print a text (the action), when it is called:\n",
        "\n",
        "**Example**\n",
        "\n",
        "Inside main, call myFunction():\n"
      ]
    },
    {
      "cell_type": "code",
      "metadata": {
        "id": "SPwGjHqPsxGt",
        "colab": {
          "base_uri": "https://localhost:8080/"
        },
        "outputId": "5173f56f-5b4b-4465-9e74-bbf12c23489a"
      },
      "source": [
        "%%writefile function_example.cpp\n",
        "#include <iostream>\n",
        "void helloCPP(){\n",
        "    std::cout << \"Hello C++\" << std::endl;\n",
        "}\n",
        "\n",
        "int main()\n",
        "{\n",
        "    std::cout << \"First helloCPP() function call.\" << std::endl;\n",
        "    helloCPP();\n",
        "    std::cout << \"Second helloCPP() function call.\" << std::endl;\n",
        "    helloCPP();\n",
        "    return 0;\n",
        "}"
      ],
      "execution_count": null,
      "outputs": [
        {
          "output_type": "stream",
          "name": "stdout",
          "text": [
            "Writing function_example.cpp\n"
          ]
        }
      ]
    },
    {
      "cell_type": "code",
      "metadata": {
        "id": "LPAjC4CYKhIr",
        "colab": {
          "base_uri": "https://localhost:8080/"
        },
        "outputId": "13a38c69-4b14-4cbc-bb1d-88cf65052b79"
      },
      "source": [
        "%%shell\n",
        "# Compile with g++\n",
        "g++ function_example.cpp -o function_example -Wall\n",
        "# Run the program\n",
        "./function_example"
      ],
      "execution_count": null,
      "outputs": [
        {
          "output_type": "stream",
          "name": "stdout",
          "text": [
            "First helloCPP() function call.\n",
            "Hello C++\n",
            "Second helloCPP() function call.\n",
            "Hello C++\n"
          ]
        },
        {
          "output_type": "execute_result",
          "data": {
            "text/plain": [
              ""
            ]
          },
          "metadata": {},
          "execution_count": 60
        }
      ]
    },
    {
      "cell_type": "markdown",
      "metadata": {
        "id": "We-bD_i7JLuf"
      },
      "source": [
        "**Function Declaration and Definition**\n",
        "\n",
        "A C++ function consist of two parts:\n",
        "\n",
        "- **Declaration:** the function's name, return type, and parameters (if any)\n",
        "- **Definition:** the body of the function (code to be executed)\n",
        "\n",
        "Note: If a user-defined function, such as `helloCPP()` is declared after the main() function, an error will occur. C++ works from top to bottom. If the function is not declared above main(), the program is unaware of it.\n"
      ]
    },
    {
      "cell_type": "code",
      "metadata": {
        "id": "fCZKZPw4KjGZ"
      },
      "source": [
        "#include <iostream>\n",
        "using namespace std;\n",
        "\n",
        "int main() {\n",
        "  myFunction();\n",
        "  return 0;\n",
        "}\n",
        "\n",
        "// Function in the wrong location\n",
        "void myFunction() {\n",
        "  cout << \"I just got executed!\";\n",
        "}"
      ],
      "execution_count": null,
      "outputs": []
    },
    {
      "cell_type": "markdown",
      "metadata": {
        "id": "bPCJYXj8FrTF"
      },
      "source": [
        "## Function Parameters\n",
        "\n",
        "Information can be passed to functions as a parameter. Parameters act as variables inside the function.\n",
        "\n",
        "Parameters are specified after the function name, inside the parentheses. You can add as many parameters as you want, just separate them with a comma.\n",
        "\n",
        "When a parameter is passed to the function, it is called an argument. In the example below, School, Book, Pen, and Pencil are arguments."
      ]
    },
    {
      "cell_type": "code",
      "metadata": {
        "id": "q6zcI0JRGTsb",
        "colab": {
          "base_uri": "https://localhost:8080/"
        },
        "outputId": "57c0f99a-b740-4b2c-b80e-166ab5761869"
      },
      "source": [
        "%%writefile function_parameters.cpp\n",
        "#include <iostream>\n",
        "void displayWord(std::string word) {\n",
        "    std::cout << word << std::endl;\n",
        "}\n",
        "int main(){\n",
        "    displayWord(\"School\");\n",
        "    displayWord(\"Book\");\n",
        "    displayWord(\"Pen\");\n",
        "    displayWord(\"Pencil\");\n",
        "    return 0;\n",
        "}"
      ],
      "execution_count": null,
      "outputs": [
        {
          "output_type": "stream",
          "name": "stdout",
          "text": [
            "Writing function_parameters.cpp\n"
          ]
        }
      ]
    },
    {
      "cell_type": "code",
      "source": [
        "%%shell\n",
        "# Compile with g++\n",
        "g++ function_parameters.cpp -o function_parameters -Wall\n",
        "# Run the program\n",
        "./function_parameters"
      ],
      "metadata": {
        "colab": {
          "base_uri": "https://localhost:8080/"
        },
        "id": "Jd-zPWY54_mh",
        "outputId": "9b8f76ec-5040-4d39-f2a8-4ca0c146053d"
      },
      "execution_count": null,
      "outputs": [
        {
          "output_type": "stream",
          "name": "stdout",
          "text": [
            "School\n",
            "Book\n",
            "Pen\n",
            "Pencil\n"
          ]
        },
        {
          "output_type": "execute_result",
          "data": {
            "text/plain": [
              ""
            ]
          },
          "metadata": {},
          "execution_count": 62
        }
      ]
    },
    {
      "cell_type": "markdown",
      "metadata": {
        "id": "n5-qq5GCEhRu"
      },
      "source": [
        "## Default Parameters\n",
        "\n",
        "You can use a default parameter value, by using the equals sign (=).\n",
        "\n",
        "If we call the function without an argument, it uses the default value `\"Norway\"`.\n",
        "\n",
        "A parameter with a default value, is often known as an \"optional parameter\". From the example above, country is an optional parameter and `\"Norway\"` is the default value."
      ]
    },
    {
      "cell_type": "code",
      "metadata": {
        "id": "R-QRTROFFF9u",
        "colab": {
          "base_uri": "https://localhost:8080/"
        },
        "outputId": "6921b21d-33bf-42a6-dedd-49fc2b977839"
      },
      "source": [
        "%%writefile default_parameter.cpp\n",
        "#include <iostream>\n",
        "void display(std::string name =\"Sheldon\"){\n",
        "    std::cout << name << std::endl;\n",
        "}\n",
        "int main(){\n",
        "    display(\"Penny\");\n",
        "    display(\"Howard\");\n",
        "    display();\n",
        "    display(\"Leonard\");\n",
        "    return 0;\n",
        "}"
      ],
      "execution_count": null,
      "outputs": [
        {
          "output_type": "stream",
          "name": "stdout",
          "text": [
            "Overwriting default_parameter.cpp\n"
          ]
        }
      ]
    },
    {
      "cell_type": "code",
      "source": [
        "%%shell\n",
        "# Compile with g++\n",
        "g++ default_parameter.cpp -o default_parameter -Wall\n",
        "# Run the program\n",
        "./default_parameter"
      ],
      "metadata": {
        "colab": {
          "base_uri": "https://localhost:8080/"
        },
        "id": "rQ9o8Ut9NZ_M",
        "outputId": "fc6266ec-b5e9-4746-871f-8f6171b40ae6"
      },
      "execution_count": null,
      "outputs": [
        {
          "output_type": "stream",
          "name": "stdout",
          "text": [
            "Penny\n",
            "Howard\n",
            "Sheldon\n",
            "Leonard\n"
          ]
        },
        {
          "output_type": "execute_result",
          "data": {
            "text/plain": [
              ""
            ]
          },
          "metadata": {},
          "execution_count": 68
        }
      ]
    },
    {
      "cell_type": "markdown",
      "metadata": {
        "id": "iBvuO9zTObed"
      },
      "source": [
        "## Multiple Parameters\n",
        "\n",
        "Inside the function, you can add as many parameters as you want:\n",
        "\n",
        "Note that when you are working with multiple parameters, the function call must have the same number of arguments as there are parameters, and the arguments must be passed in the same order."
      ]
    },
    {
      "cell_type": "code",
      "metadata": {
        "id": "jA75IpobO1mk",
        "colab": {
          "base_uri": "https://localhost:8080/"
        },
        "outputId": "0372de8b-af48-483a-ca75-bafe9def30b9"
      },
      "source": [
        "%%writefile multiple_parameters.cpp\n",
        "#include <iostream>\n",
        "// Function with multiple parameters\n",
        "void work(std::string name, int age) {\n",
        "     std::cout << name << \" is \" << age << \" years old.\" << std::endl;\n",
        "}\n",
        "int main(){\n",
        "    work(\"Phyllis\", 5);\n",
        "    work(\"Dylan\", 11);\n",
        "    work(\"Joan\", 4);\n",
        "    work(\"Fred\", 10);\n",
        "    return 0;\n",
        "}\n",
        ""
      ],
      "execution_count": null,
      "outputs": [
        {
          "output_type": "stream",
          "name": "stdout",
          "text": [
            "Overwriting multiple_parameters.cpp\n"
          ]
        }
      ]
    },
    {
      "cell_type": "code",
      "source": [
        "%%shell\n",
        "# Compile with g++\n",
        "g++ multiple_parameters.cpp -o multiple_parameters -Wall\n",
        "# Run the program\n",
        "./multiple_parameters"
      ],
      "metadata": {
        "colab": {
          "base_uri": "https://localhost:8080/"
        },
        "id": "wKZVTsbORoxV",
        "outputId": "09ed89d0-009d-4013-c790-5eda49b1523c"
      },
      "execution_count": null,
      "outputs": [
        {
          "output_type": "stream",
          "name": "stdout",
          "text": [
            "Phyllis is 5 years old.\n",
            "Dylan is 11 years old.\n",
            "Joan is 4 years old.\n",
            "Fred is 10 years old.\n"
          ]
        },
        {
          "output_type": "execute_result",
          "data": {
            "text/plain": [
              ""
            ]
          },
          "metadata": {},
          "execution_count": 8
        }
      ]
    },
    {
      "cell_type": "markdown",
      "metadata": {
        "id": "GIJQufyY80xa"
      },
      "source": [
        "## Return Keyword\n",
        "\n",
        "The void keyword, used in the previous examples, indicates that the function should not return a value. If you want the function to return a value, you can use a data type (such as int, string, etc.) instead of void, and use the return keyword inside the function:"
      ]
    },
    {
      "cell_type": "code",
      "metadata": {
        "id": "NyToEurM9RtM",
        "colab": {
          "base_uri": "https://localhost:8080/"
        },
        "outputId": "3b37f218-327e-46b9-d804-dfbf7db4d90b"
      },
      "source": [
        "%%writefile return_value.cpp\n",
        "#include <iostream>\n",
        "\n",
        "int addition(int x, int y) {\n",
        "    int sum = x + y;\n",
        "    return sum;\n",
        "}\n",
        "\n",
        "int main(){\n",
        "    int finalSum = addition(5, 7);\n",
        "    std::cout << \"Returned sum: \"<< finalSum << std::endl;\n",
        "    return 0;\n",
        "}"
      ],
      "execution_count": null,
      "outputs": [
        {
          "output_type": "stream",
          "name": "stdout",
          "text": [
            "Overwriting return_value.cpp\n"
          ]
        }
      ]
    },
    {
      "cell_type": "code",
      "source": [
        "%%shell\n",
        "# Compile with g++\n",
        "g++ return_value.cpp -o return_value -Wall\n",
        "# Run the program\n",
        "./return_value"
      ],
      "metadata": {
        "colab": {
          "base_uri": "https://localhost:8080/"
        },
        "id": "reJPOCedS5tl",
        "outputId": "11bfd9c4-a1b3-4bfe-f74a-f9ac2c1e2f3a"
      },
      "execution_count": null,
      "outputs": [
        {
          "output_type": "stream",
          "name": "stdout",
          "text": [
            "Returned sum: 12\n"
          ]
        },
        {
          "output_type": "execute_result",
          "data": {
            "text/plain": [
              ""
            ]
          },
          "metadata": {},
          "execution_count": 14
        }
      ]
    },
    {
      "cell_type": "markdown",
      "metadata": {
        "id": "PQY0B5E5B4Ip"
      },
      "source": [
        "## Function Overloading\n",
        "\n",
        "With function overloading, multiple functions can have the same name with different parameters:\n",
        "\n",
        "Instead of defining two functions that should do the same thing, it is better to overload one.\n",
        "\n",
        "In the example below, we overload the plusFunction function to work for both int and double:\n",
        "\n",
        "**Note:** Multiple functions in the same program can have the same name as long as the number and/or type of parameters are different."
      ]
    },
    {
      "cell_type": "code",
      "metadata": {
        "id": "iKnJVdmxNGcC",
        "colab": {
          "base_uri": "https://localhost:8080/"
        },
        "outputId": "d189cea4-4562-4234-a359-95c51dee7049"
      },
      "source": [
        "%%writefile overload.cpp\n",
        "#include <iostream>\n",
        "\n",
        "int plusFunction(int x, int y) {\n",
        "    return  x + y;\n",
        "}\n",
        "double plusFunction(double x, double y) {\n",
        "    return x + y;\n",
        "}\n",
        "int main(){\n",
        "    int number1 = plusFunction(8 , 6);\n",
        "    double number2 = plusFunction(5.5 , 2.5);\n",
        "    std::cout << \"Int: \" << number1 << std::endl;\n",
        "    std::cout << \"Double: \" << number2 << std::endl;\n",
        "    return 0;\n",
        "}"
      ],
      "execution_count": null,
      "outputs": [
        {
          "output_type": "stream",
          "name": "stdout",
          "text": [
            "Writing overload.cpp\n"
          ]
        }
      ]
    },
    {
      "cell_type": "code",
      "source": [
        "%%shell\n",
        "# Compile with g++\n",
        "g++ overload.cpp -o overload -Wall\n",
        "# Run the program\n",
        "./overload"
      ],
      "metadata": {
        "colab": {
          "base_uri": "https://localhost:8080/"
        },
        "id": "BP0fPwGRTViD",
        "outputId": "d3de4f67-cf44-4f65-e4cb-c09209c997d2"
      },
      "execution_count": null,
      "outputs": [
        {
          "output_type": "stream",
          "name": "stdout",
          "text": [
            "Int: 14\n",
            "Double: 8\n"
          ]
        },
        {
          "output_type": "execute_result",
          "data": {
            "text/plain": [
              ""
            ]
          },
          "metadata": {},
          "execution_count": 16
        }
      ]
    },
    {
      "cell_type": "markdown",
      "source": [
        "# Exception Handling\n",
        "\n",
        "An exception is a problem that arises during the execution of a program. A C++ exception is a response to an exceptional circumstance that arises while a program is running, such as an attempt to divide by zero.\n",
        "- **throw**: A program throws an exception when a problem shows up. This is done using a throw keyword.\n",
        "- **catch**: A program catches an exception with an exception handler at the place in a program where you want to handle the problem. The catch keyword indicates the catching of an exception.\n",
        "- **try**: A try block identifies a block of code for which particular exceptions will be activated. It's followed by one or more catch blocks.\n",
        "\n",
        "Place a try/catch block around the code that might generate an exception.\n",
        "\n",
        "The following example generates an exception."
      ],
      "metadata": {
        "id": "ieSBneaGwSfp"
      }
    },
    {
      "cell_type": "code",
      "source": [
        "%%writefile divide_by_zero_exception.cpp\n",
        "#include <iostream>\n",
        "float division(int x, int y) {\n",
        "    return (x/y);\n",
        "}\n",
        "int main () {\n",
        "    int i = 50;\n",
        "    int j = 0;\n",
        "    float k = 0;\n",
        "    k = division(i, j);\n",
        "    std::cout << k << std::endl;\n",
        "    return 0;\n",
        "}"
      ],
      "metadata": {
        "colab": {
          "base_uri": "https://localhost:8080/"
        },
        "id": "eDR25KJrwYTM",
        "outputId": "7189ca9a-30da-4aa8-f250-fb5aef226c83"
      },
      "execution_count": null,
      "outputs": [
        {
          "output_type": "stream",
          "name": "stdout",
          "text": [
            "Writing divide_by_zero_exception.cpp\n"
          ]
        }
      ]
    },
    {
      "cell_type": "code",
      "source": [
        "%%shell\n",
        "# Compile with g++\n",
        "g++ divide_by_zero_exception.cpp -o divide_by_zero_exception\n",
        "# Run the program\n",
        "./divide_by_zero_exception"
      ],
      "metadata": {
        "colab": {
          "base_uri": "https://localhost:8080/",
          "height": 364
        },
        "id": "WfClxxEPyDqG",
        "outputId": "744025cd-d8ee-4f53-87e6-84081da67c05"
      },
      "execution_count": null,
      "outputs": [
        {
          "output_type": "error",
          "ename": "CalledProcessError",
          "evalue": "ignored",
          "traceback": [
            "\u001b[0;31m---------------------------------------------------------------------------\u001b[0m",
            "\u001b[0;31mCalledProcessError\u001b[0m                        Traceback (most recent call last)",
            "\u001b[0;32m<ipython-input-18-d5b92cecc3e4>\u001b[0m in \u001b[0;36m<module>\u001b[0;34m()\u001b[0m\n\u001b[0;32m----> 1\u001b[0;31m \u001b[0mget_ipython\u001b[0m\u001b[0;34m(\u001b[0m\u001b[0;34m)\u001b[0m\u001b[0;34m.\u001b[0m\u001b[0mrun_cell_magic\u001b[0m\u001b[0;34m(\u001b[0m\u001b[0;34m'shell'\u001b[0m\u001b[0;34m,\u001b[0m \u001b[0;34m''\u001b[0m\u001b[0;34m,\u001b[0m \u001b[0;34m'# Compile with g++\\ng++ divide_by_zero_exception.cpp -o divide_by_zero_exception\\n# Run the program\\n./divide_by_zero_exception'\u001b[0m\u001b[0;34m)\u001b[0m\u001b[0;34m\u001b[0m\u001b[0;34m\u001b[0m\u001b[0m\n\u001b[0m",
            "\u001b[0;32m/usr/local/lib/python3.7/dist-packages/IPython/core/interactiveshell.py\u001b[0m in \u001b[0;36mrun_cell_magic\u001b[0;34m(self, magic_name, line, cell)\u001b[0m\n\u001b[1;32m   2115\u001b[0m             \u001b[0mmagic_arg_s\u001b[0m \u001b[0;34m=\u001b[0m \u001b[0mself\u001b[0m\u001b[0;34m.\u001b[0m\u001b[0mvar_expand\u001b[0m\u001b[0;34m(\u001b[0m\u001b[0mline\u001b[0m\u001b[0;34m,\u001b[0m \u001b[0mstack_depth\u001b[0m\u001b[0;34m)\u001b[0m\u001b[0;34m\u001b[0m\u001b[0;34m\u001b[0m\u001b[0m\n\u001b[1;32m   2116\u001b[0m             \u001b[0;32mwith\u001b[0m \u001b[0mself\u001b[0m\u001b[0;34m.\u001b[0m\u001b[0mbuiltin_trap\u001b[0m\u001b[0;34m:\u001b[0m\u001b[0;34m\u001b[0m\u001b[0;34m\u001b[0m\u001b[0m\n\u001b[0;32m-> 2117\u001b[0;31m                 \u001b[0mresult\u001b[0m \u001b[0;34m=\u001b[0m \u001b[0mfn\u001b[0m\u001b[0;34m(\u001b[0m\u001b[0mmagic_arg_s\u001b[0m\u001b[0;34m,\u001b[0m \u001b[0mcell\u001b[0m\u001b[0;34m)\u001b[0m\u001b[0;34m\u001b[0m\u001b[0;34m\u001b[0m\u001b[0m\n\u001b[0m\u001b[1;32m   2118\u001b[0m             \u001b[0;32mreturn\u001b[0m \u001b[0mresult\u001b[0m\u001b[0;34m\u001b[0m\u001b[0;34m\u001b[0m\u001b[0m\n\u001b[1;32m   2119\u001b[0m \u001b[0;34m\u001b[0m\u001b[0m\n",
            "\u001b[0;32m/usr/local/lib/python3.7/dist-packages/google/colab/_system_commands.py\u001b[0m in \u001b[0;36m_shell_cell_magic\u001b[0;34m(args, cmd)\u001b[0m\n\u001b[1;32m    111\u001b[0m   \u001b[0mresult\u001b[0m \u001b[0;34m=\u001b[0m \u001b[0m_run_command\u001b[0m\u001b[0;34m(\u001b[0m\u001b[0mcmd\u001b[0m\u001b[0;34m,\u001b[0m \u001b[0mclear_streamed_output\u001b[0m\u001b[0;34m=\u001b[0m\u001b[0;32mFalse\u001b[0m\u001b[0;34m)\u001b[0m\u001b[0;34m\u001b[0m\u001b[0;34m\u001b[0m\u001b[0m\n\u001b[1;32m    112\u001b[0m   \u001b[0;32mif\u001b[0m \u001b[0;32mnot\u001b[0m \u001b[0mparsed_args\u001b[0m\u001b[0;34m.\u001b[0m\u001b[0mignore_errors\u001b[0m\u001b[0;34m:\u001b[0m\u001b[0;34m\u001b[0m\u001b[0;34m\u001b[0m\u001b[0m\n\u001b[0;32m--> 113\u001b[0;31m     \u001b[0mresult\u001b[0m\u001b[0;34m.\u001b[0m\u001b[0mcheck_returncode\u001b[0m\u001b[0;34m(\u001b[0m\u001b[0;34m)\u001b[0m\u001b[0;34m\u001b[0m\u001b[0;34m\u001b[0m\u001b[0m\n\u001b[0m\u001b[1;32m    114\u001b[0m   \u001b[0;32mreturn\u001b[0m \u001b[0mresult\u001b[0m\u001b[0;34m\u001b[0m\u001b[0;34m\u001b[0m\u001b[0m\n\u001b[1;32m    115\u001b[0m \u001b[0;34m\u001b[0m\u001b[0m\n",
            "\u001b[0;32m/usr/local/lib/python3.7/dist-packages/google/colab/_system_commands.py\u001b[0m in \u001b[0;36mcheck_returncode\u001b[0;34m(self)\u001b[0m\n\u001b[1;32m    137\u001b[0m     \u001b[0;32mif\u001b[0m \u001b[0mself\u001b[0m\u001b[0;34m.\u001b[0m\u001b[0mreturncode\u001b[0m\u001b[0;34m:\u001b[0m\u001b[0;34m\u001b[0m\u001b[0;34m\u001b[0m\u001b[0m\n\u001b[1;32m    138\u001b[0m       raise subprocess.CalledProcessError(\n\u001b[0;32m--> 139\u001b[0;31m           returncode=self.returncode, cmd=self.args, output=self.output)\n\u001b[0m\u001b[1;32m    140\u001b[0m \u001b[0;34m\u001b[0m\u001b[0m\n\u001b[1;32m    141\u001b[0m   \u001b[0;32mdef\u001b[0m \u001b[0m_repr_pretty_\u001b[0m\u001b[0;34m(\u001b[0m\u001b[0mself\u001b[0m\u001b[0;34m,\u001b[0m \u001b[0mp\u001b[0m\u001b[0;34m,\u001b[0m \u001b[0mcycle\u001b[0m\u001b[0;34m)\u001b[0m\u001b[0;34m:\u001b[0m  \u001b[0;31m# pylint:disable=unused-argument\u001b[0m\u001b[0;34m\u001b[0m\u001b[0;34m\u001b[0m\u001b[0m\n",
            "\u001b[0;31mCalledProcessError\u001b[0m: Command '# Compile with g++\ng++ divide_by_zero_exception.cpp -o divide_by_zero_exception\n# Run the program\n./divide_by_zero_exception' died with <Signals.SIGFPE: 8>."
          ]
        }
      ]
    },
    {
      "cell_type": "markdown",
      "source": [
        "This time with exception handling."
      ],
      "metadata": {
        "id": "xZpQ8Y_jyqGE"
      }
    },
    {
      "cell_type": "code",
      "source": [
        "    %%writefile divide_by_zero.cpp\n",
        "    #include <iostream>\n",
        "    float division(int x, int y) {\n",
        "       if( y == 0 ) {\n",
        "          throw \"Attempted to divide by zero!\";\n",
        "       }\n",
        "       return (x/y);\n",
        "    }\n",
        "int main () {\n",
        "    int i = 25;\n",
        "    int j = 0;\n",
        "    float k = 0;\n",
        "    try {\n",
        "        k = division(i, j);\n",
        "        std::cout << k << std::endl;\n",
        "    }catch (const char* e) {\n",
        "        std::cerr << e << std::endl;\n",
        "    }\n",
        "    return 0;\n",
        "}"
      ],
      "metadata": {
        "colab": {
          "base_uri": "https://localhost:8080/"
        },
        "id": "5LZYYQIKyspF",
        "outputId": "fcefe7a0-22de-49c6-8d38-6bda8c3247dd"
      },
      "execution_count": null,
      "outputs": [
        {
          "output_type": "stream",
          "name": "stdout",
          "text": [
            "Overwriting divide_by_zero.cpp\n"
          ]
        }
      ]
    },
    {
      "cell_type": "code",
      "source": [
        "%%shell\n",
        "# Compile with g++\n",
        "g++ divide_by_zero.cpp -o divide_by_zero\n",
        "# Run the program\n",
        "./divide_by_zero"
      ],
      "metadata": {
        "colab": {
          "base_uri": "https://localhost:8080/"
        },
        "id": "KSMliYcRyxpS",
        "outputId": "875142f9-de82-4cf5-b872-73363571b76b"
      },
      "execution_count": null,
      "outputs": [
        {
          "output_type": "stream",
          "name": "stdout",
          "text": [
            "Attempted to divide by zero!\n"
          ]
        },
        {
          "output_type": "execute_result",
          "data": {
            "text/plain": [
              ""
            ]
          },
          "metadata": {},
          "execution_count": 14
        }
      ]
    },
    {
      "cell_type": "code",
      "source": [
        "%%writefile vector_exception.cpp\n",
        "#include <iostream>\n",
        "#include <string>\n",
        "#include <stdexcept>\n",
        "#include <vector>\n",
        "using namespace std;\n",
        "\n",
        "int main()\n",
        "{\n",
        "\tvector<string> names(5);\n",
        "\n",
        "\tnames.at(0) = \"John\";\n",
        "\tnames.at(1) = \"Bob\";\n",
        "\tnames.at(2) = \"Sally\";\n",
        "\tnames.at(3) = \"Karen\";\n",
        "\tnames.at(4) = \"Smitty\";\n",
        "\n",
        "\tfor (string name : names)\n",
        "\t{\n",
        "\t\tcout << name << endl;\n",
        "\t}\n",
        "\n",
        "\ttry\n",
        "\t{\n",
        "\t\t// We try to access an out of bounds location\n",
        "\t\tnames.at(5) = \"Tyler\";\n",
        "\t}\n",
        "\tcatch (const out_of_range& err)\n",
        "\t{\n",
        "      // Access the description of the error\n",
        "\t    cout << err.what() << endl;\n",
        "\t}\n",
        "\treturn 0;\n",
        "}"
      ],
      "metadata": {
        "colab": {
          "base_uri": "https://localhost:8080/"
        },
        "id": "x1hs2aJf1aHW",
        "outputId": "437ce67a-f0cb-4821-c32b-aa04adf1f306"
      },
      "execution_count": null,
      "outputs": [
        {
          "output_type": "stream",
          "name": "stdout",
          "text": [
            "Writing vector_exception.cpp\n"
          ]
        }
      ]
    },
    {
      "cell_type": "code",
      "source": [
        "%%shell\n",
        "# Compile with g++\n",
        "g++ vector_exception.cpp -o vector_exception -Wall\n",
        "# Run the program\n",
        "./vector_exception"
      ],
      "metadata": {
        "colab": {
          "base_uri": "https://localhost:8080/"
        },
        "id": "May9fLhi1lQp",
        "outputId": "2fb81428-1909-4290-dbd7-d8a6b4d4b317"
      },
      "execution_count": null,
      "outputs": [
        {
          "output_type": "stream",
          "name": "stdout",
          "text": [
            "John\n",
            "Bob\n",
            "Sally\n",
            "Karen\n",
            "Smitty\n",
            "vector::_M_range_check: __n (which is 5) >= this->size() (which is 5)\n"
          ]
        },
        {
          "output_type": "execute_result",
          "data": {
            "text/plain": [
              ""
            ]
          },
          "metadata": {},
          "execution_count": 16
        }
      ]
    },
    {
      "cell_type": "markdown",
      "metadata": {
        "id": "x2B9CUQsagFb"
      },
      "source": [
        "# OOP\n",
        "\n",
        "**What is OOP?**\n",
        "\n",
        "OOP stands for Object-Oriented Programming.\n",
        "\n",
        "Procedural programming is about writing procedures or functions that perform operations on the data, while object-oriented programming is about creating objects that contain both data and functions.\n",
        "\n",
        "The three primary principles of object-oriented programming are:\n",
        "\n",
        "- Encapsulation\n",
        "- Inheritance\n",
        "- Polymorphism\n",
        "\n",
        "Object-oriented programming has several advantages over procedural programming:\n",
        "\n",
        "- OOP is faster and easier to execute\n",
        "- OOP provides a clear structure for the programs\n",
        "- OOP helps to keep the C++ code DRY \"Don't Repeat Yourself\", and makes the code easier to maintain, modify and debug\n",
        "- OOP makes it possible to create full reusable applications with less code and shorter development time.\n"
      ]
    },
    {
      "cell_type": "markdown",
      "metadata": {
        "id": "0-yalxwvbwV_"
      },
      "source": [
        "## Classes and Objects\n",
        "\n",
        "C++ is an object-oriented programming language.\n",
        "\n",
        "Everything in C++ is associated with classes and objects, along with its attributes and methods. For example: in real life, a car is an object. The car has attributes, such as weight and color, and methods, such as drive and brake.\n",
        "\n",
        "Attributes and methods are basically variables and functions that belongs to the class. These are often referred to as \"class members\".\n",
        "\n",
        "A class is a user-defined data type that we can use in our program, and it works as an object constructor, or a \"blueprint\" for creating objects.\n",
        "\n",
        "**Create a Class**\n",
        "To create a class, use the class keyword:\n",
        "Create a class called \"MyClass\":\n",
        "\n",
        "\n",
        "```\n",
        "class MyClass {           // The class\n",
        "    public:               // Access specifier\n",
        "        int myNum;        // Attribute (int variable)\n",
        "        string myString;  // Attribute (string variable)\n",
        "};\n",
        "```"
      ]
    },
    {
      "cell_type": "markdown",
      "metadata": {
        "id": "ikW440GpcXle"
      },
      "source": [
        "**Example explained**\n",
        "- The `class` keyword is used to create a class called `MyClass`.\n",
        "- The `public` keyword is an access specifier, which specifies that members (attributes and methods) of the class are accessible from outside the class.\n",
        "- Inside the class, there is an integer variable `myNum` and a string variable `myString`. When variables are declared within a class, they are called attributes.\n",
        "- End the class definition with a semicolon ;"
      ]
    },
    {
      "cell_type": "markdown",
      "metadata": {
        "id": "iFNDPAfEc6Vr"
      },
      "source": [
        "## Create an Object\n",
        "\n",
        "In C++, an object is created from a class. We have already created the class named MyClass, so now we can use this to create objects.\n",
        "\n",
        "To create an object of MyClass, specify the class name, followed by the object name.\n",
        "\n",
        "To access the class attributes (myNum and myString), use the dot syntax (.) on the object:\n",
        "\n",
        "**Example**\n",
        "Create an object called \"myObj\" and access the attributes:\n"
      ]
    },
    {
      "cell_type": "code",
      "metadata": {
        "id": "knHNJ5ixd38f",
        "colab": {
          "base_uri": "https://localhost:8080/"
        },
        "outputId": "579cd32d-fbea-4587-efab-4a9025ec0aa8"
      },
      "source": [
        "%%writefile my_class.cpp\n",
        "#include <iostream>\n",
        "using namespace std;\n",
        "\n",
        "class MyClass {       //  class\n",
        "  public:             //  specifier\n",
        "    int myNum;        // Attribute (int )\n",
        "    string myString;  // Attribute (string)\n",
        "};\n",
        "\n",
        "int main() {\n",
        "  MyClass myObj;  //  object of MyClass\n",
        "\n",
        "  // Access attributes and set values\n",
        "  myObj.myNum = 70;\n",
        "  myObj.myString = \"Scottsbluff\";\n",
        "\n",
        "  // Print values\n",
        "  cout << myObj.myNum <<endl;\n",
        "  cout << myObj.myString <<endl;\n",
        "  return 0;\n",
        "}"
      ],
      "execution_count": null,
      "outputs": [
        {
          "output_type": "stream",
          "name": "stdout",
          "text": [
            "Overwriting my_class.cpp\n"
          ]
        }
      ]
    },
    {
      "cell_type": "code",
      "source": [
        "%%shell\n",
        "# Compile with g++\n",
        "g++ my_class.cpp -o my_class -Wall\n",
        "# Run the program\n",
        "./my_class"
      ],
      "metadata": {
        "colab": {
          "base_uri": "https://localhost:8080/"
        },
        "id": "190x048S6RKt",
        "outputId": "10e7c9b6-7988-47ff-82b7-6aec3075189d"
      },
      "execution_count": null,
      "outputs": [
        {
          "output_type": "stream",
          "name": "stdout",
          "text": [
            "70\n",
            "Scottsbluff\n"
          ]
        },
        {
          "output_type": "execute_result",
          "data": {
            "text/plain": [
              ""
            ]
          },
          "metadata": {},
          "execution_count": 47
        }
      ]
    },
    {
      "cell_type": "markdown",
      "metadata": {
        "id": "yw4fArnyUtQs"
      },
      "source": [
        "## Multiple Objects\n",
        "\n",
        "You can create multiple objects from one class."
      ]
    },
    {
      "cell_type": "code",
      "metadata": {
        "id": "n5I0jPviVQV_",
        "colab": {
          "base_uri": "https://localhost:8080/"
        },
        "outputId": "8fd2083e-82be-4104-9887-9bd58bd72145"
      },
      "source": [
        "%%writefile multiple_objects.cpp\n",
        "#include <iostream>\n",
        "\n",
        "class car {\n",
        "    public:\n",
        "    std::string brand;\n",
        "    std::string model;\n",
        "    int year;\n",
        "};\n",
        "\n",
        "int main(){\n",
        "    car carobj1;\n",
        "    carobj1.brand = \"BMW\";\n",
        "    carobj1.model = \"vvt\";\n",
        "    carobj1.year = 2002;\n",
        "\n",
        "    car carobj2;\n",
        "    carobj2.brand = \"toyota\";\n",
        "    carobj2.model = \"vvtr\";\n",
        "    carobj2.year = 2006;\n",
        "\n",
        "    std::cout << carobj1.brand << \" \" << carobj1.model << \" \" << carobj1.year << std::endl;\n",
        "    std::cout << carobj2.brand << \" \" <<carobj2.model << \" \" << carobj2.year << std::endl;\n",
        "    return 0;\n",
        "}"
      ],
      "execution_count": null,
      "outputs": [
        {
          "output_type": "stream",
          "name": "stdout",
          "text": [
            "Overwriting multiple_objects.cpp\n"
          ]
        }
      ]
    },
    {
      "cell_type": "code",
      "source": [
        "%%shell\n",
        "# Compile with g++\n",
        "g++ multiple_objects.cpp -o multiple_objects -Wall\n",
        "# Run the program\n",
        "./multiple_objects"
      ],
      "metadata": {
        "colab": {
          "base_uri": "https://localhost:8080/"
        },
        "id": "YpaQTm0QWCUB",
        "outputId": "51142587-37f8-4b13-f566-cd78402879e9"
      },
      "execution_count": null,
      "outputs": [
        {
          "output_type": "stream",
          "name": "stdout",
          "text": [
            "BMW vvt 2002\n",
            "toyota vvtr 2006\n"
          ]
        },
        {
          "output_type": "execute_result",
          "data": {
            "text/plain": [
              ""
            ]
          },
          "metadata": {},
          "execution_count": 16
        }
      ]
    },
    {
      "cell_type": "markdown",
      "metadata": {
        "id": "YKs9jqr5ypCy"
      },
      "source": [
        "## Instance Methods\n",
        "Methods are functions that belongs to the class.\n",
        "\n",
        "There are two ways to define functions that belongs to a class:\n",
        "\n",
        "- Inside class definition\n",
        "- Outside class definition\n",
        "\n",
        "In the following example, we define a function inside the class, and we name it `myMethod`.\n",
        "\n",
        "**Note**: You access methods just like you access attributes; by creating an object of the class and by using the dot syntax (.):"
      ]
    },
    {
      "cell_type": "markdown",
      "metadata": {
        "id": "8tNhfq4re__H"
      },
      "source": [
        "**inside**"
      ]
    },
    {
      "cell_type": "code",
      "metadata": {
        "id": "sm1ZZJQ9roBY",
        "colab": {
          "base_uri": "https://localhost:8080/"
        },
        "outputId": "2c43b845-6117-4a5a-e1d5-cb6fe6c6c578"
      },
      "source": [
        "%%writefile inside_example.cpp\n",
        "#include <iostream>\n",
        "\n",
        "class country {\n",
        "    public:\n",
        "    void myMethod() {\n",
        "        std::cout << \"My people\";\n",
        "    }\n",
        "    };\n",
        "    int main() {\n",
        "        country myobj;\n",
        "        myobj.myMethod();\n",
        "        return 0;\n",
        "    }"
      ],
      "execution_count": null,
      "outputs": [
        {
          "output_type": "stream",
          "name": "stdout",
          "text": [
            "Writing inside_example.cpp\n"
          ]
        }
      ]
    },
    {
      "cell_type": "code",
      "source": [
        "%%shell\n",
        "# Compile with g++\n",
        "g++ inside_example.cpp -o inside_example -Wall\n",
        "# Run the program\n",
        "./inside_example"
      ],
      "metadata": {
        "colab": {
          "base_uri": "https://localhost:8080/"
        },
        "id": "hV_Vlv-aV5hX",
        "outputId": "128961a4-f3fd-4d50-9492-05551077e90b"
      },
      "execution_count": null,
      "outputs": [
        {
          "output_type": "stream",
          "name": "stdout",
          "text": [
            "My people"
          ]
        },
        {
          "output_type": "execute_result",
          "data": {
            "text/plain": [
              ""
            ]
          },
          "metadata": {},
          "execution_count": 11
        }
      ]
    },
    {
      "cell_type": "markdown",
      "metadata": {
        "id": "30mXZ2RhfOZq"
      },
      "source": [
        "**0utside example**"
      ]
    },
    {
      "cell_type": "code",
      "metadata": {
        "id": "8ypQq7r9gS4b",
        "colab": {
          "base_uri": "https://localhost:8080/"
        },
        "outputId": "4571dd6b-8405-4775-c275-736efc60aa84"
      },
      "source": [
        "%%writefile outside_example.cpp\n",
        "#include <iostream>\n",
        "\n",
        "class myclass {\n",
        "    public:\n",
        "    void myMethod();\n",
        "};\n",
        "void myclass::myMethod(){\n",
        "    std::cout << \"My Country\";\n",
        "}\n",
        "\n",
        " int main(){\n",
        "     myclass myobj;\n",
        "     myobj.myMethod();\n",
        "     return 0;\n",
        " }"
      ],
      "execution_count": null,
      "outputs": [
        {
          "output_type": "stream",
          "name": "stdout",
          "text": [
            "Overwriting outside_example.cpp\n"
          ]
        }
      ]
    },
    {
      "cell_type": "code",
      "source": [
        "%%shell\n",
        "# Compile with g++\n",
        "g++ outside_example.cpp -o outside_example -Wall\n",
        "# Run the program\n",
        "./outside_example"
      ],
      "metadata": {
        "colab": {
          "base_uri": "https://localhost:8080/"
        },
        "id": "_A8xXRk1VaNe",
        "outputId": "b474b352-aa74-422b-b8b6-063da9ac9c34"
      },
      "execution_count": null,
      "outputs": [
        {
          "output_type": "stream",
          "name": "stdout",
          "text": [
            "My Country"
          ]
        },
        {
          "output_type": "execute_result",
          "data": {
            "text/plain": [
              ""
            ]
          },
          "metadata": {},
          "execution_count": 9
        }
      ]
    },
    {
      "cell_type": "markdown",
      "metadata": {
        "id": "TjfHMajLi1Dm"
      },
      "source": [
        "# Constructors\n",
        "\n",
        "A constructor in C++ is a special method that is automatically called when an object of a class is created.\n",
        "\n",
        "To create a constructor, use the same name as the class, followed by parentheses ():"
      ]
    },
    {
      "cell_type": "code",
      "metadata": {
        "id": "3AvaEXu2-QxC",
        "colab": {
          "base_uri": "https://localhost:8080/"
        },
        "outputId": "c667227a-617e-4334-f3f8-35581d6cabb3"
      },
      "source": [
        "%%writefile constructor_example.cpp\n",
        "#include <iostream>\n",
        "using namespace std;\n",
        "\n",
        "class shazam {      // class\n",
        "  public:           //  specifier\n",
        "    shazam() {      // Constructor\n",
        "      cout << \"Constructor executed\";\n",
        "    }\n",
        "};\n",
        "\n",
        "int main() {\n",
        "  shazam myObj;    // Call the constructor\n",
        "  return 0;\n",
        "}"
      ],
      "execution_count": null,
      "outputs": [
        {
          "output_type": "stream",
          "name": "stdout",
          "text": [
            "Overwriting constructor_example.cpp\n"
          ]
        }
      ]
    },
    {
      "cell_type": "code",
      "source": [
        "%%shell\n",
        "# Compile with g++\n",
        "g++ constructor_example.cpp -o constructor_example -Wall\n",
        "# Run the program\n",
        "./constructor_example"
      ],
      "metadata": {
        "colab": {
          "base_uri": "https://localhost:8080/"
        },
        "id": "mqnLB_--7Odv",
        "outputId": "05038210-c85d-4122-f7d2-1f1159dfa042"
      },
      "execution_count": null,
      "outputs": [
        {
          "output_type": "stream",
          "name": "stdout",
          "text": [
            "Constructor executed"
          ]
        },
        {
          "output_type": "execute_result",
          "data": {
            "text/plain": [
              ""
            ]
          },
          "metadata": {},
          "execution_count": 53
        }
      ]
    },
    {
      "cell_type": "markdown",
      "metadata": {
        "id": "_F28EhuSu1eD"
      },
      "source": [
        "# Constructor Parameters\n",
        "\n",
        "Constructors can also take parameters (just like regular functions), which can be useful for setting initial values for attributes.\n",
        "\n",
        "The following class have brand, model and year attributes, and a constructor with different parameters. Inside the constructor we set the attributes equal to the constructor parameters (brand=x, etc). When we call the constructor (by creating an object of the class), we pass parameters to the constructor, which will set the value of the corresponding attributes to the same:"
      ]
    },
    {
      "cell_type": "code",
      "metadata": {
        "id": "Xn431nakKXzT",
        "colab": {
          "base_uri": "https://localhost:8080/"
        },
        "outputId": "a9866a9b-221d-418f-9d98-19f679569210"
      },
      "source": [
        "%%writefile cars.cpp\n",
        "#include <iostream>\n",
        "\n",
        "class Car {             //  class\n",
        "  public:               // Access specifier\n",
        "    std::string brand;  // Attribute\n",
        "    std::string model;  // Attribute\n",
        "    int year;           // Attribute\n",
        "\n",
        "    // Constructor with parameters\n",
        "    Car(std::string x, std::string y, int z) {\n",
        "      brand = x;\n",
        "      model = y;\n",
        "      year = z;\n",
        "    }\n",
        "};\n",
        "\n",
        "int main() {\n",
        "  // Create Car objects and call the constructor with different values\n",
        "  Car carObj1(\"Toyota\", \"vvt\", 2006);\n",
        "  Car carObj2(\"Honda\", \"vvtr\", 2012);\n",
        "\n",
        "  // Print values\n",
        "  std::cout << carObj1.brand << \" \" << carObj1.model << \" \" << carObj1.year << std::endl;\n",
        "  std::cout << carObj2.brand << \" \" << carObj2.model << \" \" << carObj2.year << std::endl;\n",
        "  return 0;\n",
        "}"
      ],
      "execution_count": null,
      "outputs": [
        {
          "output_type": "stream",
          "name": "stdout",
          "text": [
            "Writing cars.cpp\n"
          ]
        }
      ]
    },
    {
      "cell_type": "code",
      "source": [
        "%%shell\n",
        "# Compile with g++\n",
        "g++ cars.cpp -o cars -Wall\n",
        "# Run the program\n",
        "./cars"
      ],
      "metadata": {
        "colab": {
          "base_uri": "https://localhost:8080/"
        },
        "id": "U6wpw-k2WzpS",
        "outputId": "f075d54f-afe2-48c3-9b35-0456e3dccd39"
      },
      "execution_count": null,
      "outputs": [
        {
          "output_type": "stream",
          "name": "stdout",
          "text": [
            "toyota vvt 2006\n",
            "honda vvtr 2012\n"
          ]
        },
        {
          "output_type": "execute_result",
          "data": {
            "text/plain": [
              ""
            ]
          },
          "metadata": {},
          "execution_count": 18
        }
      ]
    },
    {
      "cell_type": "markdown",
      "metadata": {
        "id": "aNN7SeiV-53A"
      },
      "source": [
        "# Access Specifiers\n",
        "By now, you are quite familiar with the public keyword that appears in all of our class examples:\n",
        "\n",
        "The public keyword is an access specifier. Access specifiers define how the members (attributes and methods) of a class can be accessed. In the example above, the members are public - which means that they can be accessed and modified from outside the code.\n",
        "\n",
        "However, what if we want members to be private and hidden from the outside world?\n",
        "\n",
        "In C++, there are three access specifiers:\n",
        "\n",
        "- **public** - members are accessible from outside the class\n",
        "- **private** - members cannot be accessed (or viewed) from outside the class\n",
        "- **protected** - members cannot be accessed from outside the class, however, they can be accessed in inherited classes. You will learn more about Inheritance later.\n",
        "\n",
        "The following examples demonstrate the differences between public and private members:"
      ]
    },
    {
      "cell_type": "code",
      "metadata": {
        "id": "q1lHdkf0_8pS",
        "colab": {
          "base_uri": "https://localhost:8080/"
        },
        "outputId": "a35bc422-78b9-48d6-dac8-079f3823357a"
      },
      "source": [
        "%%writefile identifier_example.cpp\n",
        "#include <iostream>\n",
        "\n",
        "class myclass{     // class\n",
        "    public:        // public acccess specifier\n",
        "    int x;         // attributes\n",
        "    private:       // private access specifier\n",
        "    int y;         // attributes\n",
        "};\n",
        "\n",
        "int main() {\n",
        "  myclass myObj;\n",
        "  myObj.x = 90;\n",
        "  // myObj.y = 60;\n",
        "  std::cout << myObj.x << std::endl;\n",
        "  return 0;\n",
        "}"
      ],
      "execution_count": null,
      "outputs": [
        {
          "output_type": "stream",
          "name": "stdout",
          "text": [
            "Overwriting identifier_example.cpp\n"
          ]
        }
      ]
    },
    {
      "cell_type": "code",
      "source": [
        "%%shell\n",
        "# Compile with g++\n",
        "g++ identifier_example.cpp -o identifier_example -Wall\n",
        "# Run the program\n",
        "./identifier_example"
      ],
      "metadata": {
        "colab": {
          "base_uri": "https://localhost:8080/"
        },
        "id": "G0MppvycXKjH",
        "outputId": "32845d46-f23e-4fa9-84d8-7199fcdf66f2"
      },
      "execution_count": null,
      "outputs": [
        {
          "output_type": "stream",
          "name": "stdout",
          "text": [
            "90\n"
          ]
        },
        {
          "output_type": "execute_result",
          "data": {
            "text/plain": [
              ""
            ]
          },
          "metadata": {},
          "execution_count": 24
        }
      ]
    },
    {
      "cell_type": "markdown",
      "metadata": {
        "id": "wrzNmUoEKkc0"
      },
      "source": [
        "# Encapsulation\n",
        "\n",
        " The meaning of Encapsulation, is to make sure that \"sensitive\" data is hidden from users. To achieve this, you must declare class variables/attributes as private (cannot be accessed from outside the class). If you want others to read or modify the value of a private member, you can provide public get and set methods.\n",
        "\n",
        " **Access Private Members**\n",
        "\n",
        "\n",
        "To access a private attribute, use public \"get\" and \"set\" methods:\n",
        "\n",
        "**Example explained**\n",
        "The salary attribute is private, which have restricted access.\n",
        "\n",
        "The public setSalary() method takes a parameter (s) and assigns it to the salary attribute (salary = s).\n",
        "\n",
        "The public getSalary() method returns the value of the private salary attribute.\n",
        "\n",
        "Inside main(), we create an object of the Employee class. Now we can use the setSalary() method to set the value of the private attribute to 50000. Then we call the getSalary() method on the object to return the value."
      ]
    },
    {
      "cell_type": "code",
      "metadata": {
        "id": "LZUtxrMBLG0Q",
        "colab": {
          "base_uri": "https://localhost:8080/"
        },
        "outputId": "497088dc-0cdd-42df-db67-cdeb068e675e"
      },
      "source": [
        "%%writefile encap.cpp\n",
        "#include <iostream>\n",
        "\n",
        "class Employee {\n",
        "  private:\n",
        "    int salary;\n",
        "\n",
        "  public:\n",
        "    void setSalary(int s) {\n",
        "      salary = s;\n",
        "    }\n",
        "    int getSalary() {\n",
        "      return salary;\n",
        "    }\n",
        "};\n",
        "\n",
        "int main() {\n",
        "  Employee myObj;\n",
        "  myObj.setSalary(20000);\n",
        "  std::cout << myObj.getSalary();\n",
        "  return 0;\n",
        "}"
      ],
      "execution_count": null,
      "outputs": [
        {
          "output_type": "stream",
          "name": "stdout",
          "text": [
            "Overwriting encap.cpp\n"
          ]
        }
      ]
    },
    {
      "cell_type": "code",
      "source": [
        "%%shell\n",
        "# Compile with g++\n",
        "g++ encap.cpp -o encap -Wall\n",
        "# Run the program\n",
        "./encap"
      ],
      "metadata": {
        "colab": {
          "base_uri": "https://localhost:8080/"
        },
        "id": "cRMMHA9DYCb1",
        "outputId": "a365c456-563d-4000-915a-92a083394c3c"
      },
      "execution_count": null,
      "outputs": [
        {
          "output_type": "stream",
          "name": "stdout",
          "text": [
            "20000"
          ]
        },
        {
          "output_type": "execute_result",
          "data": {
            "text/plain": [
              ""
            ]
          },
          "metadata": {},
          "execution_count": 31
        }
      ]
    },
    {
      "cell_type": "markdown",
      "metadata": {
        "id": "p_UUoBOcIPgl"
      },
      "source": [
        "# Inheritance\n",
        "\n",
        "In C++, it is possible to inherit attributes and methods from one class to another. We group the \"inheritance concept\" into two categories:\n",
        "\n",
        "- derived class (child) - the class that inherits from another class\n",
        "- base class (parent) - the class being inherited from\n",
        "To inherit from a class, use the : symbol.\n",
        "\n",
        "In the example below, the Car class (child) inherits the attributes and methods from the Vehicle class (parent):"
      ]
    },
    {
      "cell_type": "code",
      "metadata": {
        "id": "f9VJ1RBkIiaR",
        "colab": {
          "base_uri": "https://localhost:8080/"
        },
        "outputId": "731c7a4b-ef26-4d5e-d4e1-9a4b0a9059b8"
      },
      "source": [
        "%%writefile inherit.cpp\n",
        "#include <iostream>\n",
        "\n",
        "// Base class\n",
        "class Vehicle {\n",
        "  public:\n",
        "    std::string brand = \"Toyota\";\n",
        "    void honk() {\n",
        "      std::cout << \"Toot, toot\" << std::endl;\n",
        "    }\n",
        "};\n",
        "\n",
        "// Derived class\n",
        "class Car: public Vehicle {\n",
        "  public:\n",
        "    std::string model = \"Sienna\";\n",
        "};\n",
        "\n",
        "int main() {\n",
        "  Car myCar;\n",
        "  myCar.honk();\n",
        "  std::cout << myCar.brand + \" \" + myCar.model;\n",
        "  return 0;\n",
        "}"
      ],
      "execution_count": null,
      "outputs": [
        {
          "output_type": "stream",
          "name": "stdout",
          "text": [
            "Overwriting inherit.cpp\n"
          ]
        }
      ]
    },
    {
      "cell_type": "code",
      "source": [
        "%%shell\n",
        "# Compile with g++\n",
        "g++ inherit.cpp -o inherit -Wall\n",
        "# Run the program\n",
        "./inherit"
      ],
      "metadata": {
        "colab": {
          "base_uri": "https://localhost:8080/"
        },
        "id": "BpbRfvA7V4-6",
        "outputId": "e3808e11-11ab-4ee5-e3f5-11a4c932b778"
      },
      "execution_count": null,
      "outputs": [
        {
          "output_type": "stream",
          "name": "stdout",
          "text": [
            "Toot, toot\n",
            "Toyota Sienna"
          ]
        },
        {
          "output_type": "execute_result",
          "data": {
            "text/plain": [
              ""
            ]
          },
          "metadata": {},
          "execution_count": 29
        }
      ]
    },
    {
      "cell_type": "markdown",
      "metadata": {
        "id": "5la1foDEJBf1"
      },
      "source": [
        "## Multilevel Inheritance\n",
        "\n",
        "A class can also be derived from one class, which is already derived from another class.\n",
        "\n",
        "In the following example, MyGrandChild is derived from class MyChild (which is derived from MyClass)"
      ]
    },
    {
      "cell_type": "code",
      "metadata": {
        "id": "dgrXvg5aJXZM",
        "colab": {
          "base_uri": "https://localhost:8080/"
        },
        "outputId": "0d631885-cf0a-4515-fe00-126e5df23019"
      },
      "source": [
        "%%writefile child.cpp\n",
        "#include <iostream>\n",
        "\n",
        "// Parent class\n",
        "class MyClass {\n",
        "  public:\n",
        "    void myFunction() {\n",
        "      std::cout << \"Some content in parent class.\";\n",
        "    }\n",
        "};\n",
        "\n",
        "// Child class\n",
        "class MyChild: public MyClass {\n",
        "};\n",
        "\n",
        "// Grandchild class\n",
        "class MyGrandChild: public MyChild {\n",
        "};\n",
        "\n",
        "int main() {\n",
        "  MyGrandChild myObj;\n",
        "  myObj.myFunction();\n",
        "  return 0;\n",
        "}"
      ],
      "execution_count": null,
      "outputs": [
        {
          "output_type": "stream",
          "name": "stdout",
          "text": [
            "Writing child.cpp\n"
          ]
        }
      ]
    },
    {
      "cell_type": "code",
      "source": [
        "%%shell\n",
        "# Compile with g++\n",
        "g++ child.cpp -o child -Wall\n",
        "# Run the program\n",
        "./child"
      ],
      "metadata": {
        "colab": {
          "base_uri": "https://localhost:8080/"
        },
        "id": "CSE-8ocSWhlQ",
        "outputId": "fbefb03b-41d2-4b79-8d65-f6ff02704fa5"
      },
      "execution_count": null,
      "outputs": [
        {
          "output_type": "stream",
          "name": "stdout",
          "text": [
            "Some content in parent class."
          ]
        },
        {
          "output_type": "execute_result",
          "data": {
            "text/plain": [
              ""
            ]
          },
          "metadata": {},
          "execution_count": 31
        }
      ]
    },
    {
      "cell_type": "markdown",
      "metadata": {
        "id": "-K-eaTkjYOs7"
      },
      "source": [
        "## Multiple Inheritance\n",
        "\n",
        "A class can also be derived from more than one base class, using a comma-separated list:"
      ]
    },
    {
      "cell_type": "code",
      "metadata": {
        "id": "B5M8sy3SYm9g",
        "colab": {
          "base_uri": "https://localhost:8080/"
        },
        "outputId": "abd17655-fa4e-4b4c-f3d3-e65813fdfee9"
      },
      "source": [
        "%%writefile mult.cpp\n",
        "#include <iostream>\n",
        "\n",
        "class MyClass {\n",
        "    public:\n",
        "    void myFunction() {\n",
        "        std::cout << \"Buzz Lightyear\" << std::endl;\n",
        "    }\n",
        "};\n",
        "class MyOtherClass {\n",
        "    public:\n",
        "    void myOtherFunction(){\n",
        "        std::cout << \"Woody\"<< std::endl;\n",
        "    }\n",
        "};\n",
        "class MyChildClass: public MyClass, public MyOtherClass{\n",
        "\n",
        "};\n",
        "int main() {\n",
        "    MyChildClass myobj;\n",
        "    myobj.myFunction();\n",
        "    myobj.myOtherFunction();\n",
        "    return 0;\n",
        "}"
      ],
      "execution_count": null,
      "outputs": [
        {
          "output_type": "stream",
          "name": "stdout",
          "text": [
            "Overwriting mult.cpp\n"
          ]
        }
      ]
    },
    {
      "cell_type": "code",
      "source": [
        "%%shell\n",
        "# Compile with g++\n",
        "g++ mult.cpp -o mult -Wall\n",
        "# Run the program\n",
        "./mult"
      ],
      "metadata": {
        "colab": {
          "base_uri": "https://localhost:8080/"
        },
        "id": "3HlEmZOJW4bX",
        "outputId": "965134aa-f6c6-4719-a0e6-e5a517886179"
      },
      "execution_count": null,
      "outputs": [
        {
          "output_type": "stream",
          "name": "stdout",
          "text": [
            "Buzz Lightyear\n",
            "Woody\n"
          ]
        },
        {
          "output_type": "execute_result",
          "data": {
            "text/plain": [
              ""
            ]
          },
          "metadata": {},
          "execution_count": 41
        }
      ]
    },
    {
      "cell_type": "markdown",
      "metadata": {
        "id": "iknD_cDNhdry"
      },
      "source": [
        "# Access Specifiers\n",
        "\n",
        "You learned from the Access Specifiers chapter that there are three specifiers available in C++. Until now, we have only used public (members of a class are accessible from outside the class) and private (members can only be accessed within the class). The third specifier, protected, is similar to private, but it can also be accessed in the inherited class:"
      ]
    },
    {
      "cell_type": "code",
      "metadata": {
        "id": "6TdQDC7GEN2_",
        "colab": {
          "base_uri": "https://localhost:8080/"
        },
        "outputId": "9f15eea4-89ab-4a0f-ffa7-71a1b5b6d114"
      },
      "source": [
        "%%writefile access.cpp\n",
        "#include <iostream>\n",
        "\n",
        "// Base class\n",
        "class Employee  {\n",
        "  protected:  // Protected access specifier\n",
        "    int salary;\n",
        "};\n",
        "\n",
        "// Derived class\n",
        "class Programmer: public Employee {\n",
        "  public:\n",
        "    int bonus;\n",
        "    void setSalary(int s) {\n",
        "      salary = s;\n",
        "    }\n",
        "    int getSalary() {\n",
        "      return salary;\n",
        "    }\n",
        "};\n",
        "\n",
        "int main() {\n",
        "  Programmer myObj;\n",
        "  myObj.setSalary(70000);\n",
        "  myObj.bonus = 1500;\n",
        "  std::cout << \"Salary: \" << myObj.getSalary() << \"\\n\";\n",
        "  std::cout << \"Bonus: \" << myObj.bonus << \"\\n\";\n",
        "  return 0;\n",
        "}"
      ],
      "execution_count": null,
      "outputs": [
        {
          "output_type": "stream",
          "name": "stdout",
          "text": [
            "Writing access.cpp\n"
          ]
        }
      ]
    },
    {
      "cell_type": "code",
      "source": [
        "%%shell\n",
        "# Compile with g++\n",
        "g++ access.cpp -o access -Wall\n",
        "# Run the program\n",
        "./access"
      ],
      "metadata": {
        "colab": {
          "base_uri": "https://localhost:8080/"
        },
        "id": "KIjWsg3tYflg",
        "outputId": "121518e0-b0ed-4ca5-a813-4caa647ce53a"
      },
      "execution_count": null,
      "outputs": [
        {
          "output_type": "stream",
          "name": "stdout",
          "text": [
            "Salary: 70000\n",
            "Bonus: 1500\n"
          ]
        },
        {
          "output_type": "execute_result",
          "data": {
            "text/plain": [
              ""
            ]
          },
          "metadata": {},
          "execution_count": 43
        }
      ]
    },
    {
      "cell_type": "markdown",
      "metadata": {
        "id": "IJgVGG4OglE2"
      },
      "source": [
        "# Polymorphism\n",
        "\n",
        "Polymorphism means \"many forms\", and it occurs when we have many classes that are related to each other by inheritance.\n",
        "\n",
        "Like we specified in the previous chapter; Inheritance lets us inherit attributes and methods from another class. Polymorphism uses those methods to perform different tasks. This allows us to perform a single action in different ways.\n",
        "\n",
        "For example, think of a base class called Animal that has a method called animalSound(). Derived classes of Animals could be Pigs, Cats, Dogs, Birds - And they also have their own implementation of an animal sound (the pig oinks, and the cat meows, etc.):\n",
        "\n",
        "Remember from the Inheritance chapter that we use the : symbol to inherit from a class.\n",
        "\n",
        "Let's create Pig and Dog objects and override the animalSound() method:"
      ]
    },
    {
      "cell_type": "code",
      "metadata": {
        "id": "PqCHO3i1hHiT",
        "colab": {
          "base_uri": "https://localhost:8080/"
        },
        "outputId": "8c66aa4c-4c91-4ff9-c9e6-cc8142128e35"
      },
      "source": [
        "%%writefile polymorphism.cpp\n",
        "#include <iostream>\n",
        "\n",
        "class animal{\n",
        "    public:\n",
        "    void animalsound(){\n",
        "        std::cout << \"animal make a sound\" << std::endl;\n",
        "    }\n",
        "};\n",
        "class pig:public animal{\n",
        "    public:\n",
        "    void animalsound(){\n",
        "        std::cout << \"snort, snort\" << std::endl;\n",
        "    }\n",
        "};\n",
        "class dog: public animal{\n",
        "    public:\n",
        "    void animalsound(){\n",
        "        std::cout << \"woof, woof\" << std::endl;\n",
        "    }\n",
        "};\n",
        "\n",
        "int main(){\n",
        "    animal myanimal;\n",
        "    pig mypig;\n",
        "    dog mydog;\n",
        "\n",
        "    myanimal.animalsound();\n",
        "    mypig.animalsound();\n",
        "    mydog.animalsound();\n",
        "    return 0;\n",
        "}"
      ],
      "execution_count": null,
      "outputs": [
        {
          "output_type": "stream",
          "name": "stdout",
          "text": [
            "Overwriting polymorphism.cpp\n"
          ]
        }
      ]
    },
    {
      "cell_type": "code",
      "source": [
        "%%shell\n",
        "# Compile with g++\n",
        "g++ polymorphism.cpp -o polymorphism -Wall\n",
        "# Run the program\n",
        "./polymorphism"
      ],
      "metadata": {
        "colab": {
          "base_uri": "https://localhost:8080/"
        },
        "id": "EDjA8g7_Vo2A",
        "outputId": "24e48de2-19a6-4211-bc67-2752d3ec3b14"
      },
      "execution_count": null,
      "outputs": [
        {
          "output_type": "stream",
          "name": "stdout",
          "text": [
            "animal make a sound\n",
            "snort, snort\n",
            "woof, woof\n"
          ]
        },
        {
          "output_type": "execute_result",
          "data": {
            "text/plain": [
              ""
            ]
          },
          "metadata": {},
          "execution_count": 23
        }
      ]
    },
    {
      "cell_type": "markdown",
      "metadata": {
        "id": "JrbtBoIiWTUX"
      },
      "source": [
        "#**Reference**\n",
        "C++ Tutorial\n",
        "https://www.w3schools.com/cpp/cpp_strings.asp\n",
        "\n",
        "https://www.learn-cpp.org/en/Variables_and_Types\n",
        "\n",
        "Code block\n",
        "http://www.codeblocks.org/downloads/26\n",
        "\n",
        "Freebootcamp\n",
        "https://www.freecodecamp.org/"
      ]
    },
    {
      "cell_type": "markdown",
      "source": [
        "## License\n",
        "<a rel=\"license\" href=\"http://creativecommons.org/licenses/by-nc-sa/4.0/\"><img alt=\"Creative Commons License\" style=\"border-width:0\" src=\"https://i.creativecommons.org/l/by-nc-sa/4.0/88x31.png\" /></a><br />This work is licensed under a <a rel=\"license\" href=\"http://creativecommons.org/licenses/by-nc-sa/4.0/\">Creative Commons Attribution-NonCommercial-ShareAlike 4.0 International License</a>.\n",
        "\n",
        "Copyright (c) 2022 William A Loring"
      ],
      "metadata": {
        "id": "iMY8vU6v9pWE"
      }
    }
  ]
}