{
  "cells": [
    {
      "cell_type": "markdown",
      "metadata": {
        "id": "view-in-github",
        "colab_type": "text"
      },
      "source": [
        "<a href=\"https://colab.research.google.com/github/itinstructor/JupyterNotebooks/blob/main/Notebooks/Python_String_Dissection_and_Assembly.ipynb\" target=\"_parent\"><img src=\"https://colab.research.google.com/assets/colab-badge.svg\" alt=\"Open In Colab\"/></a>"
      ]
    },
    {
      "cell_type": "markdown",
      "source": [
        "Today we're going to cover one of the most fundamental and useful skills in Python: manipulating strings. Think of strings as sentences or words, and we're going to learn how to be a \"word mechanic\" 👨‍🔧. We'll take them apart, move the pieces around, and put them back together in new ways.\n",
        "\n",
        "Let's get started\\!\n",
        "\n",
        "-----\n",
        "\n",
        "## Taking Strings Apart: Slicing and Splitting\n",
        "\n",
        "Let's learn how to break our strings down into smaller, manageable pieces. We have two main tools for this: **slicing** and **splitting**.\n",
        "\n",
        "## Slicing: Grabbing a Piece of the String\n",
        "\n",
        "Slicing is like cutting out a specific part of a word or sentence using its character positions (called **indexes**). Remember, Python starts counting from 0\\!\n",
        "\n",
        "Let's say we have the string `message = \"Hello, world!\"`.\n",
        "\n",
        "To get just \"Hello\", we need characters from index 0 up to (but not including) index 5."
      ],
      "metadata": {
        "id": "eQG_DNvkqByH"
      }
    },
    {
      "cell_type": "code",
      "source": [
        "message = \"Hello, world!\"\n",
        "first_word = message[0:5]\n",
        "print(first_word) # Output: Hello"
      ],
      "outputs": [
        {
          "output_type": "stream",
          "name": "stdout",
          "text": [
            "Hello\n"
          ]
        }
      ],
      "execution_count": 2,
      "metadata": {
        "colab": {
          "base_uri": "https://localhost:8080/"
        },
        "id": "pduNa-HMqByJ",
        "outputId": "c4b71df8-9282-4557-b979-bcff68942e9f"
      }
    },
    {
      "cell_type": "markdown",
      "source": [
        "A handy shortcut: if you start from the beginning, you can leave out the first number. To get \"world\", we can start from index 7 and go to the end. If you go to the end, you can leave out the second number."
      ],
      "metadata": {
        "id": "fSTPSpjlqByJ"
      }
    },
    {
      "cell_type": "code",
      "source": [
        "message = \"Hello, world!\"\n",
        "second_word = message[7:] # Start at index 7 and go to the end\n",
        "print(second_word) # Output: world!"
      ],
      "outputs": [
        {
          "output_type": "stream",
          "name": "stdout",
          "text": [
            "world!\n"
          ]
        }
      ],
      "execution_count": 3,
      "metadata": {
        "colab": {
          "base_uri": "https://localhost:8080/"
        },
        "id": "CzweFhbNqByJ",
        "outputId": "d0ff4df0-b3ba-46f9-8068-9a0b1ff6ce31"
      }
    },
    {
      "cell_type": "markdown",
      "source": [
        "#### Splitting: Breaking a String into a List\n",
        "\n",
        "Slicing is great, but what if you want to break a sentence into individual words? Using the `.split()` method is much easier. This tool breaks a string apart wherever it sees a specific character (a **delimiter**) and gives you a **list** of the pieces.\n",
        "\n",
        "By default, `.split()` uses spaces as the delimiter."
      ],
      "metadata": {
        "id": "VB1XK6PoqByK"
      }
    },
    {
      "cell_type": "code",
      "source": [
        "sentence = \"Learning Python is fun\"\n",
        "words = sentence.split(' ') # The ' ' tells it to split on spaces\n",
        "print(words) # Output: ['Learning', 'Python', 'is', 'fun']"
      ],
      "outputs": [],
      "execution_count": null,
      "metadata": {
        "id": "3RoPSfAKqByK"
      }
    },
    {
      "cell_type": "markdown",
      "source": [
        "Notice the output is in square brackets `[]`. This is a Python **list**, which is just an ordered collection of items. Now that we have our words in a list, we can easily access and reorder them\\!\n",
        "\n",
        "You can also split by any other character. This is very useful for data that's separated by commas or dashes."
      ],
      "metadata": {
        "id": "Anm-04xYqByL"
      }
    },
    {
      "cell_type": "code",
      "source": [
        "data = \"apple,banana,cherry\"\n",
        "fruits = data.split(',') # Split on the comma\n",
        "print(fruits) # Output: ['apple', 'banana', 'cherry']"
      ],
      "outputs": [
        {
          "output_type": "stream",
          "name": "stdout",
          "text": [
            "['apple', 'banana', 'cherry']\n"
          ]
        }
      ],
      "execution_count": 4,
      "metadata": {
        "colab": {
          "base_uri": "https://localhost:8080/"
        },
        "id": "iqoFfy5tqByL",
        "outputId": "822f63bd-7cee-4a2f-927d-46a7d3453db4"
      }
    },
    {
      "cell_type": "markdown",
      "source": [
        "-----\n",
        "\n",
        "### Putting Strings Back Together: Concatenation and Joining\n",
        "\n",
        "Now that we have our pieces, let's learn how to put them back together.\n",
        "\n",
        "#### Concatenation: The Simple Plus Sign (+)\n",
        "\n",
        "The easiest way to combine strings is to just \"add\" them together with the `+` symbol. This is called **concatenation**."
      ],
      "metadata": {
        "id": "KOBBm4Z5qByM"
      }
    },
    {
      "cell_type": "code",
      "source": [
        "first_name = \"Jane\"\n",
        "last_name = \"Doe\"\n",
        "# Don't forget to add a space in between!\n",
        "full_name = first_name + \" \" + last_name\n",
        "print(full_name) # Output: Jane Doe"
      ],
      "outputs": [
        {
          "output_type": "stream",
          "name": "stdout",
          "text": [
            "Jane Doe\n"
          ]
        }
      ],
      "execution_count": 5,
      "metadata": {
        "colab": {
          "base_uri": "https://localhost:8080/"
        },
        "id": "ba43PW6pqByN",
        "outputId": "a492fdab-dced-415b-a90d-e2c9ec5899d0"
      }
    },
    {
      "cell_type": "markdown",
      "source": [
        "This works great for combining a few pieces, but it can get clunky if you have many parts. For that, we have a much better tool.\n",
        "\n",
        "#### Joining: The Pro-Level Method\n",
        "\n",
        "The `.join()` method is the perfect partner to `.split()`. It takes a list of strings and joins them together into a single string, using a \"glue\" string that you specify.\n",
        "\n",
        "The syntax looks a little backward at first, so pay close attention: `glue.join(list_of_pieces)`.\n",
        "\n",
        "Let's take the list of words we made earlier and put them back together, but this time with dashes `-` instead of spaces."
      ],
      "metadata": {
        "id": "QHmyOEZnqByN"
      }
    },
    {
      "cell_type": "code",
      "source": [
        "words = ['Learning', 'Python', 'is', 'fun']\n",
        "glue = '-'\n",
        "new_sentence = glue.join(words)\n",
        "print(new_sentence) # Output: Learning-Python-is-fun"
      ],
      "outputs": [
        {
          "output_type": "stream",
          "name": "stdout",
          "text": [
            "Learning-Python-is-fun\n"
          ]
        }
      ],
      "execution_count": 6,
      "metadata": {
        "colab": {
          "base_uri": "https://localhost:8080/"
        },
        "id": "1-k-jZsJqByO",
        "outputId": "febad2c3-020d-4a2d-bb74-13d677ffe8c0"
      }
    },
    {
      "cell_type": "markdown",
      "source": [
        "You can write this more compactly, and it's how you'll usually see it:"
      ],
      "metadata": {
        "id": "jNtiLf9FqByO"
      }
    },
    {
      "cell_type": "code",
      "source": [
        "new_sentence = \"-\".join(words)\n",
        "print(new_sentence)"
      ],
      "outputs": [
        {
          "output_type": "stream",
          "name": "stdout",
          "text": [
            "Learning-Python-is-fun\n"
          ]
        }
      ],
      "execution_count": 7,
      "metadata": {
        "colab": {
          "base_uri": "https://localhost:8080/"
        },
        "id": "WWHrSeDzqByO",
        "outputId": "ff0c9506-dbb8-4634-bc11-8052e2a0b139"
      }
    },
    {
      "cell_type": "markdown",
      "source": [
        "-----\n",
        "\n",
        "### Putting It All Together: A Practical Example\n",
        "\n",
        "Let's solve a real-world problem. Imagine you have a date in the American format `MM/DD/YYYY` and you need to convert it to the standard format `YYYY-MM-DD`.\n",
        "\n",
        "Here's our game plan:\n",
        "\n",
        "1.  **Take it apart** at the `/` character.\n",
        "2.  **Rearrange** the pieces (year, then month, then day).\n",
        "3.  **Put it back together** with `-` as the glue.\n",
        "\n",
        "Let's see it in action\\! 🎬"
      ],
      "metadata": {
        "id": "YZtEGO68qByP"
      }
    },
    {
      "cell_type": "code",
      "source": [
        "# Our starting date string\n",
        "original_date = \"09/23/2025\"\n",
        "\n",
        "# 1. Take it apart using split()\n",
        "date_pieces = original_date.split('/')\n",
        "# Now, date_pieces is the list: ['09', '23', '2025']\n",
        "# The month is at index 0, day at 1, and year at 2.\n",
        "\n",
        "# 2. Rearrange the pieces into a new list\n",
        "# We want year, then month, then day\n",
        "reordered_pieces = [date_pieces[2], date_pieces[0], date_pieces[1]]\n",
        "# Now, reordered_pieces is: ['2025', '09', '23']\n",
        "\n",
        "# 3. Put it back together using join()\n",
        "new_date_format = \"-\".join(reordered_pieces)\n",
        "\n",
        "print(f\"Original Date: {original_date}\")\n",
        "print(f\"New Date Format: {new_date_format}\")"
      ],
      "outputs": [
        {
          "output_type": "stream",
          "name": "stdout",
          "text": [
            "Original Date: 09/23/2025\n",
            "New Date Format: 2025-09-23\n"
          ]
        }
      ],
      "execution_count": 8,
      "metadata": {
        "colab": {
          "base_uri": "https://localhost:8080/"
        },
        "id": "YPoIXSfeqByP",
        "outputId": "e97f5a2e-1374-40b4-f12f-8ff07f5f89f7"
      }
    },
    {
      "cell_type": "markdown",
      "source": [
        "**Output:**\n",
        "\n",
        "```\n",
        "Original Date: 09/23/2025\n",
        "New Date Format: 2025-09-23\n",
        "```\n",
        "\n",
        "There you have it\\! By combining `.split()` and `.join()`, you can reorder any string you want. This is an incredibly powerful technique you'll use all the time.\n",
        "\n",
        "Practice is key, so try splitting and joining your own sentences. Happy coding\\! 👍"
      ],
      "metadata": {
        "id": "EPBVK8jEqByP"
      }
    }
  ],
  "metadata": {
    "colab": {
      "provenance": [],
      "include_colab_link": true
    },
    "kernelspec": {
      "display_name": "Python 3",
      "name": "python3"
    }
  },
  "nbformat": 4,
  "nbformat_minor": 0
}