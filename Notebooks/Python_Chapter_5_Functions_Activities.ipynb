{
  "nbformat": 4,
  "nbformat_minor": 0,
  "metadata": {
    "colab": {
      "provenance": [],
      "collapsed_sections": [
        "JbVT11Y8CbAu",
        "YV4sYCn8EPwb",
        "3EKvP6jiMZ9H",
        "WjrwJdMGt9p-",
        "awIcNobVu7NC",
        "-w9cTvoju5g1",
        "kPTK7rPllQhd",
        "jDxjvtEEM1vg",
        "eQKo5-xfoSLl"
      ],
      "toc_visible": true,
      "include_colab_link": true
    },
    "kernelspec": {
      "name": "python3",
      "display_name": "Python 3"
    }
  },
  "cells": [
    {
      "cell_type": "markdown",
      "metadata": {
        "id": "view-in-github",
        "colab_type": "text"
      },
      "source": [
        "<a href=\"https://colab.research.google.com/github/itinstructor/JupyterNotebooks/blob/main/Notebooks/Python_Chapter_5_Functions_Activities.ipynb\" target=\"_parent\"><img src=\"https://colab.research.google.com/assets/colab-badge.svg\" alt=\"Open In Colab\"/></a>"
      ]
    },
    {
      "cell_type": "markdown",
      "metadata": {
        "id": "JbVT11Y8CbAu"
      },
      "source": [
        "<a name=\"top\"></a>\n",
        "# Python Primer (Life, the Universe, and Everything)\n",
        "\n"
      ]
    },
    {
      "cell_type": "markdown",
      "metadata": {
        "id": "YV4sYCn8EPwb"
      },
      "source": [
        "# Jupyter Notebooks"
      ]
    },
    {
      "cell_type": "markdown",
      "metadata": {
        "id": "2HuuwOcQEYQI"
      },
      "source": [
        "**Jupyter notebooks** are commonly used to practice data science and machine learning. Notebooks are a great way to mix executable code with rich contents (HTML, images, equations written in LaTeX).\n",
        "\n",
        "**Google Colab** allows us to run notebooks on the cloud for free without a local installation.\n",
        "\n",
        "Whether you're a **student**, a **data scientist** or an **AI researcher**, Colab can make your work easier. Watch [Introduction to Colab](https://www.youtube.com/watch?v=inN8seMm7UI) to learn more."
      ]
    },
    {
      "cell_type": "markdown",
      "metadata": {
        "id": "t0XmMkPuGGOs"
      },
      "source": [
        "You are working in an interactive environment called a notebook. A notebook allows you to and display text and write and execute code. Notebooks consist of text cells or code cells.\n",
        "\n",
        "- **text cell:** We are in a text cell. This is where you make notes and explain what is going on.\n",
        "- **code cell:** Below is a code cell that stores the result of a computation (the number of seconds in a day) in a variable and prints its value:"
      ]
    },
    {
      "cell_type": "code",
      "metadata": {
        "id": "qeGAvLq1ALJ4",
        "colab": {
          "base_uri": "https://localhost:8080/"
        },
        "outputId": "ea46509c-bb77-42b8-8c57-f7a36797ef04"
      },
      "source": [
        "# This is a code cell\n",
        "# Calculate how many seconds are in a day\n",
        "seconds_in_a_day = 24 * 60 * 60\n",
        "print(f\"Seconds in a day: {seconds_in_a_day}\")"
      ],
      "execution_count": null,
      "outputs": [
        {
          "output_type": "stream",
          "name": "stdout",
          "text": [
            "Seconds in a day: 86400\n"
          ]
        }
      ]
    },
    {
      "cell_type": "markdown",
      "metadata": {
        "id": "njoPs3q1G75-"
      },
      "source": [
        "Click on the \"play\" button to execute the cell. You should be able to see the result. \n",
        "\n",
        "You can also execute the cell:\n",
        "* Windows/Linux: **Ctrl + Enter**\n",
        "* Mac: **Command + Enter**"
      ]
    },
    {
      "cell_type": "markdown",
      "metadata": {
        "id": "NvdYaBgHHdbw"
      },
      "source": [
        "Variables defined in one cell can be used later in other cells:"
      ]
    },
    {
      "cell_type": "code",
      "metadata": {
        "id": "s1kp5Zv0JBSx",
        "colab": {
          "base_uri": "https://localhost:8080/"
        },
        "outputId": "0541a2e7-1d88-4851-c60d-3b62df448cc3"
      },
      "source": [
        "# seconds_in_a_day was used in the previous code cell\n",
        "seconds_in_a_week = 7 * seconds_in_a_day\n",
        "print(f\"Seconds in a week: {seconds_in_a_week}\")"
      ],
      "execution_count": null,
      "outputs": [
        {
          "output_type": "stream",
          "name": "stdout",
          "text": [
            "Seconds in a week: 604800\n"
          ]
        }
      ]
    },
    {
      "cell_type": "markdown",
      "metadata": {
        "id": "uALfY4q1JFQ0"
      },
      "source": [
        "The order of execution is important. If we do not run the cell storing `seconds_in_a_day` beforehand, the above cell will raise an error, as it depends on this variable. To ensure that you run all the cells in the correct order, you can click on \"Runtime\" in the top-level menu, then \"Run all\"."
      ]
    },
    {
      "cell_type": "markdown",
      "source": [
        "# Python"
      ],
      "metadata": {
        "id": "SEf8X8vnGVek"
      }
    },
    {
      "cell_type": "markdown",
      "source": [
        "Almost all Python code will run in Colab. Let's take a look at some common Python concepts in a notebook environment."
      ],
      "metadata": {
        "id": "PZZb0TBiIzKz"
      }
    },
    {
      "cell_type": "code",
      "source": [
        "# Find the Python version in a notebook\n",
        "import sys\n",
        "print(f\"Python: {sys.version}\")"
      ],
      "metadata": {
        "colab": {
          "base_uri": "https://localhost:8080/"
        },
        "id": "VOUbZW69XJ5P",
        "outputId": "95b4253c-1884-42b4-b6bd-646220ed3e75"
      },
      "execution_count": null,
      "outputs": [
        {
          "output_type": "stream",
          "name": "stdout",
          "text": [
            "Python: 3.7.13 (default, Apr 24 2022, 01:04:09) \n",
            "[GCC 7.5.0]\n"
          ]
        }
      ]
    },
    {
      "cell_type": "markdown",
      "metadata": {
        "id": "qTkQ2F_jy8wz"
      },
      "source": [
        "Contrary to other languages, Python blocks of code are delimited using indentation. In Python, it is common practice to use 4-space indentation."
      ]
    },
    {
      "cell_type": "markdown",
      "metadata": {
        "id": "Cck4zwYrex02"
      },
      "source": [
        "# Functions"
      ]
    },
    {
      "cell_type": "markdown",
      "metadata": {
        "id": "n1PbIf_ohxFO"
      },
      "source": [
        "To improve code readability, it is common to separate the code into different blocks, responsible for performing precise actions: functions. A function takes some inputs and process them to return some outputs."
      ]
    },
    {
      "cell_type": "code",
      "metadata": {
        "id": "cImA09gOhRmx",
        "colab": {
          "base_uri": "https://localhost:8080/"
        },
        "outputId": "8755acae-67db-456e-9ee4-5f1f107e058e"
      },
      "source": [
        "# Define square function with 1 parameter and a return\n",
        "def square(x):\n",
        "    return x ** 2\n",
        "\n",
        "# Define multiply function with 2 parameters and a return\n",
        "def multiply(a, b):\n",
        "    return a * b\n",
        "\n",
        "# Value returned from a function can be directly printed\n",
        "print(multiply(1, 5))\n",
        "# Value returned from a function can be assigned to a variable\n",
        "sqr = square(4)\n",
        "print(sqr)\n",
        "# The return value of a function can be the argument of another function\n",
        "result = square(multiply(3, 2))\n",
        "print(result)"
      ],
      "execution_count": null,
      "outputs": [
        {
          "output_type": "stream",
          "name": "stdout",
          "text": [
            "5\n",
            "16\n",
            "36\n"
          ]
        }
      ]
    },
    {
      "cell_type": "markdown",
      "metadata": {
        "id": "jDxjvtEEM1vg"
      },
      "source": [
        "## Going Further"
      ]
    },
    {
      "cell_type": "markdown",
      "metadata": {
        "id": "wRkmvzf-PdEp"
      },
      "source": [
        "It is impossible to cover all the language features in this short introduction. To go further, we recommend the following resources:"
      ]
    },
    {
      "cell_type": "markdown",
      "metadata": {
        "id": "n8nbPoWclRlH"
      },
      "source": [
        "* [Python Tutorial with Google Collab](https://colab.research.google.com/github/cs231n/cs231n.github.io/blob/master/python-colab.ipynb)\n",
        "*   List of Python [tutorials](https://wiki.python.org/moin/BeginnersGuide/Programmers)\n",
        "* Four-hour [course](https://www.youtube.com/watch?v=rfscVS0vtbw) on Youtube\n",
        "\n",
        "[Back to Top](#top)"
      ]
    },
    {
      "cell_type": "markdown",
      "source": [
        "## License\n",
        "<a rel=\"license\" href=\"http://creativecommons.org/licenses/by-nc-sa/4.0/\"><img alt=\"Creative Commons License\" style=\"border-width:0\" src=\"https://i.creativecommons.org/l/by-nc-sa/4.0/88x31.png\" /></a><br />This work is licensed under a <a rel=\"license\" href=\"http://creativecommons.org/licenses/by-nc-sa/4.0/\">Creative Commons Attribution-NonCommercial-ShareAlike 4.0 International License</a>.\n",
        "\n",
        "Copyright (c) 2022 William A Loring"
      ],
      "metadata": {
        "id": "eQKo5-xfoSLl"
      }
    }
  ]
}