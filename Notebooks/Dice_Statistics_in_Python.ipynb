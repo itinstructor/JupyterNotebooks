{
  "cells": [
    {
      "cell_type": "markdown",
      "metadata": {
        "colab_type": "text",
        "id": "view-in-github"
      },
      "source": [
        "<a href=\"https://colab.research.google.com/github/itinstructor/JupyterNotebooks/blob/main/Notebooks/Dice_Statistics_in_Python.ipynb\" target=\"_parent\"><img src=\"https://colab.research.google.com/assets/colab-badge.svg\" alt=\"Open In Colab\"/></a>"
      ]
    },
    {
      "cell_type": "markdown",
      "metadata": {
        "id": "HmpXgg5onLMw"
      },
      "source": [
        "# Introduction\n",
        "\n",
        "Every time I visited Las Vegas as a young kid, I would get kicked out of the casinos. I just wanted to play the games. But rules are rules, and I had to wait until I was 21. \n",
        "\n",
        "When I was finally of age, a few friends and I hopped in my car and drove the 4.5 hours from Los Angeles to Sin City. We checked into our hotel and I was immediately hooked. It was at that moment, that I understood how people descend into addiction. Few feelings are like the hit of dopamine you receive when you score big on the craps table.\n",
        "\n",
        "And yes, my game is craps. That first weekend one of our good friends had a 45 min hot streak where he rolled only a single 7. Everyone won a ton of money and we all went nuts. Anyone who's played before knows how rare a streak like that is, but at the time I had no idea. In the visits that followed I pretty much lost money every time. Factor in how much I enjoyed each experience and I'd like to believe I've broken even in the long run.\n",
        "\n",
        "Today I'm only slightly older and barely wiser, but I have taken a statistics course recently. And now I have a much better grasp on the actual numbers behind how likely I am to win each roll.\n",
        "\n",
        "In this post, we'll write some code that performs some simple calculations on the probability of different dice rolls."
      ]
    },
    {
      "cell_type": "markdown",
      "metadata": {
        "id": "EDv6G69WtlaI"
      },
      "source": [
        "## Sets and Probability Theory\n",
        "\n",
        "In probability theory, a **set** is denoted as a well-defined collection of objects.\n",
        "\n",
        "Mathematically, you can define a set by ` 𝑆 `. If element ` x ` belongs to the set, we say `𝑥` is in ` 𝑆 ` like so: ` 𝑥 ∈ 𝑆 ` .\n",
        "\n",
        "The collection of all possible outcomes in a certain context or universe is called the **universal set**. A universal set is often denoted by ` Ω `.\n",
        "\n",
        "If we think of the context as rolling a single die, then, ` Ω = { 1, 2, 3, 4, 5, 6 } ` and also ` 𝑆 = { 1, 2, 3, 4, 5, 6 } `.\n",
        "\n",
        "In this context, we'd call throwing the dice a **random experiment**. The result of this experiment is then called the **outcome**. Note that ` 𝑆 ` defines all the possible outcomes when throwing the dice once, so in fact, we can also call it the Universal set ` Ω `, as seen before.\n",
        "\n",
        "\n",
        "The Laplace definition of probability states that, if all the singular events in the event space (here denoted by ` 𝑆 `) are as likely.\n",
        "\n",
        "> ` 𝑃(𝐸) = #𝐸 / #𝑆 `\n",
        "\n",
        "To understand this even better, let's look at another way of writing this. Again, if we say each outcome in ` 𝑆 ` is equally likely, then the probability of observing one particular outcome is:\n",
        "\n",
        "> ` 𝑃(each outcome) = 1 / ∣𝑆∣ `\n",
        "\n",
        "where ` ∣𝑆∣ ` is the **cardinality** of ` 𝑆 `, in other words, the number of possible outcomes in the sample space. then, extending to our event space ` 𝐸 ` (which can contain multiple elements):\n",
        "\n",
        "> ` 𝑃(𝐸) = number of outcomes in E / number of outcomes in S `\n",
        "\n",
        "> ` 𝑃(𝐸) = ∣𝐸∣ / ∣𝑆∣ `\n",
        "\n",
        "With this concept in hand, we'll generate random dice rolls using python and plot the data to get a better view on the distribution of dice rolls.\n",
        "\n",
        "## First, Let's Play a Game\n",
        "\n",
        "Two of my students, Xochitl and Jimmie, play a game where each takes a turn rolling two six-side dice.\n",
        "\n",
        "Xochitl gets $1,000,000 if the sum of the numbers of the two dice is a prime number (the number 1 is not prime).\n",
        "\n",
        "Jimmie gets $1,000,000 if the numbers on the two dice are the same (e.g. 1-1, 2-2, 3-3, etc).\n",
        "\n",
        "Who makes more money on average?\n",
        "\n",
        "Let's write some python and figure it out."
      ]
    },
    {
      "cell_type": "code",
      "execution_count": 1,
      "metadata": {
        "id": "av2Mb_9IerDC"
      },
      "outputs": [],
      "source": [
        "import matplotlib.pyplot as plt\n",
        "import seaborn as sns\n",
        "import numpy as np\n",
        "\n",
        "plt.style.use('ggplot')\n",
        "%matplotlib inline\n",
        "\n",
        "np.random.seed(1738)\n",
        "\n",
        "d1 = np.array([1, 2, 3, 4, 5, 6])\n",
        "d2 = np.array([1, 2, 3, 4, 5, 6])\n",
        "\n",
        "dice_1 = []\n",
        "dice_2 = []\n",
        "sums = []\n",
        "for _ in range(500):\n",
        "  roll_1 = np.random.choice(d1)\n",
        "  roll_2 = np.random.choice(d2)\n",
        "  \n",
        "  dice_1.append(roll_1)\n",
        "  dice_2.append(roll_2)\n",
        "\n",
        "  sums.append(roll_1 + roll_2)"
      ]
    },
    {
      "cell_type": "markdown",
      "metadata": {
        "id": "SZcUKYcry88C"
      },
      "source": [
        "We start by loading in a few python specific libraries on lines 1, 2, and 3. We'll use matplotlib and seaborn for plotting, and numpy for data processing.\n",
        "\n",
        "Then we add a bit of setup to our plotting on lines 5 and 6.\n",
        "\n",
        "Next, we set a random seed for numpy on line 8 to make sure that our results are reproducible (randomness in computers is pretty dicey - pun intended - so we use the pseudo-randomness that comes with numpy).\n",
        "\n",
        "On lines 10 and 11, we create numpy arrays that hold the sample space for our two dice.\n",
        "\n",
        "Line 13, 14, and 15 hold python lists where we'll store the outcomes for each of the two dice, and their sum.\n",
        "\n",
        "Finally, we loop 500 times, picking a random number from the sample space for each dice and appending them to their respective arrays. We also append their sums, and call it a day.\n",
        "\n",
        "After running this code, we should be able to plot the results. Here's what we get.\n"
      ]
    },
    {
      "cell_type": "code",
      "execution_count": 2,
      "metadata": {
        "colab": {
          "base_uri": "https://localhost:8080/",
          "height": 372
        },
        "id": "FctZw5ESuWpE",
        "outputId": "9441944e-6a54-4f6e-a64f-20a020b4d9bc"
      },
      "outputs": [
        {
          "name": "stderr",
          "output_type": "stream",
          "text": [
            "/usr/local/lib/python3.7/dist-packages/seaborn/_decorators.py:43: FutureWarning: Pass the following variable as a keyword arg: x. From version 0.12, the only valid positional argument will be `data`, and passing other arguments without an explicit keyword will result in an error or misinterpretation.\n",
            "  FutureWarning\n",
            "/usr/local/lib/python3.7/dist-packages/seaborn/_decorators.py:43: FutureWarning: Pass the following variable as a keyword arg: x. From version 0.12, the only valid positional argument will be `data`, and passing other arguments without an explicit keyword will result in an error or misinterpretation.\n",
            "  FutureWarning\n"
          ]
        },
        {
          "data": {
            "text/plain": [
              "<matplotlib.axes._subplots.AxesSubplot at 0x7ff3ccdd2910>"
            ]
          },
          "execution_count": 2,
          "metadata": {},
          "output_type": "execute_result"
        },
        {
          "data": {
            "image/png": "[encoded data removed]",
            "text/plain": [
              "<Figure size 864x288 with 2 Axes>"
            ]
          },
          "metadata": {
            "needs_background": "light"
          },
          "output_type": "display_data"
        }
      ],
      "source": [
        "fig, (ax1, ax2) = plt.subplots(ncols=2, sharey=True, figsize=(12, 4))\n",
        "sns.countplot(dice_1, ax=ax1)\n",
        "sns.countplot(dice_2, ax=ax2)"
      ]
    },
    {
      "cell_type": "markdown",
      "metadata": {
        "id": "3z1YV3Qy0MsS"
      },
      "source": [
        "Interesting. Looks like 500 rolls doesn't give us consistent results for our dice rolls. Die #1 rolled 5 significantly more times than die #2, among other identifiable differences.\n",
        "\n",
        "Let's look at their sums."
      ]
    },
    {
      "cell_type": "code",
      "execution_count": 3,
      "metadata": {
        "colab": {
          "base_uri": "https://localhost:8080/",
          "height": 337
        },
        "id": "Wilki6FQue2d",
        "outputId": "aef37bf7-bd1f-49cc-940e-b298541ec25c"
      },
      "outputs": [
        {
          "name": "stderr",
          "output_type": "stream",
          "text": [
            "/usr/local/lib/python3.7/dist-packages/seaborn/_decorators.py:43: FutureWarning: Pass the following variable as a keyword arg: x. From version 0.12, the only valid positional argument will be `data`, and passing other arguments without an explicit keyword will result in an error or misinterpretation.\n",
            "  FutureWarning\n"
          ]
        },
        {
          "data": {
            "text/plain": [
              "<matplotlib.axes._subplots.AxesSubplot at 0x7ff3cccc3550>"
            ]
          },
          "execution_count": 3,
          "metadata": {},
          "output_type": "execute_result"
        },
        {
          "data": {
            "image/png": "[encoded data removed]",
            "text/plain": [
              "<Figure size 432x288 with 1 Axes>"
            ]
          },
          "metadata": {
            "needs_background": "light"
          },
          "output_type": "display_data"
        }
      ],
      "source": [
        "sns.countplot(sums)"
      ]
    },
    {
      "cell_type": "markdown",
      "metadata": {
        "id": "Wxnj4s5Y0zzy"
      },
      "source": [
        "## The Law of Large Numbers!\n",
        "\n",
        "One of the reasons our results varied so greatly from what we expected is that we only ran the trial 500 times. \n",
        "\n",
        "Let's repeat the process but run this experiment 10,000 times."
      ]
    },
    {
      "cell_type": "code",
      "execution_count": null,
      "metadata": {
        "colab": {
          "base_uri": "https://localhost:8080/",
          "height": 337
        },
        "id": "_lfG6F_Y0Pbd",
        "outputId": "70f2d576-c163-49d9-b172-898edd62d74e"
      },
      "outputs": [
        {
          "name": "stderr",
          "output_type": "stream",
          "text": [
            "/usr/local/lib/python3.6/dist-packages/seaborn/categorical.py:1428: FutureWarning: remove_na is deprecated and is a private function. Do not use.\n",
            "  stat_data = remove_na(group_data)\n"
          ]
        },
        {
          "data": {
            "text/plain": [
              "<matplotlib.axes._subplots.AxesSubplot at 0x7fe228a28588>"
            ]
          },
          "execution_count": 4,
          "metadata": {
            "tags": []
          },
          "output_type": "execute_result"
        },
        {
          "data": {
            "image/png": "[encoded data removed]",
            "text/plain": [
              "<Figure size 864x288 with 2 Axes>"
            ]
          },
          "metadata": {
            "tags": []
          },
          "output_type": "display_data"
        }
      ],
      "source": [
        "np.random.seed(1738)\n",
        "\n",
        "d1 = np.array([1, 2, 3, 4, 5, 6])\n",
        "d2 = np.array([1, 2, 3, 4, 5, 6])\n",
        "\n",
        "dice_1 = []\n",
        "dice_2 = []\n",
        "sums = []\n",
        "for _ in range(10000):\n",
        "    roll_1 = np.random.choice(d1)\n",
        "    roll_2 = np.random.choice(d2)\n",
        "\n",
        "    dice_1.append(roll_1)\n",
        "    dice_2.append(roll_2)\n",
        "\n",
        "    sums.append(roll_1 + roll_2)\n",
        "\n",
        "fig, (ax1, ax2) = plt.subplots(ncols=2, sharey=True, figsize=(12, 4))\n",
        "sns.countplot(dice_1, ax=ax1)\n",
        "sns.countplot(dice_2, ax=ax2)"
      ]
    },
    {
      "cell_type": "code",
      "execution_count": null,
      "metadata": {
        "colab": {
          "base_uri": "https://localhost:8080/",
          "height": 341
        },
        "id": "rH71n9WJ1oVI",
        "outputId": "80d88fe8-42ea-49a1-dce9-566e4e1c6992"
      },
      "outputs": [
        {
          "name": "stderr",
          "output_type": "stream",
          "text": [
            "/usr/local/lib/python3.6/dist-packages/seaborn/categorical.py:1428: FutureWarning: remove_na is deprecated and is a private function. Do not use.\n",
            "  stat_data = remove_na(group_data)\n"
          ]
        },
        {
          "data": {
            "text/plain": [
              "<matplotlib.axes._subplots.AxesSubplot at 0x7fe228b3e470>"
            ]
          },
          "execution_count": 5,
          "metadata": {
            "tags": []
          },
          "output_type": "execute_result"
        },
        {
          "data": {
            "image/png": "[encoded data removed]",
            "text/plain": [
              "<Figure size 432x288 with 1 Axes>"
            ]
          },
          "metadata": {
            "tags": []
          },
          "output_type": "display_data"
        }
      ],
      "source": [
        "sns.countplot(sums)"
      ]
    },
    {
      "cell_type": "code",
      "execution_count": null,
      "metadata": {
        "colab": {
          "base_uri": "https://localhost:8080/",
          "height": 260
        },
        "id": "FTuBbIvR2b8h",
        "outputId": "7de9c310-e716-4cfe-84cb-c7e81d37b8a6"
      },
      "outputs": [
        {
          "data": {
            "text/plain": [
              "['0.0%',\n",
              " '0.0%',\n",
              " '2.64%',\n",
              " '5.47%',\n",
              " '7.94%',\n",
              " '11.01%',\n",
              " '13.86%',\n",
              " '17.14%',\n",
              " '13.82%',\n",
              " '11.49%',\n",
              " '8.63%',\n",
              " '5.33%',\n",
              " '2.67%',\n",
              " '0.0%']"
            ]
          },
          "execution_count": 6,
          "metadata": {
            "tags": []
          },
          "output_type": "execute_result"
        }
      ],
      "source": [
        "outcomes = [0, 0, 0, 0, 0, 0, 0, 0, 0, 0, 0, 0, 0, 0]\n",
        "for n in sums:\n",
        "  outcomes[n] += 1\n",
        "  \n",
        "percs = [f'{round((count/sum(outcomes))*100, 2)}%' for count in outcomes ]\n",
        "percs"
      ]
    },
    {
      "cell_type": "code",
      "execution_count": null,
      "metadata": {
        "colab": {
          "base_uri": "https://localhost:8080/",
          "height": 260
        },
        "id": "AwSwQWWL4ihe",
        "outputId": "43d3dc07-cbd8-457d-86eb-8a75d175f28a"
      },
      "outputs": [
        {
          "name": "stdout",
          "output_type": "stream",
          "text": [
            "0: 0.0%\n",
            "1: 0.0%\n",
            "2: 2.64%\n",
            "3: 5.47%\n",
            "4: 7.94%\n",
            "5: 11.01%\n",
            "6: 13.86%\n",
            "7: 17.14%\n",
            "8: 13.82%\n",
            "9: 11.49%\n",
            "10: 8.63%\n",
            "11: 5.33%\n",
            "12: 2.67%\n",
            "13: 0.0%\n"
          ]
        }
      ],
      "source": [
        "for i, val in enumerate(percs):\n",
        "  print(f'{i}: {val}')"
      ]
    },
    {
      "cell_type": "code",
      "execution_count": null,
      "metadata": {
        "colab": {
          "base_uri": "https://localhost:8080/",
          "height": 52
        },
        "id": "gPS2m4FW5Rkk",
        "outputId": "88027bd4-0c1c-42fa-b7d6-e614a92db381"
      },
      "outputs": [
        {
          "name": "stdout",
          "output_type": "stream",
          "text": [
            "0.1664\n",
            "0.4159\n"
          ]
        }
      ],
      "source": [
        "same = 0\n",
        "primes = 0\n",
        "for i in range(len(dice_1)):\n",
        "  if dice_1[i] == dice_2[i]:\n",
        "    same += 1\n",
        "  if sums[i] in prime_numbers:\n",
        "    primes += 1\n",
        "\n",
        "same_perc = same / len(dice_1)    \n",
        "print(same_perc) # 16.66666\n",
        "prime_perc = primes / len(dice_1)\n",
        "print(prime_perc) # 41.59"
      ]
    }
  ],
  "metadata": {
    "colab": {
      "collapsed_sections": [],
      "include_colab_link": true,
      "name": "Dice Statistics in Python.ipynb",
      "provenance": [],
      "toc_visible": true
    },
    "kernelspec": {
      "display_name": "Python 3",
      "name": "python3"
    }
  },
  "nbformat": 4,
  "nbformat_minor": 0
}
