{
  "cells": [
    {
      "cell_type": "markdown",
      "metadata": {
        "id": "view-in-github",
        "colab_type": "text"
      },
      "source": [
        "<a href=\"https://colab.research.google.com/github/itinstructor/JupyterNotebooks/blob/main/Notebooks%5CFlaskServerIPGeolocation.ipynb\" target=\"_parent\"><img src=\"https://colab.research.google.com/assets/colab-badge.svg\" alt=\"Open In Colab\"/></a>"
      ]
    },
    {
      "cell_type": "markdown",
      "source": [
        "Of course. You can display a map of user locations by getting their IP address, converting it to geographic coordinates using a geolocation service, storing those coordinates, and then plotting them on a map using a front-end library.\n",
        "\n",
        "Since you're running Flask behind an IIS reverse proxy, the key is to get the user's *actual* IP from the `X-Forwarded-For` header, not the IP of the IIS server itself.\n",
        "\n",
        "Here’s a complete guide to achieve this.\n",
        "\n",
        "-----\n",
        "\n",
        "## 1\\. Get the User's IP Address\n",
        "\n",
        "When a request goes through a proxy like IIS, the original user's IP is stored in a header, typically `X-Forwarded-For`. In Flask, you can access this from the `request` object.\n",
        "\n",
        "A reliable way to get the IP is to check for the header first and fall back to `request.remote_addr` if it's not present."
      ],
      "metadata": {
        "id": "ttQtha3MG1rv"
      }
    },
    {
      "cell_type": "code",
      "source": [
        "from flask import request\n",
        "\n",
        "def get_ip():\n",
        "    # Check for the X-Forwarded-For header, which IIS should add\n",
        "    if request.headers.getlist(\"X-Forwarded-For\"):\n",
        "        # The header can be a comma-separated list, take the first IP\n",
        "        ip = request.headers.getlist(\"X-Forwarded-For\")[0].split(',')[0]\n",
        "    else:\n",
        "        # If the header is not present, fall back to the remote address\n",
        "        ip = request.remote_addr\n",
        "    return ip"
      ],
      "outputs": [],
      "execution_count": null,
      "metadata": {
        "id": "6Q3dwW5XG1rx"
      }
    },
    {
      "cell_type": "markdown",
      "source": [
        "-----\n",
        "\n",
        "## 2\\. Convert IP to Geolocation\n",
        "\n",
        "Once you have the IP address, you need a service to look up its location. You have two main options: a web service API or a local database.\n",
        "\n",
        "### Option A: Use a Web Service (e.g., ipinfo.io)\n",
        "\n",
        "This is the easiest method. You make an API call to a service, and it returns location data in JSON format. The `ipinfo.io` service has a generous free tier.\n",
        "\n",
        "First, install the `requests` library:\n",
        "`pip install requests`\n",
        "\n",
        "Then, create a function to get the location:"
      ],
      "metadata": {
        "id": "txdcy4UBG1ry"
      }
    },
    {
      "cell_type": "code",
      "source": [
        "import requests\n",
        "\n",
        "def get_location(ip_address):\n",
        "    try:\n",
        "        # For local testing, you might get a private IP (e.g., 127.0.0.1)\n",
        "        # The API will ignore it, so you can return default values.\n",
        "        if ip_address == \"127.0.0.1\":\n",
        "            return {\"city\": \"Localhost\", \"region\": \"N/A\", \"country\": \"N/A\", \"loc\": \"0,0\"}\n",
        "\n",
        "        response = requests.get(f'https://ipinfo.io/{ip_address}/json')\n",
        "        response.raise_for_status() # Raise an exception for bad status codes\n",
        "        return response.json()\n",
        "    except requests.exceptions.RequestException as e:\n",
        "        print(f\"Error fetching geolocation: {e}\")\n",
        "        return None"
      ],
      "outputs": [],
      "execution_count": null,
      "metadata": {
        "id": "06NkzTPFG1ry"
      }
    },
    {
      "cell_type": "markdown",
      "source": [
        "### Option B: Use a Local Database (MaxMind GeoLite2)\n",
        "\n",
        "This method is faster, works offline, and has no rate limits, but it requires you to download a database file.\n",
        "\n",
        "1.  Download the free **GeoLite2 City** database from [MaxMind's website](https://dev.maxmind.com/geoip/geolite2-free-geolocation-data). You'll need to sign up for a free account.\n",
        "2.  Unzip the file and place the `GeoLite2-City.mmdb` file in your project directory.\n",
        "3.  Install the official Python library: `pip install geoip2`\n",
        "\n",
        "Then, create a function to query the database:"
      ],
      "metadata": {
        "id": "zsJPW2W_G1rz"
      }
    },
    {
      "cell_type": "code",
      "source": [
        "import geoip2.database\n",
        "\n",
        "def get_location_local(ip_address):\n",
        "    # This assumes the DB file is in the same directory\n",
        "    try:\n",
        "        with geoip2.database.Reader('GeoLite2-City.mmdb') as reader:\n",
        "            # Again, handle private IPs for local testing\n",
        "            if ip_address == \"127.0.0.1\":\n",
        "                return {\"lat\": 0, \"lon\": 0, \"city\": \"Localhost\"}\n",
        "\n",
        "            response = reader.city(ip_address)\n",
        "            return {\n",
        "                \"lat\": response.location.latitude,\n",
        "                \"lon\": response.location.longitude,\n",
        "                \"city\": response.city.name\n",
        "            }\n",
        "    except (geoip2.errors.AddressNotFoundError, FileNotFoundError) as e:\n",
        "        print(f\"Error with local GeoIP database: {e}\")\n",
        "        return None"
      ],
      "outputs": [],
      "execution_count": null,
      "metadata": {
        "id": "linJG3PMG1rz"
      }
    },
    {
      "cell_type": "markdown",
      "source": [
        "-----\n",
        "\n",
        "## 3\\. Store and Retrieve Location Data\n",
        "\n",
        "You'll need a simple database to store the coordinates of each visit. We'll use **Flask-SQLAlchemy** with SQLite for simplicity.\n",
        "\n",
        "Install the library:\n",
        "`pip install Flask-SQLAlchemy`\n",
        "\n",
        "In your main Flask app file (`app.py`), set up the database and define a simple model to store the locations."
      ],
      "metadata": {
        "id": "t4ardNBlG1rz"
      }
    },
    {
      "cell_type": "code",
      "source": [
        "from flask import Flask, render_template, jsonify\n",
        "from flask_sqlalchemy import SQLAlchemy\n",
        "import requests # Or import geoip2.database\n",
        "\n",
        "# ... (include get_ip and get_location functions from above) ...\n",
        "\n",
        "app = Flask(__name__)\n",
        "# Configure the SQLite database\n",
        "app.config['SQLALCHEMY_DATABASE_URI'] = 'sqlite:///locations.db'\n",
        "app.config['SQLALCHEMY_TRACK_MODIFICATIONS'] = False\n",
        "db = SQLAlchemy(app)\n",
        "\n",
        "# Database model for storing locations\n",
        "class Location(db.Model):\n",
        "    id = db.Column(db.Integer, primary_key=True)\n",
        "    lat = db.Column(db.Float, nullable=False)\n",
        "    lon = db.Column(db.Float, nullable=False)\n",
        "    city = db.Column(db.String(100))\n",
        "\n",
        "# Create the database tables\n",
        "with app.app_context():\n",
        "    db.create_all()"
      ],
      "outputs": [],
      "execution_count": null,
      "metadata": {
        "id": "nmrIJ6aoG1r0"
      }
    },
    {
      "cell_type": "markdown",
      "source": [
        "-----\n",
        "\n",
        "## 4\\. Putting It All Together\n",
        "\n",
        "Now, let's create the Flask routes. One route (`/`) will capture the user's location, and another (`/map`) will display the map.\n",
        "\n",
        "### Full `app.py` Example"
      ],
      "metadata": {
        "id": "ypvCDlc2G1r0"
      }
    },
    {
      "cell_type": "code",
      "source": [
        "from flask import Flask, render_template, request, jsonify\n",
        "from flask_sqlalchemy import SQLAlchemy\n",
        "import requests\n",
        "\n",
        "# --- App and Database Setup ---\n",
        "app = Flask(__name__)\n",
        "app.config['SQLALCHEMY_DATABASE_URI'] = 'sqlite:///locations.db'\n",
        "app.config['SQLALCHEMY_TRACK_MODIFICATIONS'] = False\n",
        "db = SQLAlchemy(app)\n",
        "\n",
        "# --- Database Model ---\n",
        "class Location(db.Model):\n",
        "    id = db.Column(db.Integer, primary_key=True)\n",
        "    lat = db.Column(db.Float, nullable=False)\n",
        "    lon = db.Column(db.Float, nullable=False)\n",
        "    city = db.Column(db.String(100))\n",
        "\n",
        "# --- Helper Functions ---\n",
        "def get_ip():\n",
        "    if request.headers.getlist(\"X-Forwarded-For\"):\n",
        "        ip = request.headers.getlist(\"X-Forwarded-For\")[0].split(',')[0]\n",
        "    else:\n",
        "        ip = request.remote_addr\n",
        "    return ip\n",
        "\n",
        "def get_location(ip_address):\n",
        "    if ip_address == \"127.0.0.1\": # Handle local testing\n",
        "        return {\"lat\": 40.7128, \"lon\": -74.0060, \"city\": \"New York (Default)\"}\n",
        "    try:\n",
        "        response = requests.get(f'https://ipinfo.io/{ip_address}/json')\n",
        "        response.raise_for_status()\n",
        "        data = response.json()\n",
        "        if 'loc' in data:\n",
        "            lat, lon = data['loc'].split(',')\n",
        "            return {\"lat\": float(lat), \"lon\": float(lon), \"city\": data.get('city', 'Unknown City')}\n",
        "    except Exception as e:\n",
        "        print(f\"Could not get location for IP {ip_address}: {e}\")\n",
        "    return None\n",
        "\n",
        "# --- Flask Routes ---\n",
        "@app.route(\"/\")\n",
        "def index():\n",
        "    # 1. Get user's IP\n",
        "    user_ip = get_ip()\n",
        "\n",
        "    # 2. Get location from IP\n",
        "    location_data = get_location(user_ip)\n",
        "\n",
        "    # 3. Save to database if found\n",
        "    if location_data:\n",
        "        new_location = Location(\n",
        "            lat=location_data['lat'],\n",
        "            lon=location_data['lon'],\n",
        "            city=location_data['city']\n",
        "        )\n",
        "        db.session.add(new_location)\n",
        "        db.session.commit()\n",
        "\n",
        "    return \"Hello! Your location has been noted. <a href='/map'>View the map</a>.\"\n",
        "\n",
        "@app.route(\"/map\")\n",
        "def show_map():\n",
        "    # Render the map page\n",
        "    return render_template('map.html')\n",
        "\n",
        "@app.route(\"/api/locations\")\n",
        "def get_locations_data():\n",
        "    # This API endpoint will be called by our JavaScript on the map page\n",
        "    locations = Location.query.all()\n",
        "    locations_list = [\n",
        "        {\"lat\": loc.lat, \"lon\": loc.lon, \"city\": loc.city} for loc in locations\n",
        "    ]\n",
        "    return jsonify(locations_list)\n",
        "\n",
        "# --- Main Entry Point ---\n",
        "if __name__ == '__main__':\n",
        "    with app.app_context():\n",
        "        db.create_all()\n",
        "    app.run(debug=True)"
      ],
      "outputs": [],
      "execution_count": null,
      "metadata": {
        "id": "vyIn7bKcG1r1"
      }
    },
    {
      "cell_type": "markdown",
      "source": [
        "### The Map Page (`templates/map.html`)\n",
        "\n",
        "For the front end, we'll use **Leaflet.js**, a popular open-source mapping library. It's free and simple to use. 🗺️\n",
        "\n",
        "Create a folder named `templates` in your project directory and add this `map.html` file inside it.\n",
        "\n",
        "```html\n",
        "<!DOCTYPE html>\n",
        "<html>\n",
        "<head>\n",
        "    <title>User Connection Map</title>\n",
        "    <meta charset=\"utf-g\" />\n",
        "    <meta name=\"viewport\" content=\"width=device-width, initial-scale=1.0\">\n",
        "    \n",
        "    <link rel=\"stylesheet\" href=\"https://unpkg.com/leaflet@1.9.4/dist/leaflet.css\"\n",
        "     integrity=\"sha256-p4NxAoJBhIIN+hmNHrzRCf9tD/miZyoHS5obTRR9BMY=\"\n",
        "     crossorigin=\"\"/>\n",
        "     \n",
        "    <script src=\"https://unpkg.com/leaflet@1.9.4/dist/leaflet.js\"\n",
        "     integrity=\"sha256-20nQCchB9co0qIjJZRGuk2/Z9VM+kNiyxNV1lvTlZBo=\"\n",
        "     crossorigin=\"\"></script>\n",
        "     \n",
        "    <style>\n",
        "        /* Make the map fill the entire page */\n",
        "        html, body, #map {\n",
        "            height: 100%;\n",
        "            width: 100%;\n",
        "            margin: 0;\n",
        "            padding: 0;\n",
        "        }\n",
        "    </style>\n",
        "</head>\n",
        "<body>\n",
        "\n",
        "<div id=\"map\"></div>\n",
        "\n",
        "<script>\n",
        "    // 1. Initialize the map and set its view to a default location and zoom level\n",
        "    const map = L.map('map').setView([20, 0], 2); // Centered roughly globally\n",
        "\n",
        "    // 2. Add a tile layer to the map (the map background)\n",
        "    // We're using OpenStreetMap, which is free to use.\n",
        "    L.tileLayer('https://{s}.tile.openstreetmap.org/{z}/{x}/{y}.png', {\n",
        "        attribution: '&copy; <a href=\"https://www.openstreetmap.org/copyright\">OpenStreetMap</a> contributors'\n",
        "    }).addTo(map);\n",
        "\n",
        "    // 3. Fetch location data from our Flask API endpoint\n",
        "    fetch('/api/locations')\n",
        "        .then(response => response.json())\n",
        "        .then(locations => {\n",
        "            // 4. Add a marker for each location\n",
        "            locations.forEach(loc => {\n",
        "                if (loc.lat !== null && loc.lon !== null) {\n",
        "                    const marker = L.marker([loc.lat, loc.lon]).addTo(map);\n",
        "                    // Add a popup to the marker\n",
        "                    marker.bindPopup(`<b>City:</b> ${loc.city || 'Unknown'}`);\n",
        "                }\n",
        "            });\n",
        "        })\n",
        "        .catch(error => console.error('Error fetching location data:', error));\n",
        "</script>\n",
        "\n",
        "</body>\n",
        "</html>\n",
        "```\n",
        "\n",
        "### Project Structure\n",
        "\n",
        "Your final project should look like this:\n",
        "\n",
        "```\n",
        "/my-flask-app\n",
        "|-- app.py\n",
        "|-- locations.db      (will be created automatically)\n",
        "|-- GeoLite2-City.mmdb (if you use the local DB option)\n",
        "|-- /templates\n",
        "|   |-- map.html\n",
        "```\n",
        "\n",
        "-----\n",
        "\n",
        "## Final Steps & Considerations\n",
        "\n",
        "  * **Run the App:** Run your Flask app through Waitress/IIS. When users visit the main page (`/`), their location will be logged. When you visit `/map`, you'll see all the logged locations plotted.\n",
        "  * **Privacy ⚠️:** Be transparent with your users\\! IP geolocation is personally identifiable information (PII) in many jurisdictions (like under GDPR). **Always inform users** that you are collecting their location data and for what purpose. Consider anonymizing the data by slightly randomizing coordinates or only storing city-level data.\n",
        "  * **Accuracy:** IP geolocation is not always precise. It usually identifies the city or the location of the Internet Service Provider (ISP), not the user's exact street address."
      ],
      "metadata": {
        "id": "VCjp4GFJG1r1"
      }
    }
  ],
  "metadata": {
    "colab": {
      "provenance": [],
      "include_colab_link": true
    },
    "kernelspec": {
      "display_name": "Python 3",
      "name": "python3"
    }
  },
  "nbformat": 4,
  "nbformat_minor": 0
}